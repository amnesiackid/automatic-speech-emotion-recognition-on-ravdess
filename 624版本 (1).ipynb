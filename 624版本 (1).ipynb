{
  "cells": [
    {
      "cell_type": "markdown",
      "id": "77f69928-d579-451b-adef-70f159026195",
      "metadata": {
        "id": "77f69928-d579-451b-adef-70f159026195"
      },
      "source": [
        "### 配置相关环境"
      ]
    },
    {
      "cell_type": "markdown",
      "id": "5f931b25-7808-4fda-86c8-5298ea2ecee5",
      "metadata": {
        "id": "5f931b25-7808-4fda-86c8-5298ea2ecee5"
      },
      "source": [
        "!pip install -r requirement.txt"
      ]
    },
    {
      "cell_type": "code",
      "execution_count": 1,
      "id": "01afd08b-04b4-4ddf-8b7d-1a7c478b87ef",
      "metadata": {
        "id": "01afd08b-04b4-4ddf-8b7d-1a7c478b87ef"
      },
      "outputs": [],
      "source": [
        "import numpy as np\n",
        "import pandas as pd\n",
        "\n",
        "from pathlib import Path\n",
        "from tqdm import tqdm\n",
        "\n",
        "import torchaudio\n",
        "from sklearn.model_selection import train_test_split\n",
        "\n",
        "import librosa\n",
        "import IPython.display as ipd\n",
        "\n",
        "import os\n",
        "import sys"
      ]
    },
    {
      "cell_type": "markdown",
      "id": "ce5cce61-8bf8-41f3-8533-7e0f67b9ff40",
      "metadata": {
        "id": "ce5cce61-8bf8-41f3-8533-7e0f67b9ff40"
      },
      "source": [
        "### 确定文件路径，并采用单一特征向量进行学习"
      ]
    },
    {
      "cell_type": "code",
      "execution_count": 5,
      "id": "f4c28859-2573-44f3-9cfe-1d19806e1adc",
      "metadata": {
        "colab": {
          "base_uri": "https://localhost:8080/",
          "height": 211
        },
        "id": "f4c28859-2573-44f3-9cfe-1d19806e1adc",
        "outputId": "ffdbac99-c813-473c-9b64-2a70032c3e0d"
      },
      "outputs": [
        {
          "output_type": "error",
          "ename": "FileNotFoundError",
          "evalue": "[Errno 2] No such file or directory: 'content/drive/MyDrivedata/ravdess/Audio_Speech_Actors_01-24/Actor_20'",
          "traceback": [
            "\u001b[0;31m---------------------------------------------------------------------------\u001b[0m",
            "\u001b[0;31mFileNotFoundError\u001b[0m                         Traceback (most recent call last)",
            "\u001b[0;32m/tmp/ipython-input-5-247992431.py\u001b[0m in \u001b[0;36m<cell line: 0>\u001b[0;34m()\u001b[0m\n\u001b[1;32m      5\u001b[0m \u001b[0;32mfor\u001b[0m \u001b[0mdir\u001b[0m \u001b[0;32min\u001b[0m \u001b[0mravdess_directory_list\u001b[0m\u001b[0;34m:\u001b[0m\u001b[0;34m\u001b[0m\u001b[0;34m\u001b[0m\u001b[0m\n\u001b[1;32m      6\u001b[0m     \u001b[0;31m# as their are 20 different actors in our previous directory we need to extract files for each actor.\u001b[0m\u001b[0;34m\u001b[0m\u001b[0;34m\u001b[0m\u001b[0m\n\u001b[0;32m----> 7\u001b[0;31m     \u001b[0mactor\u001b[0m \u001b[0;34m=\u001b[0m \u001b[0mos\u001b[0m\u001b[0;34m.\u001b[0m\u001b[0mlistdir\u001b[0m\u001b[0;34m(\u001b[0m\u001b[0mos\u001b[0m\u001b[0;34m.\u001b[0m\u001b[0mpath\u001b[0m\u001b[0;34m.\u001b[0m\u001b[0mjoin\u001b[0m\u001b[0;34m(\u001b[0m\u001b[0;34m'content'\u001b[0m\u001b[0;34m,\u001b[0m \u001b[0;34m'drive'\u001b[0m\u001b[0;34m,\u001b[0m \u001b[0;34m'MyDrive'\u001b[0m \u001b[0;34m'data'\u001b[0m\u001b[0;34m,\u001b[0m \u001b[0;34m'ravdess'\u001b[0m\u001b[0;34m,\u001b[0m \u001b[0;34m'Audio_Speech_Actors_01-24'\u001b[0m\u001b[0;34m,\u001b[0m \u001b[0mdir\u001b[0m\u001b[0;34m)\u001b[0m\u001b[0;34m)\u001b[0m\u001b[0;34m\u001b[0m\u001b[0;34m\u001b[0m\u001b[0m\n\u001b[0m\u001b[1;32m      8\u001b[0m     \u001b[0;32mfor\u001b[0m \u001b[0mfile\u001b[0m \u001b[0;32min\u001b[0m \u001b[0mactor\u001b[0m\u001b[0;34m:\u001b[0m\u001b[0;34m\u001b[0m\u001b[0;34m\u001b[0m\u001b[0m\n\u001b[1;32m      9\u001b[0m         \u001b[0mpart\u001b[0m \u001b[0;34m=\u001b[0m \u001b[0mfile\u001b[0m\u001b[0;34m.\u001b[0m\u001b[0msplit\u001b[0m\u001b[0;34m(\u001b[0m\u001b[0;34m'.'\u001b[0m\u001b[0;34m)\u001b[0m\u001b[0;34m[\u001b[0m\u001b[0;36m0\u001b[0m\u001b[0;34m]\u001b[0m\u001b[0;34m\u001b[0m\u001b[0;34m\u001b[0m\u001b[0m\n",
            "\u001b[0;31mFileNotFoundError\u001b[0m: [Errno 2] No such file or directory: 'content/drive/MyDrivedata/ravdess/Audio_Speech_Actors_01-24/Actor_20'"
          ]
        }
      ],
      "source": [
        "ravdess_directory_list = os.listdir('data/ravdess/Audio_Speech_Actors_01-24')\n",
        "\n",
        "file_emotion = [] # emotion和path\n",
        "file_path = []\n",
        "for dir in ravdess_directory_list:\n",
        "    # as their are 20 different actors in our previous directory we need to extract files for each actor.\n",
        "    actor = os.listdir(os.path.join('data', 'ravdess', 'Audio_Speech_Actors_01-24', dir))\n",
        "    for file in actor:\n",
        "        part = file.split('.')[0]\n",
        "        part = part.split('-')\n",
        "        # third part in each file represents the emotion associated to that file.\n",
        "        file_emotion.append(int(part[2]))\n",
        "        file_path.append('data/ravdess/Audio_Speech_Actors_01-24' + dir + '/' + file)\n",
        "\n",
        "# dataframe for emotion of files\n",
        "emotion_df = pd.DataFrame(file_emotion, columns=['Emotions'])\n",
        "\n",
        "# dataframe for path of files.\n",
        "path_df = pd.DataFrame(file_path, columns=['Path'])\n",
        "Ravdess_df = pd.concat([emotion_df, path_df], axis=1)\n",
        "\n",
        "# changing integers to actual emotions.\n",
        "Ravdess_df.Emotions.replace({1:'neutral', 2:'calm', 3:'happy', 4:'sad', 5:'angry', 6:'fear', 7:'disgust', 8:'surprise'}, inplace=True)\n",
        "Ravdess_df.head(20)"
      ]
    },
    {
      "cell_type": "code",
      "execution_count": null,
      "id": "246581d3-3811-49b7-8583-27900387ef52",
      "metadata": {
        "id": "246581d3-3811-49b7-8583-27900387ef52",
        "outputId": "866b4428-8b3a-4414-edd6-219ce3938cd5"
      },
      "outputs": [
        {
          "name": "stderr",
          "output_type": "stream",
          "text": [
            "1440it [00:02, 527.07it/s]\n"
          ]
        },
        {
          "data": {
            "text/html": [
              "<div>\n",
              "<style scoped>\n",
              "    .dataframe tbody tr th:only-of-type {\n",
              "        vertical-align: middle;\n",
              "    }\n",
              "\n",
              "    .dataframe tbody tr th {\n",
              "        vertical-align: top;\n",
              "    }\n",
              "\n",
              "    .dataframe thead th {\n",
              "        text-align: right;\n",
              "    }\n",
              "</style>\n",
              "<table border=\"1\" class=\"dataframe\">\n",
              "  <thead>\n",
              "    <tr style=\"text-align: right;\">\n",
              "      <th></th>\n",
              "      <th>emotion</th>\n",
              "      <th>path</th>\n",
              "    </tr>\n",
              "  </thead>\n",
              "  <tbody>\n",
              "    <tr>\n",
              "      <th>0</th>\n",
              "      <td>fear</td>\n",
              "      <td>data/ravdess/Audio_Speech_Actors_01-24/Actor_0...</td>\n",
              "    </tr>\n",
              "    <tr>\n",
              "      <th>1</th>\n",
              "      <td>neutral</td>\n",
              "      <td>data/ravdess/Audio_Speech_Actors_01-24/Actor_0...</td>\n",
              "    </tr>\n",
              "    <tr>\n",
              "      <th>2</th>\n",
              "      <td>fear</td>\n",
              "      <td>data/ravdess/Audio_Speech_Actors_01-24/Actor_0...</td>\n",
              "    </tr>\n",
              "    <tr>\n",
              "      <th>3</th>\n",
              "      <td>neutral</td>\n",
              "      <td>data/ravdess/Audio_Speech_Actors_01-24/Actor_0...</td>\n",
              "    </tr>\n",
              "    <tr>\n",
              "      <th>4</th>\n",
              "      <td>fear</td>\n",
              "      <td>data/ravdess/Audio_Speech_Actors_01-24/Actor_0...</td>\n",
              "    </tr>\n",
              "    <tr>\n",
              "      <th>5</th>\n",
              "      <td>neutral</td>\n",
              "      <td>data/ravdess/Audio_Speech_Actors_01-24/Actor_0...</td>\n",
              "    </tr>\n",
              "    <tr>\n",
              "      <th>6</th>\n",
              "      <td>disgust</td>\n",
              "      <td>data/ravdess/Audio_Speech_Actors_01-24/Actor_0...</td>\n",
              "    </tr>\n",
              "    <tr>\n",
              "      <th>7</th>\n",
              "      <td>neutral</td>\n",
              "      <td>data/ravdess/Audio_Speech_Actors_01-24/Actor_0...</td>\n",
              "    </tr>\n",
              "    <tr>\n",
              "      <th>8</th>\n",
              "      <td>disgust</td>\n",
              "      <td>data/ravdess/Audio_Speech_Actors_01-24/Actor_0...</td>\n",
              "    </tr>\n",
              "    <tr>\n",
              "      <th>9</th>\n",
              "      <td>calm</td>\n",
              "      <td>data/ravdess/Audio_Speech_Actors_01-24/Actor_0...</td>\n",
              "    </tr>\n",
              "    <tr>\n",
              "      <th>10</th>\n",
              "      <td>disgust</td>\n",
              "      <td>data/ravdess/Audio_Speech_Actors_01-24/Actor_0...</td>\n",
              "    </tr>\n",
              "    <tr>\n",
              "      <th>11</th>\n",
              "      <td>calm</td>\n",
              "      <td>data/ravdess/Audio_Speech_Actors_01-24/Actor_0...</td>\n",
              "    </tr>\n",
              "    <tr>\n",
              "      <th>12</th>\n",
              "      <td>disgust</td>\n",
              "      <td>data/ravdess/Audio_Speech_Actors_01-24/Actor_0...</td>\n",
              "    </tr>\n",
              "    <tr>\n",
              "      <th>13</th>\n",
              "      <td>calm</td>\n",
              "      <td>data/ravdess/Audio_Speech_Actors_01-24/Actor_0...</td>\n",
              "    </tr>\n",
              "    <tr>\n",
              "      <th>14</th>\n",
              "      <td>surprise</td>\n",
              "      <td>data/ravdess/Audio_Speech_Actors_01-24/Actor_0...</td>\n",
              "    </tr>\n",
              "    <tr>\n",
              "      <th>15</th>\n",
              "      <td>calm</td>\n",
              "      <td>data/ravdess/Audio_Speech_Actors_01-24/Actor_0...</td>\n",
              "    </tr>\n",
              "    <tr>\n",
              "      <th>16</th>\n",
              "      <td>surprise</td>\n",
              "      <td>data/ravdess/Audio_Speech_Actors_01-24/Actor_0...</td>\n",
              "    </tr>\n",
              "    <tr>\n",
              "      <th>17</th>\n",
              "      <td>calm</td>\n",
              "      <td>data/ravdess/Audio_Speech_Actors_01-24/Actor_0...</td>\n",
              "    </tr>\n",
              "    <tr>\n",
              "      <th>18</th>\n",
              "      <td>surprise</td>\n",
              "      <td>data/ravdess/Audio_Speech_Actors_01-24/Actor_0...</td>\n",
              "    </tr>\n",
              "    <tr>\n",
              "      <th>19</th>\n",
              "      <td>calm</td>\n",
              "      <td>data/ravdess/Audio_Speech_Actors_01-24/Actor_0...</td>\n",
              "    </tr>\n",
              "  </tbody>\n",
              "</table>\n",
              "</div>"
            ],
            "text/plain": [
              "     emotion                                               path\n",
              "0       fear  data/ravdess/Audio_Speech_Actors_01-24/Actor_0...\n",
              "1    neutral  data/ravdess/Audio_Speech_Actors_01-24/Actor_0...\n",
              "2       fear  data/ravdess/Audio_Speech_Actors_01-24/Actor_0...\n",
              "3    neutral  data/ravdess/Audio_Speech_Actors_01-24/Actor_0...\n",
              "4       fear  data/ravdess/Audio_Speech_Actors_01-24/Actor_0...\n",
              "5    neutral  data/ravdess/Audio_Speech_Actors_01-24/Actor_0...\n",
              "6    disgust  data/ravdess/Audio_Speech_Actors_01-24/Actor_0...\n",
              "7    neutral  data/ravdess/Audio_Speech_Actors_01-24/Actor_0...\n",
              "8    disgust  data/ravdess/Audio_Speech_Actors_01-24/Actor_0...\n",
              "9       calm  data/ravdess/Audio_Speech_Actors_01-24/Actor_0...\n",
              "10   disgust  data/ravdess/Audio_Speech_Actors_01-24/Actor_0...\n",
              "11      calm  data/ravdess/Audio_Speech_Actors_01-24/Actor_0...\n",
              "12   disgust  data/ravdess/Audio_Speech_Actors_01-24/Actor_0...\n",
              "13      calm  data/ravdess/Audio_Speech_Actors_01-24/Actor_0...\n",
              "14  surprise  data/ravdess/Audio_Speech_Actors_01-24/Actor_0...\n",
              "15      calm  data/ravdess/Audio_Speech_Actors_01-24/Actor_0...\n",
              "16  surprise  data/ravdess/Audio_Speech_Actors_01-24/Actor_0...\n",
              "17      calm  data/ravdess/Audio_Speech_Actors_01-24/Actor_0...\n",
              "18  surprise  data/ravdess/Audio_Speech_Actors_01-24/Actor_0...\n",
              "19      calm  data/ravdess/Audio_Speech_Actors_01-24/Actor_0..."
            ]
          },
          "execution_count": 108,
          "metadata": {},
          "output_type": "execute_result"
        }
      ],
      "source": [
        "data = []\n",
        "emotion_map = {\n",
        "    '01': 'neutral',\n",
        "    '02': 'calm',\n",
        "    '03': 'happy',\n",
        "    '04': 'sad',\n",
        "    '05': 'angry',\n",
        "    '06': 'fear',\n",
        "    '07': 'disgust',\n",
        "    '08': 'surprise'\n",
        "}\n",
        "# intensity_map = {\n",
        "#     '01': 'normal',\n",
        "#     '02': 'strong'\n",
        "# }\n",
        "for path in tqdm(Path(\"data/ravdess/Audio_Speech_Actors_01-24\").glob(\"**/*.wav\")):\n",
        "\n",
        "    identifiers = (str(path).split('.')[0]).split('/')[-1]\n",
        "    label = identifiers .split('-')[2] #why not 2?\n",
        "    # intensity = identifiers .split('-')[4]\n",
        "    try:\n",
        "        # There are some broken files\n",
        "        s = torchaudio.load(path)\n",
        "        data.append({\n",
        "            \"emotion\": emotion_map[label],\n",
        "            # \"intensity\": intensity_map[intensity],\n",
        "            \"path\": path\n",
        "        })\n",
        "    except Exception as e:\n",
        "        # print(str(path), e)\n",
        "        pass\n",
        "df = pd.DataFrame(data)\n",
        "df.head(20)"
      ]
    },
    {
      "cell_type": "code",
      "execution_count": null,
      "id": "50bcc378-2c8e-48e0-8c73-3b0ed1ce6540",
      "metadata": {
        "id": "50bcc378-2c8e-48e0-8c73-3b0ed1ce6540",
        "outputId": "f5128338-c784-4b6e-e1fc-ac1be0122dec"
      },
      "outputs": [
        {
          "name": "stdout",
          "output_type": "stream",
          "text": [
            "ID Location: 1126\n",
            "      Label: angry\n",
            "\n"
          ]
        },
        {
          "data": {
            "text/html": [
              "\n",
              "                <audio  controls=\"controls\" autoplay=\"autoplay\">\n",
              "                    <source src=\"data:audio/wav;base64,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\" type=\"audio/wav\" />\n",
              "                    Your browser does not support the audio element.\n",
              "                </audio>\n",
              "              "
            ],
            "text/plain": [
              "<IPython.lib.display.Audio object>"
            ]
          },
          "execution_count": 109,
          "metadata": {},
          "output_type": "execute_result"
        }
      ],
      "source": [
        "idx = np.random.randint(0, len(df))\n",
        "sample = df.iloc[idx]\n",
        "path = sample[\"path\"]\n",
        "label = sample[\"emotion\"]\n",
        "\n",
        "\n",
        "print(f\"ID Location: {idx}\")\n",
        "print(f\"      Label: {label}\")\n",
        "print()\n",
        "\n",
        "# It returns a tensor (waveform, sample_rate)\n",
        "# containing waveform samples and an integer sample rate (sr).\n",
        "speech, sr = torchaudio.load(path)\n",
        "# waveform is a tensor of shape (channels, samples)\n",
        "# speech[0] returns channel\n",
        "speech = speech[0].numpy().squeeze()\n",
        "\n",
        "# change the sampling rate from its original sr to 16 kHz.\n",
        "# wav2vec expects 16 kHz audio.\n",
        "speech = librosa.resample(y=speech, orig_sr=sr, target_sr=16_000)\n",
        "\n",
        "# wraps the resulting NumPy array into an IPython display object\n",
        "ipd.Audio(data=np.asarray(speech), autoplay=True, rate=16000)"
      ]
    },
    {
      "cell_type": "code",
      "execution_count": null,
      "id": "7a288273-fe58-4a95-a5d5-76bcc368756c",
      "metadata": {
        "id": "7a288273-fe58-4a95-a5d5-76bcc368756c",
        "outputId": "8d409749-867b-4296-90dd-c2e22444c082"
      },
      "outputs": [
        {
          "name": "stdout",
          "output_type": "stream",
          "text": [
            "(1152, 2)\n",
            "(288, 2)\n"
          ]
        }
      ],
      "source": [
        "save_path = \"data/split_data\"\n",
        "Path(save_path).mkdir(parents=True, exist_ok=True)\n",
        "\n",
        "train_df, test_df = train_test_split(df, test_size=0.2, random_state=101, stratify=df[\"emotion\"])\n",
        "\n",
        "train_df = train_df.reset_index(drop=True)\n",
        "test_df = test_df.reset_index(drop=True)\n",
        "\n",
        "train_df.to_csv(f\"{save_path}/train.csv\", sep=\"\\t\", encoding=\"utf-8\", index=False)\n",
        "test_df.to_csv(f\"{save_path}/test.csv\", sep=\"\\t\", encoding=\"utf-8\", index=False)\n",
        "\n",
        "\n",
        "print(train_df.shape)\n",
        "print(test_df.shape)"
      ]
    },
    {
      "cell_type": "code",
      "execution_count": null,
      "id": "85b88531-6187-47c7-8a30-294a75cd3118",
      "metadata": {
        "colab": {
          "referenced_widgets": [
            "c2030f44b33c4b019fc0994fe4fc151d",
            "46a3d2d435fb4f4abd30ca7f7d2510c7"
          ]
        },
        "id": "85b88531-6187-47c7-8a30-294a75cd3118",
        "outputId": "f056f31d-048e-49cf-d064-dc4314d9a607"
      },
      "outputs": [
        {
          "data": {
            "application/vnd.jupyter.widget-view+json": {
              "model_id": "c2030f44b33c4b019fc0994fe4fc151d",
              "version_major": 2,
              "version_minor": 0
            },
            "text/plain": [
              "Generating train split: 0 examples [00:00, ? examples/s]"
            ]
          },
          "metadata": {},
          "output_type": "display_data"
        },
        {
          "data": {
            "application/vnd.jupyter.widget-view+json": {
              "model_id": "46a3d2d435fb4f4abd30ca7f7d2510c7",
              "version_major": 2,
              "version_minor": 0
            },
            "text/plain": [
              "Generating validation split: 0 examples [00:00, ? examples/s]"
            ]
          },
          "metadata": {},
          "output_type": "display_data"
        },
        {
          "name": "stdout",
          "output_type": "stream",
          "text": [
            "Dataset({\n",
            "    features: ['emotion', 'path'],\n",
            "    num_rows: 1152\n",
            "})\n",
            "Dataset({\n",
            "    features: ['emotion', 'path'],\n",
            "    num_rows: 288\n",
            "})\n"
          ]
        }
      ],
      "source": [
        "from datasets import load_dataset\n",
        "\n",
        "\n",
        "data_files = {\n",
        "    \"train\": \"data/split_data/train.csv\",\n",
        "    \"validation\": \"data/split_data/test.csv\",\n",
        "}\n",
        "\n",
        "dataset = load_dataset(\"csv\", data_files=data_files, delimiter=\"\\t\", )\n",
        "train_dataset = dataset[\"train\"]\n",
        "eval_dataset = dataset[\"validation\"]\n",
        "\n",
        "print(train_dataset)\n",
        "print(eval_dataset)"
      ]
    },
    {
      "cell_type": "code",
      "execution_count": null,
      "id": "59323222-d728-453c-8e40-0434a602938b",
      "metadata": {
        "id": "59323222-d728-453c-8e40-0434a602938b"
      },
      "outputs": [],
      "source": [
        "input_column  = \"path\"\n",
        "# output_columns = [\"emotion\", \"speaker_id\"]\n",
        "output_column = 'emotion'"
      ]
    },
    {
      "cell_type": "code",
      "execution_count": null,
      "id": "f51963e4-fb8e-4bbd-b133-6e18f9647bf9",
      "metadata": {
        "id": "f51963e4-fb8e-4bbd-b133-6e18f9647bf9",
        "outputId": "83728b4c-86cb-4eb5-99a2-46e1ceea2e20"
      },
      "outputs": [
        {
          "name": "stdout",
          "output_type": "stream",
          "text": [
            "A classification problem with 8 emotions: ['angry', 'calm', 'disgust', 'fear', 'happy', 'neutral', 'sad', 'surprise']\n"
          ]
        }
      ],
      "source": [
        "emotion_list = train_dataset.unique(\"emotion\")\n",
        "emotion_list.sort()  # Let's sort it for determinism\n",
        "num_emotions = len(emotion_list)\n",
        "print(f\"A classification problem with {num_emotions} emotions: {emotion_list}\")\n",
        "# intensity_list = train_dataset.unique(\"intensity\")\n",
        "# intensity_list.sort()\n",
        "# num_intensity = len(intensity_list)\n",
        "# print(f\"A multi-task classification problem with {num_emotions} emotions: {emotion_list} and {num_intensity} intensity levels: {intensity_list}\")"
      ]
    },
    {
      "cell_type": "markdown",
      "id": "28dbdd2d-aca4-47a5-8f5b-fa7be3c0b671",
      "metadata": {
        "id": "28dbdd2d-aca4-47a5-8f5b-fa7be3c0b671"
      },
      "source": [
        "### 确定8种情绪分类"
      ]
    },
    {
      "cell_type": "code",
      "execution_count": null,
      "id": "816fc1ff-c62b-4827-a2fa-79181216e2a7",
      "metadata": {
        "id": "816fc1ff-c62b-4827-a2fa-79181216e2a7",
        "outputId": "610d2ef2-0140-4088-a4bd-2bc7176d9edb"
      },
      "outputs": [
        {
          "name": "stdout",
          "output_type": "stream",
          "text": [
            "Looking in indexes: http://mirrors.aliyun.com/pypi/simple\n",
            "Requirement already satisfied: transformers in ./miniconda3/lib/python3.8/site-packages (4.37.0)\n",
            "Requirement already satisfied: huggingface-hub<1.0,>=0.19.3 in ./miniconda3/lib/python3.8/site-packages (from transformers) (0.33.0)\n",
            "Requirement already satisfied: requests in ./miniconda3/lib/python3.8/site-packages (from transformers) (2.32.4)\n",
            "Requirement already satisfied: filelock in ./miniconda3/lib/python3.8/site-packages (from transformers) (3.16.1)\n",
            "Requirement already satisfied: pyyaml>=5.1 in ./miniconda3/lib/python3.8/site-packages (from transformers) (6.0.2)\n",
            "Requirement already satisfied: numpy>=1.17 in ./miniconda3/lib/python3.8/site-packages (from transformers) (1.22.4)\n",
            "Requirement already satisfied: regex!=2019.12.17 in ./miniconda3/lib/python3.8/site-packages (from transformers) (2024.11.6)\n",
            "Requirement already satisfied: packaging>=20.0 in ./miniconda3/lib/python3.8/site-packages (from transformers) (21.3)\n",
            "Requirement already satisfied: tokenizers<0.19,>=0.14 in ./miniconda3/lib/python3.8/site-packages (from transformers) (0.15.2)\n",
            "Requirement already satisfied: safetensors>=0.3.1 in ./miniconda3/lib/python3.8/site-packages (from transformers) (0.5.3)\n",
            "Requirement already satisfied: tqdm>=4.27 in ./miniconda3/lib/python3.8/site-packages (from transformers) (4.66.3)\n",
            "Requirement already satisfied: hf-xet<2.0.0,>=1.1.2 in ./miniconda3/lib/python3.8/site-packages (from huggingface-hub<1.0,>=0.19.3->transformers) (1.1.5)\n",
            "Requirement already satisfied: typing-extensions>=3.7.4.3 in ./miniconda3/lib/python3.8/site-packages (from huggingface-hub<1.0,>=0.19.3->transformers) (4.2.0)\n",
            "Requirement already satisfied: fsspec>=2023.5.0 in ./miniconda3/lib/python3.8/site-packages (from huggingface-hub<1.0,>=0.19.3->transformers) (2024.9.0)\n",
            "Requirement already satisfied: pyparsing!=3.0.5,>=2.0.2 in ./miniconda3/lib/python3.8/site-packages (from packaging>=20.0->transformers) (3.0.9)\n",
            "Requirement already satisfied: urllib3<3,>=1.21.1 in ./miniconda3/lib/python3.8/site-packages (from requests->transformers) (1.26.6)\n",
            "Requirement already satisfied: idna<4,>=2.5 in ./miniconda3/lib/python3.8/site-packages (from requests->transformers) (2.10)\n",
            "Requirement already satisfied: charset_normalizer<4,>=2 in ./miniconda3/lib/python3.8/site-packages (from requests->transformers) (3.4.2)\n",
            "Requirement already satisfied: certifi>=2017.4.17 in ./miniconda3/lib/python3.8/site-packages (from requests->transformers) (2021.5.30)\n",
            "\u001b[33mWARNING: Running pip as the 'root' user can result in broken permissions and conflicting behaviour with the system package manager. It is recommended to use a virtual environment instead: https://pip.pypa.io/warnings/venv\u001b[0m\n"
          ]
        }
      ],
      "source": [
        "!pip install transformers"
      ]
    },
    {
      "cell_type": "code",
      "execution_count": null,
      "id": "389daf3a-7d38-477a-a0b3-a5d6cc1f7fb7",
      "metadata": {
        "id": "389daf3a-7d38-477a-a0b3-a5d6cc1f7fb7"
      },
      "outputs": [],
      "source": [
        "from transformers import AutoConfig, Wav2Vec2Processor"
      ]
    },
    {
      "cell_type": "code",
      "execution_count": null,
      "id": "31f640b1-f32e-40a6-a9c5-c8e0d83a13a8",
      "metadata": {
        "id": "31f640b1-f32e-40a6-a9c5-c8e0d83a13a8"
      },
      "outputs": [],
      "source": [
        "# 本地加载路径！\n",
        "model_name_or_path = \"wav2vec2-base-960h\"\n",
        "pooling_mode = \"mean\""
      ]
    },
    {
      "cell_type": "code",
      "execution_count": null,
      "id": "c82f7263-4398-4c5a-918d-b279be2631a0",
      "metadata": {
        "id": "c82f7263-4398-4c5a-918d-b279be2631a0",
        "outputId": "2c56e04d-42f6-4dfe-a648-5c6d54a5ccac"
      },
      "outputs": [
        {
          "name": "stdout",
          "output_type": "stream",
          "text": [
            "情感标签到 ID 的映射 (emotion_label2id):\n",
            "{'angry': 0, 'calm': 1, 'disgust': 2, 'fear': 3, 'happy': 4, 'neutral': 5, 'sad': 6, 'surprise': 7}\n",
            "{0: 'angry', 1: 'calm', 2: 'disgust', 3: 'fear', 4: 'happy', 5: 'neutral', 6: 'sad', 7: 'surprise'}\n"
          ]
        }
      ],
      "source": [
        "# 假设的情感标签列表和强度标签列表，实际使用时替换为真实数据\n",
        "emotion_list = [\"angry\", \"calm\", \"disgust\", \"fear\", \"happy\", \"neutral\", \"sad\", \"surprise\"]\n",
        "# intensity_list = [\"normal\", \"strong\"]\n",
        "\n",
        "# Create separate label mappings for each task\n",
        "emotion_label2id = {label: i for i, label in enumerate(emotion_list)}\n",
        "emotion_id2label = {i: label for i, label in enumerate(emotion_list)}\n",
        "\n",
        "# intensity_label2id = {label: i for i, label in enumerate(intensity_list)}\n",
        "# intensity_id2label = {i: label for i, label in enumerate(intensity_list)}\n",
        "\n",
        "# 打印情感标签映射字典\n",
        "print(\"情感标签到 ID 的映射 (emotion_label2id):\")\n",
        "print(emotion_label2id)\n",
        "print(emotion_id2label)\n",
        "\n",
        "\n",
        "# # 打印强度标签映射字典\n",
        "# print(\"强度标签到 ID 的映射 (intensity_label2id):\")\n",
        "# print(intensity_label2id)"
      ]
    },
    {
      "cell_type": "code",
      "execution_count": null,
      "id": "a224eb18-e118-4c90-ac58-37280993a4d6",
      "metadata": {
        "id": "a224eb18-e118-4c90-ac58-37280993a4d6"
      },
      "outputs": [],
      "source": [
        "# config\n",
        "# loading all the default hyperparameters and architecture settings\n",
        "# from a pre-trained Wav2Vec2 checkpoint\n",
        "config = AutoConfig.from_pretrained(\n",
        "    model_name_or_path,\n",
        "    num_emotion_labels=num_emotions,\n",
        "    # num_intensity_labels=num_intensity,\n",
        "    emotion_label2id=emotion_label2id,\n",
        "    emotion_id2label=emotion_id2label,\n",
        "    # intensity_label2id=intensity_label2id,\n",
        "    # intensity_id2label=intensity_id2label,\n",
        "    finetuning_task=\"wav2vec2_clf\",\n",
        ")\n",
        "setattr(config, 'pooling_mode', pooling_mode)"
      ]
    },
    {
      "cell_type": "code",
      "execution_count": null,
      "id": "337e4019-b330-4b00-82db-cd188829e775",
      "metadata": {
        "id": "337e4019-b330-4b00-82db-cd188829e775",
        "outputId": "af51ed58-7529-4a1f-c650-3f90e9af4a06"
      },
      "outputs": [
        {
          "name": "stdout",
          "output_type": "stream",
          "text": [
            "The target sampling rate: 16000\n"
          ]
        }
      ],
      "source": [
        "# 采样率\n",
        "processor = Wav2Vec2Processor.from_pretrained(model_name_or_path,)\n",
        "target_sampling_rate = processor.feature_extractor.sampling_rate\n",
        "print(f\"The target sampling rate: {target_sampling_rate}\")"
      ]
    },
    {
      "cell_type": "markdown",
      "id": "8dcb6bc1-46a0-4a2e-892f-87d96bd9154a",
      "metadata": {
        "id": "8dcb6bc1-46a0-4a2e-892f-87d96bd9154a"
      },
      "source": [
        "### 数据预处理"
      ]
    },
    {
      "cell_type": "code",
      "execution_count": null,
      "id": "e5b424f4-fecb-4369-8f9e-00e04d869019",
      "metadata": {
        "colab": {
          "referenced_widgets": [
            "a7dc18f469104a31b2dcf71eb1d78bbd",
            "5d0fc19fa36c43e1ba142e7159c9c9d6"
          ]
        },
        "id": "e5b424f4-fecb-4369-8f9e-00e04d869019",
        "outputId": "dfd3d057-2469-4c71-c685-14910a1520c0"
      },
      "outputs": [
        {
          "data": {
            "application/vnd.jupyter.widget-view+json": {
              "model_id": "a7dc18f469104a31b2dcf71eb1d78bbd",
              "version_major": 2,
              "version_minor": 0
            },
            "text/plain": [
              "Map:   0%|          | 0/1152 [00:00<?, ? examples/s]"
            ]
          },
          "metadata": {},
          "output_type": "display_data"
        },
        {
          "data": {
            "application/vnd.jupyter.widget-view+json": {
              "model_id": "5d0fc19fa36c43e1ba142e7159c9c9d6",
              "version_major": 2,
              "version_minor": 0
            },
            "text/plain": [
              "Map:   0%|          | 0/288 [00:00<?, ? examples/s]"
            ]
          },
          "metadata": {},
          "output_type": "display_data"
        }
      ],
      "source": [
        "import numpy as np\n",
        "import torchaudio\n",
        "from datasets import Dataset\n",
        "\n",
        "def speech_file_to_array_fn(path):\n",
        "    try:\n",
        "        # 1. 加载音频文件前检查文件存在性（需导入os）\n",
        "        import os\n",
        "        if not os.path.exists(path):\n",
        "            print(f\"File not found: {path}\")\n",
        "            return np.zeros(1000)  # 返回默认数组，是numpy数组类型\n",
        "\n",
        "        # 2. 加载音频文件\n",
        "        speech_array, sampling_rate = torchaudio.load(path)\n",
        "\n",
        "        # 3. 检查音频数据是否为空\n",
        "        if speech_array.numel() == 0:\n",
        "            print(f\"Empty audio data: {path}\")\n",
        "            return np.zeros(1000)  # numpy数组类型\n",
        "\n",
        "        # 4. 检查音频维度和长度\n",
        "        if speech_array.dim() < 2:\n",
        "            print(f\"Invalid audio dimensions: {path}, dim={speech_array.dim()}\")\n",
        "            return np.zeros(1000)  # numpy数组类型\n",
        "\n",
        "        # 5. 确保音频是单声道\n",
        "        if speech_array.shape[0] > 1:\n",
        "            speech_array = torch.mean(speech_array, dim=0, keepdim=True)\n",
        "\n",
        "        # 6. 检查重采样前的音频长度\n",
        "        original_length = speech_array.shape[1]\n",
        "        if original_length == 0:\n",
        "            print(f\"Zero-length audio: {path}\")\n",
        "            return np.zeros(1000)  # numpy数组类型\n",
        "\n",
        "        # 7. 重采样\n",
        "        resampler = torchaudio.transforms.Resample(sampling_rate, target_sampling_rate)\n",
        "        speech = resampler(speech_array).squeeze().numpy()\n",
        "\n",
        "        # 8. 检查重采样后的音频长度\n",
        "        if len(speech) == 0:\n",
        "            print(f\"Zero-length audio after resampling: {path}\")\n",
        "            return np.zeros(1000)  # numpy数组类型\n",
        "\n",
        "        return speech  # 正常情况返回的也是numpy数组类型\n",
        "\n",
        "    except torchaudio.exceptions.TorchaudioError as te:\n",
        "        print(f\"Torchaudio format error in {path}: {te}\")\n",
        "        return np.zeros(1000)  # numpy数组类型\n",
        "    except Exception as e:\n",
        "        print(f\"General error processing {path}: {e}\")\n",
        "        return np.zeros(1000)  # numpy数组类型\n",
        "\n",
        "def label_to_id(label, emotion_list):\n",
        "    if len(emotion_list) > 0:\n",
        "        return emotion_list.index(label) if label in emotion_list else -1\n",
        "    return label\n",
        "\n",
        "# def preprocess_function(examples): # 必须保证是二维的（着重修改！）\n",
        "#     # 处理音频\n",
        "#     speech_list = []\n",
        "#     for path in examples[input_column]:\n",
        "#         speech = speech_file_to_array_fn(path)\n",
        "#         # 移除 flatten：保持 2 维或显式转为 2 维\n",
        "#         if speech.ndim == 1:\n",
        "#             speech = speech[np.newaxis, :]  # 转为 [1, sequence_length]\n",
        "#         speech_list.append(speech)\n",
        "\n",
        "#     # 处理标签\n",
        "#     target_list = [label_to_id(label, emotion_list) for label in examples[output_column]]\n",
        "\n",
        "#     # 处理音频特征\n",
        "#     result = processor(\n",
        "#         speech_list,\n",
        "#         sampling_rate=target_sampling_rate,\n",
        "#         padding=\"max_length\",\n",
        "#         max_length=160000,\n",
        "#         truncation=True,\n",
        "#         return_attention_mask=True\n",
        "#     )\n",
        "\n",
        "#     result[\"labels\"] = list(target_list)\n",
        "#     return result\n",
        "def preprocess_function(examples):\n",
        "    speech_list = []\n",
        "    for path in examples[input_column]:\n",
        "        speech = speech_file_to_array_fn(path)\n",
        "        print(speech)\n",
        "\n",
        "        # 确保音频是二维数组 [1, sequence_length]\n",
        "        if speech.ndim == 1:\n",
        "            speech = speech[np.newaxis, :]  # 添加通道维度\n",
        "\n",
        "        speech_list.append(speech)  # 这里应该是NumPy数组列表\n",
        "\n",
        "    # 处理音频特征\n",
        "    result = processor(\n",
        "        speech_list,  # 传递NumPy数组列表\n",
        "        sampling_rate=target_sampling_rate,\n",
        "        padding=\"max_length\",\n",
        "        max_length=160000,\n",
        "        truncation=True,\n",
        "        return_attention_mask=True\n",
        "    )\n",
        "\n",
        "    result[\"labels\"] = [label_to_id(label, emotion_list) for label in examples[output_column]]\n",
        "    return result\n",
        "\n",
        "# 增强版预处理函数，添加批次级异常统计\n",
        "def preprocess_function_with_stats(examples):\n",
        "    # 处理音频并收集异常信息\n",
        "    speech_list = []\n",
        "    path_errors = []\n",
        "    for path in examples[input_column]:\n",
        "        speech = speech_file_to_array_fn(path)\n",
        "        if np.all(speech == 0):  # 检查是否返回了默认空数组\n",
        "            path_errors.append(path)\n",
        "        speech_list.append(speech)\n",
        "\n",
        "    # 打印批次中的异常文件\n",
        "    if path_errors:\n",
        "        print(f\"Batch errors: {len(path_errors)}/{len(examples[input_column])} files\")\n",
        "        print(f\"Error paths: {path_errors[:5]} (total {len(path_errors)})\")\n",
        "\n",
        "    # 处理标签\n",
        "    target_list = [label_to_id(label, emotion_list) for label in examples[output_column]]\n",
        "\n",
        "    # 处理音频特征\n",
        "    result = processor(\n",
        "        speech_list,\n",
        "        sampling_rate=target_sampling_rate,\n",
        "        padding=\"max_length\",\n",
        "        max_length=160000,\n",
        "        truncation=True,\n",
        "        return_attention_mask=True\n",
        "    )\n",
        "\n",
        "    result[\"labels\"] = list(target_list)\n",
        "    return result\n",
        "\n",
        "# 处理训练集，使用增强版预处理函数\n",
        "train_dataset = train_dataset.map(\n",
        "    preprocess_function_with_stats,\n",
        "    batch_size=100,\n",
        "    batched=True,\n",
        "    # num_proc=4  # 暂时禁用多进程，便于调试\n",
        ")\n",
        "\n",
        "# 处理评估集\n",
        "eval_dataset = eval_dataset.map(\n",
        "    preprocess_function_with_stats,\n",
        "    batch_size=100,\n",
        "    batched=True,\n",
        "    # num_proc=4  # 暂时禁用多进程，便于调试\n",
        ")"
      ]
    },
    {
      "cell_type": "code",
      "execution_count": null,
      "id": "77783003-5953-488d-894f-2aeee3546c5e",
      "metadata": {
        "id": "77783003-5953-488d-894f-2aeee3546c5e",
        "outputId": "2dc13f5a-4196-42b2-a7ab-165b5e596e51"
      },
      "outputs": [
        {
          "name": "stdout",
          "output_type": "stream",
          "text": [
            "Filesystem      Size  Used Avail Use% Mounted on\n",
            "overlay          30G   30G  348M  99% /\n",
            "/dev/md0        7.0T  6.4T  676G  91% /autodl-pub\n",
            "AutoFS:fs1       10T  4.4T  5.7T  44% /autodl-pub/data\n",
            "tmpfs            64M     0   64M   0% /dev\n",
            "shm              60G  4.0K   60G   1% /dev/shm\n",
            "/dev/sda2       438G   20G  396G   5% /usr/bin/nvidia-smi\n",
            "tmpfs           504G   12K  504G   1% /proc/driver/nvidia\n",
            "tmpfs           504G  4.0K  504G   1% /etc/nvidia/nvidia-application-profiles-rc.d\n",
            "udev            504G     0  504G   0% /dev/nvidia1\n",
            "tmpfs           504G     0  504G   0% /proc/asound\n",
            "tmpfs           504G     0  504G   0% /proc/acpi\n",
            "tmpfs           504G     0  504G   0% /proc/scsi\n",
            "tmpfs           504G     0  504G   0% /sys/firmware\n"
          ]
        }
      ],
      "source": [
        "!df -h\n",
        "# !rm -rf /tmp/*"
      ]
    },
    {
      "cell_type": "code",
      "execution_count": null,
      "id": "61ab7364-f59c-4a53-bc46-1204148f0989",
      "metadata": {
        "id": "61ab7364-f59c-4a53-bc46-1204148f0989"
      },
      "outputs": [],
      "source": [
        "idx = 2\n",
        "# print(f\"Training input_values: {train_dataset[idx]['input_values']}\")\n",
        "# print(f\"Training attention_mask: {train_dataset[idx]['attention_mask']}\")\n",
        "# print(f\"Training emotion_labels: {train_dataset[idx]['labels']} - {train_dataset[idx]['emotion']}\")\n",
        "# 注意数据里面有labels对应emotion\n",
        "# print(f\"Training intensity_labels: {train_dataset[idx]['intensity_labels']} - {train_dataset[idx]['intensity']}\")"
      ]
    },
    {
      "cell_type": "markdown",
      "id": "a5a446d7-67ce-4bb4-9198-2c98290a3637",
      "metadata": {
        "id": "a5a446d7-67ce-4bb4-9198-2c98290a3637"
      },
      "source": [
        "### model阶段"
      ]
    },
    {
      "cell_type": "code",
      "execution_count": null,
      "id": "04c7ee1d-c7f5-4cfb-926b-ef93732881a5",
      "metadata": {
        "id": "04c7ee1d-c7f5-4cfb-926b-ef93732881a5"
      },
      "outputs": [],
      "source": [
        "from dataclasses import dataclass\n",
        "from typing import Optional, Tuple\n",
        "import torch\n",
        "from transformers.file_utils import ModelOutput\n",
        "\n",
        "\n",
        "@dataclass\n",
        "class SpeechClassifierOutput(ModelOutput):\n",
        "    loss: Optional[torch.FloatTensor] = None\n",
        "    logits: torch.FloatTensor = None\n",
        "    hidden_states: Optional[Tuple[torch.FloatTensor]] = None\n",
        "    attentions: Optional[Tuple[torch.FloatTensor]] = None\n"
      ]
    },
    {
      "cell_type": "code",
      "execution_count": null,
      "id": "9efb4815-708c-4c9c-8721-0b535b6c25f2",
      "metadata": {
        "id": "9efb4815-708c-4c9c-8721-0b535b6c25f2"
      },
      "outputs": [],
      "source": [
        "import torch\n",
        "import torch.nn as nn\n",
        "from torch.nn import BCEWithLogitsLoss, CrossEntropyLoss, MSELoss\n",
        "from transformers import Wav2Vec2Model, Wav2Vec2PreTrainedModel\n",
        "\n",
        "class FixedWav2Vec2Model(Wav2Vec2Model):\n",
        "    def forward(\n",
        "        self,\n",
        "        input_values,\n",
        "        attention_mask=None,\n",
        "        output_attentions=None,\n",
        "        output_hidden_states=None,\n",
        "        return_dict=None,\n",
        "    ):\n",
        "        # 调试输入形状\n",
        "        print(f\"模型输入形状 (修正前): {input_values.shape}\")\n",
        "\n",
        "        # 严格的维度控制\n",
        "        if input_values.dim() == 4:\n",
        "            input_values = input_values.squeeze(1)  # [B,1,1,L] -> [B,1,L]\n",
        "            print(\"执行了squeeze(1)操作\")\n",
        "        elif input_values.dim() == 2:\n",
        "            input_values = input_values.unsqueeze(1)  # [B,L] -> [B,1,L]\n",
        "            print(\"执行了unsqueeze(1)操作\")\n",
        "\n",
        "        # 最终维度验证\n",
        "        assert input_values.dim() == 3, \\\n",
        "            f\"输入必须是3D [B,C,L]，实际得到 {input_values.shape}\"\n",
        "        assert input_values.size(1) == 1, \\\n",
        "            f\"通道数必须为1，实际得到 {input_values.shape}\"\n",
        "\n",
        "        # 传递参数给父类\n",
        "        outputs = super().forward(\n",
        "            input_values,\n",
        "            attention_mask=attention_mask,\n",
        "            output_attentions=output_attentions,\n",
        "            output_hidden_states=output_hidden_states,\n",
        "            return_dict=return_dict\n",
        "        )\n",
        "\n",
        "        # 调试输出形状\n",
        "        if return_dict:\n",
        "            print(f\"隐藏状态形状: {outputs.last_hidden_state.shape}\")\n",
        "        else:\n",
        "            print(f\"隐藏状态形状: {outputs[0].shape}\")\n",
        "\n",
        "        return outputs\n",
        "\n",
        "class Wav2Vec2ForSpeechClassification(Wav2Vec2PreTrainedModel):\n",
        "    def __init__(self, config):\n",
        "        super().__init__(config)\n",
        "        # 使用严格维度控制的模型\n",
        "        self.wav2vec2 = FixedWav2Vec2Model(config)\n",
        "        self.classifier = Wav2Vec2ClassificationHead(config)\n",
        "\n",
        "        # 初始化参数\n",
        "        self.num_labels = config.num_labels\n",
        "        self.pooling_mode = config.pooling_mode\n",
        "        self.ctc_loss = nn.CTCLoss(blank=config.pad_token_id, reduction='mean')\n",
        "        self.init_weights()\n",
        "\n",
        "    def freeze_feature_extractor(self):\n",
        "        \"\"\"\n",
        "        冻结Wav2Vec2的特征提取器部分\n",
        "        两种实现方式任选其一：\n",
        "        \"\"\"\n",
        "        # 方式1：使用transformers内置方法\n",
        "        self.wav2vec2.feature_extractor._freeze_parameters()\n",
        "\n",
        "        # 方式2：手动冻结（更直观）\n",
        "        for param in self.wav2vec2.feature_extractor.parameters():\n",
        "            param.requires_grad = False\n",
        "\n",
        "        # 验证冻结效果\n",
        "        for name, param in self.wav2vec2.feature_extractor.named_parameters():\n",
        "            assert not param.requires_grad, f\"参数 {name} 未被正确冻结\"\n",
        "\n",
        "    def forward(\n",
        "        self,\n",
        "        input_values,\n",
        "        attention_mask=None,\n",
        "        output_attentions=None,\n",
        "        output_hidden_states=None,\n",
        "        return_dict=None,\n",
        "        labels=None,\n",
        "        input_lengths=None,\n",
        "        label_lengths=None,\n",
        "    ):\n",
        "        # 调试原始输入\n",
        "        print(f\"\\n===== 前向传播开始 =====\")\n",
        "        print(f\"原始输入形状: {input_values.shape}\")\n",
        "\n",
        "        # 使用父类配置决定返回格式\n",
        "        return_dict = return_dict if return_dict is not None else self.config.use_return_dict\n",
        "\n",
        "        # 核心修改：添加维度断言\n",
        "        assert input_values.dim() in [2, 3, 4], \\\n",
        "            f\"非法输入维度: {input_values.shape} (允许2D/3D/4D)\"\n",
        "\n",
        "        # 传递参数给修正后的模型\n",
        "        outputs = self.wav2vec2(\n",
        "            input_values=input_values,\n",
        "            attention_mask=attention_mask,\n",
        "            output_attentions=output_attentions,\n",
        "            output_hidden_states=output_hidden_states,\n",
        "            return_dict=return_dict\n",
        "        )\n",
        "\n",
        "        # 获取隐藏状态（兼容不同返回格式）\n",
        "        hidden_states = outputs.last_hidden_state if return_dict else outputs[0]\n",
        "        print(f\"特征提取后形状: {hidden_states.shape}\")\n",
        "\n",
        "        # 分类处理\n",
        "        pooled_output = self.merged_strategy(hidden_states, mode=self.pooling_mode)\n",
        "        logits = self.classifier(pooled_output)\n",
        "        print(f\"分类输出形状: {logits.shape}\")\n",
        "\n",
        "        # 损失计算\n",
        "        loss = None\n",
        "        if labels is not None:\n",
        "            if input_lengths is not None and label_lengths is not None:\n",
        "                # CTC损失分支\n",
        "                ctc_logits = hidden_states.transpose(0, 1)  # [T,N,C]\n",
        "                ctc_logits = self.classifier(ctc_logits)\n",
        "                print(f\"CTC logits形状: {ctc_logits.shape}\")\n",
        "\n",
        "                loss = self.ctc_loss(\n",
        "                    ctc_logits.log_softmax(-1),\n",
        "                    labels,\n",
        "                    input_lengths,\n",
        "                    label_lengths\n",
        "                )\n",
        "            else:\n",
        "                # 标准分类损失\n",
        "                if self.config.problem_type is None:\n",
        "                    if self.num_labels == 1:\n",
        "                        self.config.problem_type = \"regression\"\n",
        "                    elif self.num_labels > 1 and (labels.dtype == torch.long or labels.dtype == torch.int):\n",
        "                        self.config.problem_type = \"single_label_classification\"\n",
        "                    else:\n",
        "                        self.config.problem_type = \"multi_label_classification\"\n",
        "\n",
        "                if self.config.problem_type == \"regression\":\n",
        "                    loss = MSELoss()(logits.view(-1, self.num_labels), labels)\n",
        "                elif self.config.problem_type == \"single_label_classification\":\n",
        "                    loss = CrossEntropyLoss()(logits.view(-1, self.num_labels), labels.view(-1))\n",
        "                elif self.config.problem_type == \"multi_label_classification\":\n",
        "                    loss = BCEWithLogitsLoss()(logits, labels)\n",
        "\n",
        "        # 返回格式处理\n",
        "        if not return_dict:\n",
        "            output = (logits,) + outputs[2:]\n",
        "            return ((loss,) + output) if loss is not None else output\n",
        "\n",
        "        return {\n",
        "            \"loss\": loss,\n",
        "            \"logits\": logits,\n",
        "            \"hidden_states\": outputs.hidden_states,\n",
        "            \"attentions\": outputs.attentions,\n",
        "        }\n",
        "\n",
        "    def merged_strategy(self, hidden_states, mode=\"mean\"):\n",
        "        \"\"\"严格的维度控制池化方法\"\"\"\n",
        "        print(f\"池化前形状: {hidden_states.shape}\")\n",
        "\n",
        "        if hidden_states.dim() == 3:  # [B,T,C]\n",
        "            if mode == \"mean\":\n",
        "                pooled = torch.mean(hidden_states, dim=1)\n",
        "            elif mode == \"sum\":\n",
        "                pooled = torch.sum(hidden_states, dim=1)\n",
        "            elif mode == \"max\":\n",
        "                pooled = torch.max(hidden_states, dim=1)[0]\n",
        "            else:\n",
        "                raise ValueError(f\"不支持的池化模式: {mode}\")\n",
        "        elif hidden_states.dim() == 4:  # [B,T,L,C]\n",
        "            print(\"检测到4D输入，自动降维\")\n",
        "            return self.merged_strategy(hidden_states.mean(dim=2), mode)\n",
        "        else:\n",
        "            raise ValueError(f\"不支持的hidden_states维度: {hidden_states.dim()}\")\n",
        "\n",
        "        print(f\"池化后形状: {pooled.shape}\")\n",
        "        return pooled"
      ]
    },
    {
      "cell_type": "code",
      "execution_count": null,
      "id": "486f5902-7496-4b74-9cff-ace62c35d6aa",
      "metadata": {
        "id": "486f5902-7496-4b74-9cff-ace62c35d6aa"
      },
      "outputs": [],
      "source": [
        "def test_forward_compatibility():\n",
        "    config = Wav2Vec2Config()\n",
        "    model = Wav2Vec2ForSpeechClassification(config)\n",
        "\n",
        "    # 测试标准调用\n",
        "    inputs = torch.rand(1, 16000)\n",
        "    outputs = model(inputs, output_attentions=True)\n",
        "    assert outputs.attentions is not None\n",
        "\n",
        "    # 测试旧版兼容\n",
        "    old_outputs = model(inputs)\n",
        "    assert hasattr(old_outputs, \"logits\")"
      ]
    },
    {
      "cell_type": "code",
      "execution_count": null,
      "id": "b66ca45a-a53c-4043-b500-f00576950f58",
      "metadata": {
        "id": "b66ca45a-a53c-4043-b500-f00576950f58"
      },
      "outputs": [],
      "source": [
        "# import torch\n",
        "# import torch.nn as nn\n",
        "# from torch.nn import BCEWithLogitsLoss, CrossEntropyLoss, MSELoss\n",
        "\n",
        "# from transformers.models.wav2vec2.modeling_wav2vec2 import (\n",
        "#     Wav2Vec2PreTrainedModel,\n",
        "#     Wav2Vec2Model\n",
        "# )\n",
        "\n",
        "\n",
        "# class Wav2Vec2ClassificationHead(nn.Module):\n",
        "#     \"\"\"Head for wav2vec classification task.\"\"\"\n",
        "\n",
        "#     def __init__(self, config):\n",
        "#         super().__init__()\n",
        "#         self.dense = nn.Linear(config.hidden_size, config.hidden_size)\n",
        "#         self.dropout = nn.Dropout(config.final_dropout)\n",
        "#         self.out_proj = nn.Linear(config.hidden_size, config.num_labels)\n",
        "\n",
        "#     def forward(self, features, **kwargs):\n",
        "#         x = features\n",
        "#         x = self.dropout(x)\n",
        "#         x = self.dense(x)\n",
        "#         x = torch.tanh(x)\n",
        "#         x = self.dropout(x)\n",
        "#         x = self.out_proj(x)\n",
        "#         return x\n",
        "\n",
        "\n",
        "# class Wav2Vec2ForSpeechClassification(Wav2Vec2PreTrainedModel):\n",
        "#     def __init__(self, config):\n",
        "#         super().__init__(config)\n",
        "#         self.num_labels = config.num_labels\n",
        "#         self.pooling_mode = config.pooling_mode\n",
        "#         self.config = config\n",
        "\n",
        "#         self.wav2vec2 = Wav2Vec2Model(config)\n",
        "#         self.classifier = Wav2Vec2ClassificationHead(config)\n",
        "\n",
        "#         self.init_weights()\n",
        "\n",
        "#     def freeze_feature_extractor(self):\n",
        "#         self.wav2vec2.feature_extractor._freeze_parameters()\n",
        "\n",
        "#     def merged_strategy(\n",
        "#             self,\n",
        "#             hidden_states,\n",
        "#             mode=\"mean\"\n",
        "#     ):\n",
        "#         if mode == \"mean\":\n",
        "#             outputs = torch.mean(hidden_states, dim=1)\n",
        "#         elif mode == \"sum\":\n",
        "#             outputs = torch.sum(hidden_states, dim=1)\n",
        "#         elif mode == \"max\":\n",
        "#             outputs = torch.max(hidden_states, dim=1)[0]\n",
        "#         else:\n",
        "#             raise Exception(\n",
        "#                 \"The pooling method hasn't been defined! Your pooling mode must be one of these ['mean', 'sum', 'max']\")\n",
        "\n",
        "#         return outputs\n",
        "\n",
        "#     def forward(\n",
        "#             self,\n",
        "#             input_values,\n",
        "#             attention_mask=None,\n",
        "#             output_attentions=None,\n",
        "#             output_hidden_states=None,\n",
        "#             return_dict=None,\n",
        "#             labels=None,\n",
        "#     ):\n",
        "#         return_dict = return_dict if return_dict is not None else self.config.use_return_dict\n",
        "#         outputs = self.wav2vec2(\n",
        "#             input_values,\n",
        "#             attention_mask=attention_mask,\n",
        "#             output_attentions=output_attentions,\n",
        "#             output_hidden_states=output_hidden_states,\n",
        "#             return_dict=return_dict,\n",
        "#         )\n",
        "#         hidden_states = outputs[0]\n",
        "#         hidden_states = self.merged_strategy(hidden_states, mode=self.pooling_mode)\n",
        "#         logits = self.classifier(hidden_states)\n",
        "\n",
        "#         loss = None\n",
        "#         if labels is not None:\n",
        "#             if self.config.problem_type is None:\n",
        "#                 if self.num_labels == 1:\n",
        "#                     self.config.problem_type = \"regression\"\n",
        "#                 elif self.num_labels > 1 and (labels.dtype == torch.long or labels.dtype == torch.int):\n",
        "#                     self.config.problem_type = \"single_label_classification\"\n",
        "#                 else:\n",
        "#                     self.config.problem_type = \"multi_label_classification\"\n",
        "\n",
        "#             if self.config.problem_type == \"regression\":\n",
        "#                 loss_fct = MSELoss()\n",
        "#                 loss = loss_fct(logits.view(-1, self.num_labels), labels)\n",
        "#             elif self.config.problem_type == \"single_label_classification\":\n",
        "#                 loss_fct = CrossEntropyLoss()\n",
        "#                 loss = loss_fct(logits.view(-1, self.num_labels), labels.view(-1))\n",
        "#             elif self.config.problem_type == \"multi_label_classification\":\n",
        "#                 loss_fct = BCEWithLogitsLoss()\n",
        "#                 loss = loss_fct(logits, labels)\n",
        "\n",
        "#         if not return_dict:\n",
        "#             output = (logits,) + outputs[2:]\n",
        "#             return ((loss,) + output) if loss is not None else output\n",
        "\n",
        "#         return SpeechClassifierOutput(\n",
        "#             loss=loss,\n",
        "#             logits=logits,\n",
        "#             hidden_states=outputs.hidden_states,\n",
        "#             attentions=outputs.attentions,\n",
        "#         )\n"
      ]
    },
    {
      "cell_type": "markdown",
      "id": "939c1b42-9fda-45d8-b465-57e48e992ea9",
      "metadata": {
        "id": "939c1b42-9fda-45d8-b465-57e48e992ea9"
      },
      "source": [
        "### training阶段"
      ]
    },
    {
      "cell_type": "code",
      "execution_count": null,
      "id": "61ed777b-9d4c-4be9-abb2-d4ca0dc4e619",
      "metadata": {
        "id": "61ed777b-9d4c-4be9-abb2-d4ca0dc4e619"
      },
      "outputs": [],
      "source": [
        "import numpy as np\n",
        "from transformers import EvalPrediction\n",
        "\n",
        "\n",
        "def compute_metrics(p: EvalPrediction):\n",
        "    preds = p.predictions[0] if isinstance(p.predictions, tuple) else p.predictions\n",
        "    preds = np.squeeze(preds) if is_regression else np.argmax(preds, axis=1)\n",
        "\n",
        "    if is_regression:\n",
        "        return {\"mse\": ((preds - p.label_ids) ** 2).mean().item()}\n",
        "    else:\n",
        "        return {\"accuracy\": (preds == p.label_ids).astype(np.float32).mean().item()}"
      ]
    },
    {
      "cell_type": "code",
      "execution_count": null,
      "id": "36ba35a4-a84c-4e20-bba5-66bf9a713ce1",
      "metadata": {
        "id": "36ba35a4-a84c-4e20-bba5-66bf9a713ce1",
        "outputId": "a47dc5ed-acfa-4552-c370-2be1e330feed"
      },
      "outputs": [
        {
          "name": "stderr",
          "output_type": "stream",
          "text": [
            "Some weights of Wav2Vec2ForSpeechClassification were not initialized from the model checkpoint at wav2vec2-base-960h and are newly initialized: ['classifier.dense.bias', 'classifier.dense.weight', 'classifier.out_proj.bias', 'classifier.out_proj.weight', 'wav2vec2.encoder.pos_conv_embed.conv.parametrizations.weight.original0', 'wav2vec2.encoder.pos_conv_embed.conv.parametrizations.weight.original1', 'wav2vec2.masked_spec_embed']\n",
            "You should probably TRAIN this model on a down-stream task to be able to use it for predictions and inference.\n"
          ]
        }
      ],
      "source": [
        "model = Wav2Vec2ForSpeechClassification.from_pretrained(\n",
        "    model_name_or_path,\n",
        "    config=config,\n",
        ")"
      ]
    },
    {
      "cell_type": "code",
      "execution_count": null,
      "id": "74f5287a-2b28-46af-8b1b-fe8d3159b63c",
      "metadata": {
        "id": "74f5287a-2b28-46af-8b1b-fe8d3159b63c"
      },
      "outputs": [],
      "source": [
        "model.freeze_feature_extractor()"
      ]
    },
    {
      "cell_type": "markdown",
      "id": "c08e836f-fad5-4657-9556-935d61145cce",
      "metadata": {
        "id": "c08e836f-fad5-4657-9556-935d61145cce"
      },
      "source": [
        "### 数据收集器"
      ]
    },
    {
      "cell_type": "code",
      "execution_count": null,
      "id": "d3125cb1-91a1-41a3-b8bd-a94904cdb3ec",
      "metadata": {
        "id": "d3125cb1-91a1-41a3-b8bd-a94904cdb3ec"
      },
      "outputs": [],
      "source": [
        "from dataclasses import dataclass\n",
        "from typing import Dict, List, Optional, Union\n",
        "import torch\n",
        "from transformers import Wav2Vec2Processor\n",
        "\n",
        "@dataclass\n",
        "class DataCollatorCTCWithPadding:\n",
        "    processor: Wav2Vec2Processor\n",
        "    padding: Union[bool, str] = True\n",
        "    max_length: Optional[int] = None\n",
        "    pad_to_multiple_of: Optional[int] = None\n",
        "    padding_value: float = 0.0\n",
        "\n",
        "    def __call__(self, features: List[Dict[str, Union[List, np.ndarray, torch.Tensor]]]) -> Dict[str, torch.Tensor]:\n",
        "        # 处理每个样本的input_values\n",
        "        for feature in features:\n",
        "            input_values = feature[\"input_values\"]\n",
        "\n",
        "            # 确保input_values是张量\n",
        "            if isinstance(input_values, list):\n",
        "                input_values = torch.tensor(input_values)\n",
        "            elif isinstance(input_values, np.ndarray):\n",
        "                input_values = torch.from_numpy(input_values)\n",
        "\n",
        "            # 确保是二维张量 [batch_size, sequence_length]\n",
        "            if input_values.dim() == 1:\n",
        "                input_values = input_values.unsqueeze(0)  # 转为 [1, sequence_length]\n",
        "            elif input_values.dim() >2:\n",
        "                input_values = input_values.squeeze(1)  # 若为 [1, 1, sequence_length]，压缩到 [1, sequence_length]\n",
        "\n",
        "            feature[\"input_values\"] = input_values\n",
        "\n",
        "        input_features = [{\"input_values\": feature[\"input_values\"]} for feature in features]\n",
        "        label_features = [feature[\"labels\"] for feature in features]\n",
        "\n",
        "        # 调试：打印输入形状和类型\n",
        "        for i, feat in enumerate(input_features):\n",
        "            arr = feat[\"input_values\"]\n",
        "            print(f\"Input {i} shape: {arr.shape} (type: {type(arr)})\")\n",
        "\n",
        "        # 应用填充\n",
        "        batch = self.processor.pad(\n",
        "            input_features,\n",
        "            padding=self.padding,\n",
        "            max_length=self.max_length,\n",
        "            pad_to_multiple_of=self.pad_to_multiple_of,\n",
        "            return_tensors=\"pt\",\n",
        "        )\n",
        "\n",
        "        # 调试：打印填充后的形状\n",
        "        print(f\"Padded input_values shape: {batch['input_values'].shape}\")\n",
        "\n",
        "        # 修改DataCollatorCTCWithPadding类的__call__方法：\n",
        "#         batch[\"input_values\"] = batch[\"input_values\"].squeeze(1) if batch[\"input_values\"].dim() == 3 else batch[\"input_values\"]\n",
        "#         input_lengths = [x.size(-1) for x in batch[\"input_values\"]]  # 使用-1获取最后一维\n",
        "\n",
        "#         d_type = torch.long if isinstance(label_features[0], int) else torch.float\n",
        "\n",
        "#         # 返回两个？\n",
        "#         # batch[\"input_lengths\"] = torch.tensor(input_lengths, dtype=torch.long)\n",
        "#         batch[\"input_lengths\"] = torch.tensor(input_lengths, dtype=torch.long)  # list转Tensor\n",
        "#         batch[\"labels\"] = torch.tensor(label_features, dtype=d_type)\n",
        "#         # batch['label_lengths'] = 1\n",
        "#         # 必须编码为tensor\n",
        "#         batch[\"label_lengths\"] = torch.ones(len(batch[\"labels\"]), dtype=torch.long)\n",
        "\n",
        "#         return batch\n",
        "\n",
        "\n",
        "\n",
        "        # 关键修改1：input_lengths统一为Tensor\n",
        "        input_lengths = torch.tensor(\n",
        "            [x.size(-1) for x in batch[\"input_values\"]],\n",
        "            dtype=torch.long,\n",
        "            device=batch[\"input_values\"].device  # 保持设备一致\n",
        "        )\n",
        "\n",
        "        # 关键修改2：target_lengths改为Tensor（假设所有标签长度=1）\n",
        "        target_lengths = torch.full(\n",
        "            size=(len(features),),\n",
        "            fill_value=1,  # 或根据实际标签长度调整\n",
        "            dtype=torch.long,\n",
        "            device=input_lengths.device\n",
        "        )\n",
        "\n",
        "\n",
        "        batch.update({\n",
        "            \"input_lengths\": input_lengths.squeeze() if input_lengths.dim() > 1 else input_lengths,\n",
        "            \"label_lengths\": target_lengths,# 目标和原来要一致？\n",
        "            \"labels\": torch.full(\n",
        "            (len(features),),\n",
        "            1,  # 或 [len(str(l)) for l in label_features]\n",
        "            dtype=torch.long,\n",
        "            device=batch[\"input_values\"].device)\n",
        "        })\n",
        "        print(batch)\n",
        "\n",
        "        return batch\n",
        ""
      ]
    },
    {
      "cell_type": "code",
      "execution_count": null,
      "id": "7f6aadfa-2ee0-47aa-98b9-ae1a6c63d021",
      "metadata": {
        "id": "7f6aadfa-2ee0-47aa-98b9-ae1a6c63d021",
        "outputId": "d8674073-bf66-442c-c9c0-0134d8c93c31"
      },
      "outputs": [
        {
          "name": "stdout",
          "output_type": "stream",
          "text": [
            "Input 0 shape: torch.Size([1, 160000]) (type: <class 'torch.Tensor'>)\n",
            "Input 1 shape: torch.Size([1, 160000]) (type: <class 'torch.Tensor'>)\n",
            "Padded input_values shape: torch.Size([2, 1, 160000])\n",
            "{'input_values': tensor([[[ 5.0068e-05,  5.0068e-05,  5.0068e-05,  ...,  0.0000e+00,\n",
            "           0.0000e+00,  0.0000e+00]],\n",
            "\n",
            "        [[-9.0796e-04, -1.8261e-03, -7.2571e-04,  ...,  0.0000e+00,\n",
            "           0.0000e+00,  0.0000e+00]]]), 'input_lengths': tensor([160000, 160000]), 'label_lengths': tensor([1, 1]), 'labels': tensor([1, 1])}\n",
            "Collator输出: tensor([[[ 5.0068e-05,  5.0068e-05,  5.0068e-05,  ...,  0.0000e+00,\n",
            "           0.0000e+00,  0.0000e+00]],\n",
            "\n",
            "        [[-9.0796e-04, -1.8261e-03, -7.2571e-04,  ...,  0.0000e+00,\n",
            "           0.0000e+00,  0.0000e+00]]])\n"
          ]
        }
      ],
      "source": [
        "# print(\"原始样本形状:\", train_dataset[0][\"input_values\"])\n",
        "test_batch = data_collator([train_dataset[0], train_dataset[1]])\n",
        "print(\"Collator输出:\", test_batch[\"input_values\"])"
      ]
    },
    {
      "cell_type": "code",
      "execution_count": null,
      "id": "0b0f57d5-3e28-4412-8b1b-69583cd71865",
      "metadata": {
        "id": "0b0f57d5-3e28-4412-8b1b-69583cd71865"
      },
      "outputs": [],
      "source": [
        "# # 假设 processor 是正确初始化的 Wav2Vec2Processor 实例\n",
        "# data_collator = DataCollatorCTCWithPadding(processor=processor, padding=True)"
      ]
    },
    {
      "cell_type": "code",
      "execution_count": null,
      "id": "fc324bbe-92df-4956-8cd3-066148623300",
      "metadata": {
        "id": "fc324bbe-92df-4956-8cd3-066148623300"
      },
      "outputs": [],
      "source": [
        "# sample_features = [train_dataset[i] for i in range(2)]\n",
        "# batch = data_collator(sample_features)\n",
        "\n",
        "# print(f\"input_values shape: {batch['input_values'].shape}\")\n",
        "# print(f\"input_lengths: {batch['input_lengths']}\")\n",
        "# print(f\"labels: {batch['labels']}\")"
      ]
    },
    {
      "cell_type": "code",
      "execution_count": null,
      "id": "8ecc3c22-92cd-4422-84bb-c328669b03a7",
      "metadata": {
        "id": "8ecc3c22-92cd-4422-84bb-c328669b03a7"
      },
      "outputs": [],
      "source": [
        "# # 验证单个样本，为什么原来的样本中有labels和attention_mask processor之后都没有了\n",
        "# sample = train_dataset[0]\n",
        "# print((sample['labels'])) # 注意只有一个列表\n",
        "\n",
        "# # 验证processor输出\n",
        "# sample_processed = processor(\n",
        "#     sample[\"input_values\"],\n",
        "#     labels = sample[\"labels\"],  # 显式传递标签\n",
        "#     sampling_rate=target_sampling_rate,\n",
        "#     return_tensors=\"pt\",\n",
        "#     return_attention_mask=True  # 确保生成attention_mask\n",
        "# )\n",
        "# print(f\"Processor output shape: {sample_processed['input_values'].shape}\")\n",
        "\n",
        "# # # 测试小批次\n",
        "# sample_features = [train_dataset[i] for i in range(2)]\n",
        "# batch = data_collator(sample_features)\n",
        "\n",
        "# print(f\"input_values shape: {batch['input_values'].shape}\")\n",
        "# print(f\"input_lengths: {batch['input_lengths']}\")\n",
        "# # print(f\"attention_mask: {batch['labels']}\")\n",
        "# print(\"Processor输出键:\", sample_processed.keys())  # 应只有input_values"
      ]
    },
    {
      "cell_type": "markdown",
      "id": "03f61a18-1f81-4f81-a651-fc9e78482a2f",
      "metadata": {
        "id": "03f61a18-1f81-4f81-a651-fc9e78482a2f"
      },
      "source": [
        "### 训练参数调整"
      ]
    },
    {
      "cell_type": "code",
      "execution_count": null,
      "id": "01a1faef-2862-4538-9cda-07cd2755fdc7",
      "metadata": {
        "id": "01a1faef-2862-4538-9cda-07cd2755fdc7"
      },
      "outputs": [],
      "source": [
        "from transformers import TrainingArguments\n",
        "\n",
        "training_args = TrainingArguments(\n",
        "    output_dir=\"/content/wav2vec2-0624\",  # 模型保存路径\n",
        "    per_device_train_batch_size=4,  # 训练批次大小，gpu内存不足可减少该值\n",
        "    per_device_eval_batch_size=4,  # 评估批次大小\n",
        "    gradient_accumulation_steps=2,  # 梯度累积步数（等效批次大小=4*2=8）\n",
        "    evaluation_strategy=\"steps\",  # 按步数评估\n",
        "    num_train_epochs=1.0,  # 训练轮次，可能学习不足，可增加\n",
        "    fp16=True,  # 启用混合精度训练\n",
        "    save_steps=10,  # 每10步保存模型\n",
        "    eval_steps=10,  # 每10步评估\n",
        "    logging_steps=10,  # 每10步记录日志\n",
        "    learning_rate=1e-4,  # 学习率\n",
        "    save_total_limit=2,  # 最多保存2个检查点\n",
        ")"
      ]
    },
    {
      "cell_type": "markdown",
      "id": "4944ae44-9744-4511-9ffe-6fa1c77d2828",
      "metadata": {
        "id": "4944ae44-9744-4511-9ffe-6fa1c77d2828"
      },
      "source": [
        "### 训练器"
      ]
    },
    {
      "cell_type": "code",
      "execution_count": null,
      "id": "60dfba69-1269-475c-abac-192b6169f8cf",
      "metadata": {
        "id": "60dfba69-1269-475c-abac-192b6169f8cf"
      },
      "outputs": [],
      "source": [
        "from typing import Any, Dict, Union\n",
        "import torch\n",
        "import numpy as np\n",
        "from packaging import version\n",
        "from torch import nn\n",
        "from transformers import Trainer, is_apex_available\n",
        "\n",
        "if is_apex_available():\n",
        "    from apex import amp\n",
        "\n",
        "if version.parse(torch.__version__) >= version.parse(\"1.6\"):\n",
        "    _is_native_amp_available = True\n",
        "    from torch.cuda.amp import autocast, GradScaler\n",
        "\n",
        "\n",
        "class CTCTrainer(Trainer):\n",
        "    def __init__(self, *args, **kwargs):\n",
        "        super().__init__(*args, **kwargs)\n",
        "        self.use_amp = False\n",
        "        self.scaler = None\n",
        "        if self.args.fp16 and _is_native_amp_available:\n",
        "            self.use_amp = True\n",
        "            self.scaler = GradScaler()\n",
        "\n",
        "    def training_step(self, model: nn.Module, inputs: Dict[str, Union[torch.Tensor, Any]]) -> torch.Tensor:\n",
        "        model.train()\n",
        "\n",
        "        # 关键修改1：在准备输入前检查维度\n",
        "        if inputs[\"input_values\"].dim() == 4:\n",
        "            inputs[\"input_values\"] = inputs[\"input_values\"].squeeze(1)\n",
        "\n",
        "        inputs = self._prepare_inputs(inputs)\n",
        "\n",
        "        if self.use_amp:\n",
        "            with autocast():\n",
        "                loss = self.compute_loss(model, inputs)\n",
        "        else:\n",
        "            loss = self.compute_loss(model, inputs)\n",
        "\n",
        "        if self.args.gradient_accumulation_steps > 1:\n",
        "            loss = loss / self.args.gradient_accumulation_steps\n",
        "\n",
        "        if self.use_amp:\n",
        "            self.scaler.scale(loss).backward()\n",
        "        elif self.use_apex:\n",
        "            with amp.scale_loss(loss, self.optimizer) as scaled_loss:\n",
        "                scaled_loss.backward()\n",
        "        elif self.deepspeed:\n",
        "            self.deepspeed.backward(loss)\n",
        "        else:\n",
        "            loss.backward()\n",
        "\n",
        "        return loss.detach()\n",
        "\n",
        "    def optimizer_step(self, *args, **kwargs):\n",
        "        if self.use_amp:\n",
        "            self.scaler.step(self.optimizer)\n",
        "            self.scaler.update()\n",
        "            self.optimizer.zero_grad()\n",
        "        else:\n",
        "            super().optimizer_step(*args, **kwargs)\n",
        "\n",
        "    def compute_loss(self, model, inputs, return_outputs=False):\n",
        "        \"\"\"\n",
        "        修正后的CTC损失计算函数\n",
        "        确保处理以下输入格式：\n",
        "        {\n",
        "            'input_values': [batch_size, 1, seq_len],\n",
        "            'labels': [batch_size],\n",
        "            'input_lengths': [batch_size],\n",
        "            'label_lengths': [batch_size]\n",
        "        }\n",
        "        \"\"\"\n",
        "        # 1. 输入验证和维度修正\n",
        "        required_keys = [\"input_values\", \"labels\", \"input_lengths\", \"label_lengths\"]\n",
        "        for key in required_keys:\n",
        "            if key not in inputs:\n",
        "                raise ValueError(f\"Missing required key '{key}' in inputs. Available keys: {list(inputs.keys())}\")\n",
        "\n",
        "        # 2. 设备转移和维度处理\n",
        "        device = next(model.parameters()).device\n",
        "        input_values = inputs[\"input_values\"].to(device)\n",
        "\n",
        "        # 关键修改2：强制输入为3D [B,1,L]\n",
        "        if input_values.dim() == 4:\n",
        "            input_values = input_values.squeeze(1)\n",
        "        elif input_values.dim() == 2:\n",
        "            input_values = input_values.unsqueeze(1)\n",
        "\n",
        "        assert input_values.dim() == 3, f\"输入应为3D [B,1,L]，实际得到 {input_values.shape}\"\n",
        "\n",
        "        # 3. 其他张量处理\n",
        "        labels = inputs[\"labels\"].to(device)\n",
        "        input_lengths = inputs[\"input_lengths\"].to(device) if isinstance(inputs[\"input_lengths\"], torch.Tensor) \\\n",
        "                       else torch.tensor(inputs[\"input_lengths\"], device=device)\n",
        "        label_lengths = inputs[\"label_lengths\"].to(device) if isinstance(inputs[\"label_lengths\"], torch.Tensor) \\\n",
        "                       else torch.tensor(inputs[\"label_lengths\"], device=device)\n",
        "\n",
        "        # 4. 调试信息\n",
        "        print(\"\\n===== DEBUG INFO =====\")\n",
        "        print(f\"Input values shape: {input_values.shape}\")\n",
        "        print(f\"Labels: {labels.cpu().numpy()}\")\n",
        "        print(f\"Input lengths: {input_lengths.cpu().numpy()}\")\n",
        "        print(f\"Label lengths: {label_lengths.cpu().numpy()}\")\n",
        "\n",
        "        # 5. 模型前向传播\n",
        "        outputs = model(input_values=input_values)\n",
        "        logits = outputs.logits\n",
        "\n",
        "        # 6. 形状调整和验证\n",
        "        logits = logits.transpose(0, 1)  # [T,N,C]\n",
        "        print(f\"Logits shape after transpose: {logits.shape}\")\n",
        "\n",
        "        # 7. CTC损失计算（带增强的错误处理）\n",
        "        try:\n",
        "            loss = torch.nn.functional.ctc_loss(\n",
        "                log_probs=logits.log_softmax(-1),\n",
        "                targets=labels,\n",
        "                input_lengths=input_lengths,\n",
        "                target_lengths=label_lengths,\n",
        "                blank=model.config.pad_token_id,\n",
        "                reduction='mean',\n",
        "                zero_infinity=True\n",
        "            )\n",
        "        except Exception as e:\n",
        "            print(\"\\n!!! CTC LOSS CALCULATION ERROR !!!\")\n",
        "            print(f\"Logits shape: {logits.shape}\")\n",
        "            print(f\"Logits range: [{logits.min().item():.4f}, {logits.max().item():.4f}]\")\n",
        "            print(f\"Labels unique: {torch.unique(labels)}\")\n",
        "            print(f\"Input lengths: {input_lengths.cpu().numpy()}\")\n",
        "            print(f\"Label lengths: {label_lengths.cpu().numpy()}\")\n",
        "            raise\n",
        "\n",
        "        print(f\"Loss value: {loss.item():.4f}\")\n",
        "        print(\"=======================\")\n",
        "\n",
        "        return (loss, outputs) if return_outputs else loss"
      ]
    },
    {
      "cell_type": "code",
      "execution_count": null,
      "id": "9f186726-4b65-4db4-806e-b9bfea6d7921",
      "metadata": {
        "id": "9f186726-4b65-4db4-806e-b9bfea6d7921"
      },
      "outputs": [],
      "source": [
        "# import os\n",
        "# os.environ['CUDA_LAUNCH_BLOCKING'] = '1'"
      ]
    },
    {
      "cell_type": "code",
      "execution_count": null,
      "id": "8726811b-3dfd-416c-aaac-4a54cef6b510",
      "metadata": {
        "id": "8726811b-3dfd-416c-aaac-4a54cef6b510"
      },
      "outputs": [],
      "source": [
        "# # 示例输入\n",
        "# input_values = torch.rand(2, 1, 160000)  # [batch_size, channels, seq_len]\n",
        "# labels = torch.tensor([1, 3])  # 分类标签\n",
        "# input_lengths = torch.tensor([160000, 160000])  # CTC需要\n",
        "# label_lengths = torch.tensor([1, 1])  # CTC需要\n",
        "\n",
        "# # 前向传播\n",
        "# outputs = model(\n",
        "#     input_values=input_values,\n",
        "#     labels=labels,\n",
        "#     input_lengths=input_lengths,\n",
        "#     label_lengths=label_lengths\n",
        "# )\n",
        "\n",
        "# print(outputs[\"loss\"])  # 打印损失值"
      ]
    },
    {
      "cell_type": "code",
      "execution_count": null,
      "id": "6b69c382-8c3b-457b-8087-7459227931c3",
      "metadata": {
        "id": "6b69c382-8c3b-457b-8087-7459227931c3"
      },
      "outputs": [],
      "source": [
        "data_collator = DataCollatorCTCWithPadding(processor=processor, padding=True)\n",
        "trainer = CTCTrainer(\n",
        "    model=model,                # 待训练的模型\n",
        "    data_collator=data_collator,  # 数据收集器\n",
        "    args=training_args,          # 训练参数\n",
        "    compute_metrics=compute_metrics,  # 评估指标函数（需自定义）\n",
        "    train_dataset=train_dataset,    # 训练数据集\n",
        "    eval_dataset=eval_dataset,      # 评估数据集\n",
        "    tokenizer=processor.feature_extractor,  # 特征提取器\n",
        ")"
      ]
    },
    {
      "cell_type": "code",
      "execution_count": null,
      "id": "2f1e70ba-8187-4ea3-8dcf-859647e10ce8",
      "metadata": {
        "id": "2f1e70ba-8187-4ea3-8dcf-859647e10ce8",
        "outputId": "9ed5c8a1-d64b-4a17-e5f9-34a02d9b4696"
      },
      "outputs": [
        {
          "name": "stdout",
          "output_type": "stream",
          "text": [
            "Input 0 shape: torch.Size([1, 160000]) (type: <class 'torch.Tensor'>)\n",
            "Input 1 shape: torch.Size([1, 160000]) (type: <class 'torch.Tensor'>)\n",
            "Input 2 shape: torch.Size([1, 160000]) (type: <class 'torch.Tensor'>)\n",
            "Input 3 shape: torch.Size([1, 160000]) (type: <class 'torch.Tensor'>)\n",
            "Padded input_values shape: torch.Size([4, 1, 160000])\n",
            "{'input_values': tensor([[[5.8648e-04, 6.0610e-04, 2.6287e-04,  ..., 0.0000e+00,\n",
            "          0.0000e+00, 0.0000e+00]],\n",
            "\n",
            "        [[3.1735e-06, 3.1735e-06, 3.1273e-06,  ..., 0.0000e+00,\n",
            "          0.0000e+00, 0.0000e+00]],\n",
            "\n",
            "        [[3.4287e-04, 3.4287e-04, 3.4287e-04,  ..., 0.0000e+00,\n",
            "          0.0000e+00, 0.0000e+00]],\n",
            "\n",
            "        [[2.4523e-04, 2.0184e-04, 4.9197e-04,  ..., 0.0000e+00,\n",
            "          0.0000e+00, 0.0000e+00]]]), 'input_lengths': tensor([160000, 160000, 160000, 160000]), 'label_lengths': tensor([1, 1, 1, 1]), 'labels': tensor([1, 1, 1, 1])}\n",
            "Input 0 shape: torch.Size([1, 160000]) (type: <class 'torch.Tensor'>)\n",
            "Input 1 shape: torch.Size([1, 160000]) (type: <class 'torch.Tensor'>)\n",
            "Input 2 shape: torch.Size([1, 160000]) (type: <class 'torch.Tensor'>)\n",
            "Input 3 shape: torch.Size([1, 160000]) (type: <class 'torch.Tensor'>)\n",
            "Padded input_values shape: torch.Size([4, 1, 160000])\n",
            "{'input_values': tensor([[[ 0.0003,  0.0003,  0.0003,  ...,  0.0000,  0.0000,  0.0000]],\n",
            "\n",
            "        [[ 0.0003, -0.0004, -0.0015,  ...,  0.0000,  0.0000,  0.0000]],\n",
            "\n",
            "        [[ 0.0003,  0.0003,  0.0003,  ...,  0.0000,  0.0000,  0.0000]],\n",
            "\n",
            "        [[-0.0094, -0.0174, -0.0161,  ...,  0.0000,  0.0000,  0.0000]]]), 'input_lengths': tensor([160000, 160000, 160000, 160000]), 'label_lengths': tensor([1, 1, 1, 1]), 'labels': tensor([1, 1, 1, 1])}\n",
            "\n",
            "===== DEBUG INFO =====\n",
            "Input values shape: torch.Size([4, 1, 160000])\n",
            "Labels: [1 1 1 1]\n",
            "Input lengths: [160000 160000 160000 160000]\n",
            "Label lengths: [1 1 1 1]\n"
          ]
        },
        {
          "ename": "RuntimeError",
          "evalue": "Expected 2D (unbatched) or 3D (batched) input to conv1d, but got input of size: [4, 1, 1, 160000]",
          "output_type": "error",
          "traceback": [
            "\u001b[0;31m---------------------------------------------------------------------------\u001b[0m",
            "\u001b[0;31mRuntimeError\u001b[0m                              Traceback (most recent call last)",
            "Input \u001b[0;32mIn [423]\u001b[0m, in \u001b[0;36m<cell line: 1>\u001b[0;34m()\u001b[0m\n\u001b[0;32m----> 1\u001b[0m \u001b[43mtrainer\u001b[49m\u001b[38;5;241;43m.\u001b[39;49m\u001b[43mtrain\u001b[49m\u001b[43m(\u001b[49m\u001b[43m)\u001b[49m\n",
            "File \u001b[0;32m~/miniconda3/lib/python3.8/site-packages/transformers/trainer.py:1539\u001b[0m, in \u001b[0;36mTrainer.train\u001b[0;34m(self, resume_from_checkpoint, trial, ignore_keys_for_eval, **kwargs)\u001b[0m\n\u001b[1;32m   1537\u001b[0m         hf_hub_utils\u001b[38;5;241m.\u001b[39menable_progress_bars()\n\u001b[1;32m   1538\u001b[0m \u001b[38;5;28;01melse\u001b[39;00m:\n\u001b[0;32m-> 1539\u001b[0m     \u001b[38;5;28;01mreturn\u001b[39;00m \u001b[43minner_training_loop\u001b[49m\u001b[43m(\u001b[49m\n\u001b[1;32m   1540\u001b[0m \u001b[43m        \u001b[49m\u001b[43margs\u001b[49m\u001b[38;5;241;43m=\u001b[39;49m\u001b[43margs\u001b[49m\u001b[43m,\u001b[49m\n\u001b[1;32m   1541\u001b[0m \u001b[43m        \u001b[49m\u001b[43mresume_from_checkpoint\u001b[49m\u001b[38;5;241;43m=\u001b[39;49m\u001b[43mresume_from_checkpoint\u001b[49m\u001b[43m,\u001b[49m\n\u001b[1;32m   1542\u001b[0m \u001b[43m        \u001b[49m\u001b[43mtrial\u001b[49m\u001b[38;5;241;43m=\u001b[39;49m\u001b[43mtrial\u001b[49m\u001b[43m,\u001b[49m\n\u001b[1;32m   1543\u001b[0m \u001b[43m        \u001b[49m\u001b[43mignore_keys_for_eval\u001b[49m\u001b[38;5;241;43m=\u001b[39;49m\u001b[43mignore_keys_for_eval\u001b[49m\u001b[43m,\u001b[49m\n\u001b[1;32m   1544\u001b[0m \u001b[43m    \u001b[49m\u001b[43m)\u001b[49m\n",
            "File \u001b[0;32m~/miniconda3/lib/python3.8/site-packages/transformers/trainer.py:1869\u001b[0m, in \u001b[0;36mTrainer._inner_training_loop\u001b[0;34m(self, batch_size, args, resume_from_checkpoint, trial, ignore_keys_for_eval)\u001b[0m\n\u001b[1;32m   1866\u001b[0m     \u001b[38;5;28mself\u001b[39m\u001b[38;5;241m.\u001b[39mcontrol \u001b[38;5;241m=\u001b[39m \u001b[38;5;28mself\u001b[39m\u001b[38;5;241m.\u001b[39mcallback_handler\u001b[38;5;241m.\u001b[39mon_step_begin(args, \u001b[38;5;28mself\u001b[39m\u001b[38;5;241m.\u001b[39mstate, \u001b[38;5;28mself\u001b[39m\u001b[38;5;241m.\u001b[39mcontrol)\n\u001b[1;32m   1868\u001b[0m \u001b[38;5;28;01mwith\u001b[39;00m \u001b[38;5;28mself\u001b[39m\u001b[38;5;241m.\u001b[39maccelerator\u001b[38;5;241m.\u001b[39maccumulate(model):\n\u001b[0;32m-> 1869\u001b[0m     tr_loss_step \u001b[38;5;241m=\u001b[39m \u001b[38;5;28;43mself\u001b[39;49m\u001b[38;5;241;43m.\u001b[39;49m\u001b[43mtraining_step\u001b[49m\u001b[43m(\u001b[49m\u001b[43mmodel\u001b[49m\u001b[43m,\u001b[49m\u001b[43m \u001b[49m\u001b[43minputs\u001b[49m\u001b[43m)\u001b[49m\n\u001b[1;32m   1871\u001b[0m \u001b[38;5;28;01mif\u001b[39;00m (\n\u001b[1;32m   1872\u001b[0m     args\u001b[38;5;241m.\u001b[39mlogging_nan_inf_filter\n\u001b[1;32m   1873\u001b[0m     \u001b[38;5;129;01mand\u001b[39;00m \u001b[38;5;129;01mnot\u001b[39;00m is_torch_tpu_available()\n\u001b[1;32m   1874\u001b[0m     \u001b[38;5;129;01mand\u001b[39;00m (torch\u001b[38;5;241m.\u001b[39misnan(tr_loss_step) \u001b[38;5;129;01mor\u001b[39;00m torch\u001b[38;5;241m.\u001b[39misinf(tr_loss_step))\n\u001b[1;32m   1875\u001b[0m ):\n\u001b[1;32m   1876\u001b[0m     \u001b[38;5;66;03m# if loss is nan or inf simply add the average of previous logged losses\u001b[39;00m\n\u001b[1;32m   1877\u001b[0m     tr_loss \u001b[38;5;241m+\u001b[39m\u001b[38;5;241m=\u001b[39m tr_loss \u001b[38;5;241m/\u001b[39m (\u001b[38;5;241m1\u001b[39m \u001b[38;5;241m+\u001b[39m \u001b[38;5;28mself\u001b[39m\u001b[38;5;241m.\u001b[39mstate\u001b[38;5;241m.\u001b[39mglobal_step \u001b[38;5;241m-\u001b[39m \u001b[38;5;28mself\u001b[39m\u001b[38;5;241m.\u001b[39m_globalstep_last_logged)\n",
            "Input \u001b[0;32mIn [419]\u001b[0m, in \u001b[0;36mCTCTrainer.training_step\u001b[0;34m(self, model, inputs)\u001b[0m\n\u001b[1;32m     34\u001b[0m \u001b[38;5;28;01mif\u001b[39;00m \u001b[38;5;28mself\u001b[39m\u001b[38;5;241m.\u001b[39muse_amp:\n\u001b[1;32m     35\u001b[0m     \u001b[38;5;28;01mwith\u001b[39;00m autocast():\n\u001b[0;32m---> 36\u001b[0m         loss \u001b[38;5;241m=\u001b[39m \u001b[38;5;28;43mself\u001b[39;49m\u001b[38;5;241;43m.\u001b[39;49m\u001b[43mcompute_loss\u001b[49m\u001b[43m(\u001b[49m\u001b[43mmodel\u001b[49m\u001b[43m,\u001b[49m\u001b[43m \u001b[49m\u001b[43minputs\u001b[49m\u001b[43m)\u001b[49m\n\u001b[1;32m     37\u001b[0m \u001b[38;5;28;01melse\u001b[39;00m:\n\u001b[1;32m     38\u001b[0m     loss \u001b[38;5;241m=\u001b[39m \u001b[38;5;28mself\u001b[39m\u001b[38;5;241m.\u001b[39mcompute_loss(model, inputs)\n",
            "Input \u001b[0;32mIn [419]\u001b[0m, in \u001b[0;36mCTCTrainer.compute_loss\u001b[0;34m(self, model, inputs, return_outputs)\u001b[0m\n\u001b[1;32m    104\u001b[0m \u001b[38;5;28mprint\u001b[39m(\u001b[38;5;124mf\u001b[39m\u001b[38;5;124m\"\u001b[39m\u001b[38;5;124mLabel lengths: \u001b[39m\u001b[38;5;132;01m{\u001b[39;00mlabel_lengths\u001b[38;5;241m.\u001b[39mcpu()\u001b[38;5;241m.\u001b[39mnumpy()\u001b[38;5;132;01m}\u001b[39;00m\u001b[38;5;124m\"\u001b[39m)\n\u001b[1;32m    106\u001b[0m \u001b[38;5;66;03m# 5. 模型前向传播\u001b[39;00m\n\u001b[0;32m--> 107\u001b[0m outputs \u001b[38;5;241m=\u001b[39m \u001b[43mmodel\u001b[49m\u001b[43m(\u001b[49m\u001b[43minput_values\u001b[49m\u001b[38;5;241;43m=\u001b[39;49m\u001b[43minput_values\u001b[49m\u001b[43m)\u001b[49m\n\u001b[1;32m    108\u001b[0m logits \u001b[38;5;241m=\u001b[39m outputs\u001b[38;5;241m.\u001b[39mlogits\n\u001b[1;32m    110\u001b[0m \u001b[38;5;66;03m# 6. 形状调整和验证\u001b[39;00m\n",
            "File \u001b[0;32m~/miniconda3/lib/python3.8/site-packages/torch/nn/modules/module.py:1518\u001b[0m, in \u001b[0;36mModule._wrapped_call_impl\u001b[0;34m(self, *args, **kwargs)\u001b[0m\n\u001b[1;32m   1516\u001b[0m     \u001b[38;5;28;01mreturn\u001b[39;00m \u001b[38;5;28mself\u001b[39m\u001b[38;5;241m.\u001b[39m_compiled_call_impl(\u001b[38;5;241m*\u001b[39margs, \u001b[38;5;241m*\u001b[39m\u001b[38;5;241m*\u001b[39mkwargs)  \u001b[38;5;66;03m# type: ignore[misc]\u001b[39;00m\n\u001b[1;32m   1517\u001b[0m \u001b[38;5;28;01melse\u001b[39;00m:\n\u001b[0;32m-> 1518\u001b[0m     \u001b[38;5;28;01mreturn\u001b[39;00m \u001b[38;5;28;43mself\u001b[39;49m\u001b[38;5;241;43m.\u001b[39;49m\u001b[43m_call_impl\u001b[49m\u001b[43m(\u001b[49m\u001b[38;5;241;43m*\u001b[39;49m\u001b[43margs\u001b[49m\u001b[43m,\u001b[49m\u001b[43m \u001b[49m\u001b[38;5;241;43m*\u001b[39;49m\u001b[38;5;241;43m*\u001b[39;49m\u001b[43mkwargs\u001b[49m\u001b[43m)\u001b[49m\n",
            "File \u001b[0;32m~/miniconda3/lib/python3.8/site-packages/torch/nn/modules/module.py:1527\u001b[0m, in \u001b[0;36mModule._call_impl\u001b[0;34m(self, *args, **kwargs)\u001b[0m\n\u001b[1;32m   1522\u001b[0m \u001b[38;5;66;03m# If we don't have any hooks, we want to skip the rest of the logic in\u001b[39;00m\n\u001b[1;32m   1523\u001b[0m \u001b[38;5;66;03m# this function, and just call forward.\u001b[39;00m\n\u001b[1;32m   1524\u001b[0m \u001b[38;5;28;01mif\u001b[39;00m \u001b[38;5;129;01mnot\u001b[39;00m (\u001b[38;5;28mself\u001b[39m\u001b[38;5;241m.\u001b[39m_backward_hooks \u001b[38;5;129;01mor\u001b[39;00m \u001b[38;5;28mself\u001b[39m\u001b[38;5;241m.\u001b[39m_backward_pre_hooks \u001b[38;5;129;01mor\u001b[39;00m \u001b[38;5;28mself\u001b[39m\u001b[38;5;241m.\u001b[39m_forward_hooks \u001b[38;5;129;01mor\u001b[39;00m \u001b[38;5;28mself\u001b[39m\u001b[38;5;241m.\u001b[39m_forward_pre_hooks\n\u001b[1;32m   1525\u001b[0m         \u001b[38;5;129;01mor\u001b[39;00m _global_backward_pre_hooks \u001b[38;5;129;01mor\u001b[39;00m _global_backward_hooks\n\u001b[1;32m   1526\u001b[0m         \u001b[38;5;129;01mor\u001b[39;00m _global_forward_hooks \u001b[38;5;129;01mor\u001b[39;00m _global_forward_pre_hooks):\n\u001b[0;32m-> 1527\u001b[0m     \u001b[38;5;28;01mreturn\u001b[39;00m \u001b[43mforward_call\u001b[49m\u001b[43m(\u001b[49m\u001b[38;5;241;43m*\u001b[39;49m\u001b[43margs\u001b[49m\u001b[43m,\u001b[49m\u001b[43m \u001b[49m\u001b[38;5;241;43m*\u001b[39;49m\u001b[38;5;241;43m*\u001b[39;49m\u001b[43mkwargs\u001b[49m\u001b[43m)\u001b[49m\n\u001b[1;32m   1529\u001b[0m \u001b[38;5;28;01mtry\u001b[39;00m:\n\u001b[1;32m   1530\u001b[0m     result \u001b[38;5;241m=\u001b[39m \u001b[38;5;28;01mNone\u001b[39;00m\n",
            "File \u001b[0;32m~/miniconda3/lib/python3.8/site-packages/accelerate/utils/operations.py:687\u001b[0m, in \u001b[0;36mconvert_outputs_to_fp32.<locals>.forward\u001b[0;34m(*args, **kwargs)\u001b[0m\n\u001b[1;32m    686\u001b[0m \u001b[38;5;28;01mdef\u001b[39;00m \u001b[38;5;21mforward\u001b[39m(\u001b[38;5;241m*\u001b[39margs, \u001b[38;5;241m*\u001b[39m\u001b[38;5;241m*\u001b[39mkwargs):\n\u001b[0;32m--> 687\u001b[0m     \u001b[38;5;28;01mreturn\u001b[39;00m \u001b[43mmodel_forward\u001b[49m\u001b[43m(\u001b[49m\u001b[38;5;241;43m*\u001b[39;49m\u001b[43margs\u001b[49m\u001b[43m,\u001b[49m\u001b[43m \u001b[49m\u001b[38;5;241;43m*\u001b[39;49m\u001b[38;5;241;43m*\u001b[39;49m\u001b[43mkwargs\u001b[49m\u001b[43m)\u001b[49m\n",
            "File \u001b[0;32m~/miniconda3/lib/python3.8/site-packages/accelerate/utils/operations.py:675\u001b[0m, in \u001b[0;36mConvertOutputsToFp32.__call__\u001b[0;34m(self, *args, **kwargs)\u001b[0m\n\u001b[1;32m    674\u001b[0m \u001b[38;5;28;01mdef\u001b[39;00m \u001b[38;5;21m__call__\u001b[39m(\u001b[38;5;28mself\u001b[39m, \u001b[38;5;241m*\u001b[39margs, \u001b[38;5;241m*\u001b[39m\u001b[38;5;241m*\u001b[39mkwargs):\n\u001b[0;32m--> 675\u001b[0m     \u001b[38;5;28;01mreturn\u001b[39;00m convert_to_fp32(\u001b[38;5;28;43mself\u001b[39;49m\u001b[38;5;241;43m.\u001b[39;49m\u001b[43mmodel_forward\u001b[49m\u001b[43m(\u001b[49m\u001b[38;5;241;43m*\u001b[39;49m\u001b[43margs\u001b[49m\u001b[43m,\u001b[49m\u001b[43m \u001b[49m\u001b[38;5;241;43m*\u001b[39;49m\u001b[38;5;241;43m*\u001b[39;49m\u001b[43mkwargs\u001b[49m\u001b[43m)\u001b[49m)\n",
            "File \u001b[0;32m~/miniconda3/lib/python3.8/site-packages/torch/amp/autocast_mode.py:16\u001b[0m, in \u001b[0;36mautocast_decorator.<locals>.decorate_autocast\u001b[0;34m(*args, **kwargs)\u001b[0m\n\u001b[1;32m     13\u001b[0m \u001b[38;5;129m@functools\u001b[39m\u001b[38;5;241m.\u001b[39mwraps(func)\n\u001b[1;32m     14\u001b[0m \u001b[38;5;28;01mdef\u001b[39;00m \u001b[38;5;21mdecorate_autocast\u001b[39m(\u001b[38;5;241m*\u001b[39margs, \u001b[38;5;241m*\u001b[39m\u001b[38;5;241m*\u001b[39mkwargs):\n\u001b[1;32m     15\u001b[0m     \u001b[38;5;28;01mwith\u001b[39;00m autocast_instance:\n\u001b[0;32m---> 16\u001b[0m         \u001b[38;5;28;01mreturn\u001b[39;00m \u001b[43mfunc\u001b[49m\u001b[43m(\u001b[49m\u001b[38;5;241;43m*\u001b[39;49m\u001b[43margs\u001b[49m\u001b[43m,\u001b[49m\u001b[43m \u001b[49m\u001b[38;5;241;43m*\u001b[39;49m\u001b[38;5;241;43m*\u001b[39;49m\u001b[43mkwargs\u001b[49m\u001b[43m)\u001b[49m\n",
            "Input \u001b[0;32mIn [404]\u001b[0m, in \u001b[0;36mWav2Vec2ForSpeechClassification.forward\u001b[0;34m(self, input_values, attention_mask, output_attentions, output_hidden_states, return_dict, labels, input_lengths, label_lengths)\u001b[0m\n\u001b[1;32m     87\u001b[0m return_dict \u001b[38;5;241m=\u001b[39m return_dict \u001b[38;5;28;01mif\u001b[39;00m return_dict \u001b[38;5;129;01mis\u001b[39;00m \u001b[38;5;129;01mnot\u001b[39;00m \u001b[38;5;28;01mNone\u001b[39;00m \u001b[38;5;28;01melse\u001b[39;00m \u001b[38;5;28mself\u001b[39m\u001b[38;5;241m.\u001b[39mconfig\u001b[38;5;241m.\u001b[39muse_return_dict\n\u001b[1;32m     89\u001b[0m \u001b[38;5;66;03m# 传递所有标准参数给wav2vec2\u001b[39;00m\n\u001b[0;32m---> 90\u001b[0m outputs \u001b[38;5;241m=\u001b[39m \u001b[38;5;28;43mself\u001b[39;49m\u001b[38;5;241;43m.\u001b[39;49m\u001b[43mwav2vec2\u001b[49m\u001b[43m(\u001b[49m\n\u001b[1;32m     91\u001b[0m \u001b[43m    \u001b[49m\u001b[43minput_values\u001b[49m\u001b[43m,\u001b[49m\n\u001b[1;32m     92\u001b[0m \u001b[43m    \u001b[49m\u001b[43mattention_mask\u001b[49m\u001b[38;5;241;43m=\u001b[39;49m\u001b[43mattention_mask\u001b[49m\u001b[43m,\u001b[49m\n\u001b[1;32m     93\u001b[0m \u001b[43m    \u001b[49m\u001b[43moutput_attentions\u001b[49m\u001b[38;5;241;43m=\u001b[39;49m\u001b[43moutput_attentions\u001b[49m\u001b[43m,\u001b[49m\n\u001b[1;32m     94\u001b[0m \u001b[43m    \u001b[49m\u001b[43moutput_hidden_states\u001b[49m\u001b[38;5;241;43m=\u001b[39;49m\u001b[43moutput_hidden_states\u001b[49m\u001b[43m,\u001b[49m\n\u001b[1;32m     95\u001b[0m \u001b[43m    \u001b[49m\u001b[43mreturn_dict\u001b[49m\u001b[38;5;241;43m=\u001b[39;49m\u001b[43mreturn_dict\u001b[49m\n\u001b[1;32m     96\u001b[0m \u001b[43m\u001b[49m\u001b[43m)\u001b[49m\n\u001b[1;32m     98\u001b[0m \u001b[38;5;66;03m# 获取隐藏状态（兼容不同返回格式）\u001b[39;00m\n\u001b[1;32m     99\u001b[0m hidden_states \u001b[38;5;241m=\u001b[39m outputs[\u001b[38;5;241m0\u001b[39m] \u001b[38;5;28;01mif\u001b[39;00m \u001b[38;5;129;01mnot\u001b[39;00m return_dict \u001b[38;5;28;01melse\u001b[39;00m outputs\u001b[38;5;241m.\u001b[39mlast_hidden_state\n",
            "File \u001b[0;32m~/miniconda3/lib/python3.8/site-packages/torch/nn/modules/module.py:1518\u001b[0m, in \u001b[0;36mModule._wrapped_call_impl\u001b[0;34m(self, *args, **kwargs)\u001b[0m\n\u001b[1;32m   1516\u001b[0m     \u001b[38;5;28;01mreturn\u001b[39;00m \u001b[38;5;28mself\u001b[39m\u001b[38;5;241m.\u001b[39m_compiled_call_impl(\u001b[38;5;241m*\u001b[39margs, \u001b[38;5;241m*\u001b[39m\u001b[38;5;241m*\u001b[39mkwargs)  \u001b[38;5;66;03m# type: ignore[misc]\u001b[39;00m\n\u001b[1;32m   1517\u001b[0m \u001b[38;5;28;01melse\u001b[39;00m:\n\u001b[0;32m-> 1518\u001b[0m     \u001b[38;5;28;01mreturn\u001b[39;00m \u001b[38;5;28;43mself\u001b[39;49m\u001b[38;5;241;43m.\u001b[39;49m\u001b[43m_call_impl\u001b[49m\u001b[43m(\u001b[49m\u001b[38;5;241;43m*\u001b[39;49m\u001b[43margs\u001b[49m\u001b[43m,\u001b[49m\u001b[43m \u001b[49m\u001b[38;5;241;43m*\u001b[39;49m\u001b[38;5;241;43m*\u001b[39;49m\u001b[43mkwargs\u001b[49m\u001b[43m)\u001b[49m\n",
            "File \u001b[0;32m~/miniconda3/lib/python3.8/site-packages/torch/nn/modules/module.py:1527\u001b[0m, in \u001b[0;36mModule._call_impl\u001b[0;34m(self, *args, **kwargs)\u001b[0m\n\u001b[1;32m   1522\u001b[0m \u001b[38;5;66;03m# If we don't have any hooks, we want to skip the rest of the logic in\u001b[39;00m\n\u001b[1;32m   1523\u001b[0m \u001b[38;5;66;03m# this function, and just call forward.\u001b[39;00m\n\u001b[1;32m   1524\u001b[0m \u001b[38;5;28;01mif\u001b[39;00m \u001b[38;5;129;01mnot\u001b[39;00m (\u001b[38;5;28mself\u001b[39m\u001b[38;5;241m.\u001b[39m_backward_hooks \u001b[38;5;129;01mor\u001b[39;00m \u001b[38;5;28mself\u001b[39m\u001b[38;5;241m.\u001b[39m_backward_pre_hooks \u001b[38;5;129;01mor\u001b[39;00m \u001b[38;5;28mself\u001b[39m\u001b[38;5;241m.\u001b[39m_forward_hooks \u001b[38;5;129;01mor\u001b[39;00m \u001b[38;5;28mself\u001b[39m\u001b[38;5;241m.\u001b[39m_forward_pre_hooks\n\u001b[1;32m   1525\u001b[0m         \u001b[38;5;129;01mor\u001b[39;00m _global_backward_pre_hooks \u001b[38;5;129;01mor\u001b[39;00m _global_backward_hooks\n\u001b[1;32m   1526\u001b[0m         \u001b[38;5;129;01mor\u001b[39;00m _global_forward_hooks \u001b[38;5;129;01mor\u001b[39;00m _global_forward_pre_hooks):\n\u001b[0;32m-> 1527\u001b[0m     \u001b[38;5;28;01mreturn\u001b[39;00m \u001b[43mforward_call\u001b[49m\u001b[43m(\u001b[49m\u001b[38;5;241;43m*\u001b[39;49m\u001b[43margs\u001b[49m\u001b[43m,\u001b[49m\u001b[43m \u001b[49m\u001b[38;5;241;43m*\u001b[39;49m\u001b[38;5;241;43m*\u001b[39;49m\u001b[43mkwargs\u001b[49m\u001b[43m)\u001b[49m\n\u001b[1;32m   1529\u001b[0m \u001b[38;5;28;01mtry\u001b[39;00m:\n\u001b[1;32m   1530\u001b[0m     result \u001b[38;5;241m=\u001b[39m \u001b[38;5;28;01mNone\u001b[39;00m\n",
            "Input \u001b[0;32mIn [404]\u001b[0m, in \u001b[0;36mFixedWav2Vec2Model.forward\u001b[0;34m(self, input_values, attention_mask, output_attentions, output_hidden_states, return_dict)\u001b[0m\n\u001b[1;32m     19\u001b[0m     input_values \u001b[38;5;241m=\u001b[39m input_values\u001b[38;5;241m.\u001b[39msqueeze(\u001b[38;5;241m1\u001b[39m)\n\u001b[1;32m     21\u001b[0m \u001b[38;5;66;03m# 传递所有参数给父类\u001b[39;00m\n\u001b[0;32m---> 22\u001b[0m \u001b[38;5;28;01mreturn\u001b[39;00m \u001b[38;5;28;43msuper\u001b[39;49m\u001b[43m(\u001b[49m\u001b[43m)\u001b[49m\u001b[38;5;241;43m.\u001b[39;49m\u001b[43mforward\u001b[49m\u001b[43m(\u001b[49m\n\u001b[1;32m     23\u001b[0m \u001b[43m    \u001b[49m\u001b[43minput_values\u001b[49m\u001b[43m,\u001b[49m\n\u001b[1;32m     24\u001b[0m \u001b[43m    \u001b[49m\u001b[43mattention_mask\u001b[49m\u001b[38;5;241;43m=\u001b[39;49m\u001b[43mattention_mask\u001b[49m\u001b[43m,\u001b[49m\n\u001b[1;32m     25\u001b[0m \u001b[43m    \u001b[49m\u001b[43moutput_attentions\u001b[49m\u001b[38;5;241;43m=\u001b[39;49m\u001b[43moutput_attentions\u001b[49m\u001b[43m,\u001b[49m\n\u001b[1;32m     26\u001b[0m \u001b[43m    \u001b[49m\u001b[43moutput_hidden_states\u001b[49m\u001b[38;5;241;43m=\u001b[39;49m\u001b[43moutput_hidden_states\u001b[49m\u001b[43m,\u001b[49m\n\u001b[1;32m     27\u001b[0m \u001b[43m    \u001b[49m\u001b[43mreturn_dict\u001b[49m\u001b[38;5;241;43m=\u001b[39;49m\u001b[43mreturn_dict\u001b[49m\n\u001b[1;32m     28\u001b[0m \u001b[43m\u001b[49m\u001b[43m)\u001b[49m\n",
            "File \u001b[0;32m~/miniconda3/lib/python3.8/site-packages/transformers/models/wav2vec2/modeling_wav2vec2.py:1552\u001b[0m, in \u001b[0;36mWav2Vec2Model.forward\u001b[0;34m(self, input_values, attention_mask, mask_time_indices, output_attentions, output_hidden_states, return_dict)\u001b[0m\n\u001b[1;32m   1547\u001b[0m output_hidden_states \u001b[38;5;241m=\u001b[39m (\n\u001b[1;32m   1548\u001b[0m     output_hidden_states \u001b[38;5;28;01mif\u001b[39;00m output_hidden_states \u001b[38;5;129;01mis\u001b[39;00m \u001b[38;5;129;01mnot\u001b[39;00m \u001b[38;5;28;01mNone\u001b[39;00m \u001b[38;5;28;01melse\u001b[39;00m \u001b[38;5;28mself\u001b[39m\u001b[38;5;241m.\u001b[39mconfig\u001b[38;5;241m.\u001b[39moutput_hidden_states\n\u001b[1;32m   1549\u001b[0m )\n\u001b[1;32m   1550\u001b[0m return_dict \u001b[38;5;241m=\u001b[39m return_dict \u001b[38;5;28;01mif\u001b[39;00m return_dict \u001b[38;5;129;01mis\u001b[39;00m \u001b[38;5;129;01mnot\u001b[39;00m \u001b[38;5;28;01mNone\u001b[39;00m \u001b[38;5;28;01melse\u001b[39;00m \u001b[38;5;28mself\u001b[39m\u001b[38;5;241m.\u001b[39mconfig\u001b[38;5;241m.\u001b[39muse_return_dict\n\u001b[0;32m-> 1552\u001b[0m extract_features \u001b[38;5;241m=\u001b[39m \u001b[38;5;28;43mself\u001b[39;49m\u001b[38;5;241;43m.\u001b[39;49m\u001b[43mfeature_extractor\u001b[49m\u001b[43m(\u001b[49m\u001b[43minput_values\u001b[49m\u001b[43m)\u001b[49m\n\u001b[1;32m   1553\u001b[0m extract_features \u001b[38;5;241m=\u001b[39m extract_features\u001b[38;5;241m.\u001b[39mtranspose(\u001b[38;5;241m1\u001b[39m, \u001b[38;5;241m2\u001b[39m)\n\u001b[1;32m   1555\u001b[0m \u001b[38;5;28;01mif\u001b[39;00m attention_mask \u001b[38;5;129;01mis\u001b[39;00m \u001b[38;5;129;01mnot\u001b[39;00m \u001b[38;5;28;01mNone\u001b[39;00m:\n\u001b[1;32m   1556\u001b[0m     \u001b[38;5;66;03m# compute reduced attention_mask corresponding to feature vectors\u001b[39;00m\n",
            "File \u001b[0;32m~/miniconda3/lib/python3.8/site-packages/torch/nn/modules/module.py:1518\u001b[0m, in \u001b[0;36mModule._wrapped_call_impl\u001b[0;34m(self, *args, **kwargs)\u001b[0m\n\u001b[1;32m   1516\u001b[0m     \u001b[38;5;28;01mreturn\u001b[39;00m \u001b[38;5;28mself\u001b[39m\u001b[38;5;241m.\u001b[39m_compiled_call_impl(\u001b[38;5;241m*\u001b[39margs, \u001b[38;5;241m*\u001b[39m\u001b[38;5;241m*\u001b[39mkwargs)  \u001b[38;5;66;03m# type: ignore[misc]\u001b[39;00m\n\u001b[1;32m   1517\u001b[0m \u001b[38;5;28;01melse\u001b[39;00m:\n\u001b[0;32m-> 1518\u001b[0m     \u001b[38;5;28;01mreturn\u001b[39;00m \u001b[38;5;28;43mself\u001b[39;49m\u001b[38;5;241;43m.\u001b[39;49m\u001b[43m_call_impl\u001b[49m\u001b[43m(\u001b[49m\u001b[38;5;241;43m*\u001b[39;49m\u001b[43margs\u001b[49m\u001b[43m,\u001b[49m\u001b[43m \u001b[49m\u001b[38;5;241;43m*\u001b[39;49m\u001b[38;5;241;43m*\u001b[39;49m\u001b[43mkwargs\u001b[49m\u001b[43m)\u001b[49m\n",
            "File \u001b[0;32m~/miniconda3/lib/python3.8/site-packages/torch/nn/modules/module.py:1527\u001b[0m, in \u001b[0;36mModule._call_impl\u001b[0;34m(self, *args, **kwargs)\u001b[0m\n\u001b[1;32m   1522\u001b[0m \u001b[38;5;66;03m# If we don't have any hooks, we want to skip the rest of the logic in\u001b[39;00m\n\u001b[1;32m   1523\u001b[0m \u001b[38;5;66;03m# this function, and just call forward.\u001b[39;00m\n\u001b[1;32m   1524\u001b[0m \u001b[38;5;28;01mif\u001b[39;00m \u001b[38;5;129;01mnot\u001b[39;00m (\u001b[38;5;28mself\u001b[39m\u001b[38;5;241m.\u001b[39m_backward_hooks \u001b[38;5;129;01mor\u001b[39;00m \u001b[38;5;28mself\u001b[39m\u001b[38;5;241m.\u001b[39m_backward_pre_hooks \u001b[38;5;129;01mor\u001b[39;00m \u001b[38;5;28mself\u001b[39m\u001b[38;5;241m.\u001b[39m_forward_hooks \u001b[38;5;129;01mor\u001b[39;00m \u001b[38;5;28mself\u001b[39m\u001b[38;5;241m.\u001b[39m_forward_pre_hooks\n\u001b[1;32m   1525\u001b[0m         \u001b[38;5;129;01mor\u001b[39;00m _global_backward_pre_hooks \u001b[38;5;129;01mor\u001b[39;00m _global_backward_hooks\n\u001b[1;32m   1526\u001b[0m         \u001b[38;5;129;01mor\u001b[39;00m _global_forward_hooks \u001b[38;5;129;01mor\u001b[39;00m _global_forward_pre_hooks):\n\u001b[0;32m-> 1527\u001b[0m     \u001b[38;5;28;01mreturn\u001b[39;00m \u001b[43mforward_call\u001b[49m\u001b[43m(\u001b[49m\u001b[38;5;241;43m*\u001b[39;49m\u001b[43margs\u001b[49m\u001b[43m,\u001b[49m\u001b[43m \u001b[49m\u001b[38;5;241;43m*\u001b[39;49m\u001b[38;5;241;43m*\u001b[39;49m\u001b[43mkwargs\u001b[49m\u001b[43m)\u001b[49m\n\u001b[1;32m   1529\u001b[0m \u001b[38;5;28;01mtry\u001b[39;00m:\n\u001b[1;32m   1530\u001b[0m     result \u001b[38;5;241m=\u001b[39m \u001b[38;5;28;01mNone\u001b[39;00m\n",
            "File \u001b[0;32m~/miniconda3/lib/python3.8/site-packages/transformers/models/wav2vec2/modeling_wav2vec2.py:460\u001b[0m, in \u001b[0;36mWav2Vec2FeatureEncoder.forward\u001b[0;34m(self, input_values)\u001b[0m\n\u001b[1;32m    455\u001b[0m         hidden_states \u001b[38;5;241m=\u001b[39m \u001b[38;5;28mself\u001b[39m\u001b[38;5;241m.\u001b[39m_gradient_checkpointing_func(\n\u001b[1;32m    456\u001b[0m             conv_layer\u001b[38;5;241m.\u001b[39m\u001b[38;5;21m__call__\u001b[39m,\n\u001b[1;32m    457\u001b[0m             hidden_states,\n\u001b[1;32m    458\u001b[0m         )\n\u001b[1;32m    459\u001b[0m     \u001b[38;5;28;01melse\u001b[39;00m:\n\u001b[0;32m--> 460\u001b[0m         hidden_states \u001b[38;5;241m=\u001b[39m \u001b[43mconv_layer\u001b[49m\u001b[43m(\u001b[49m\u001b[43mhidden_states\u001b[49m\u001b[43m)\u001b[49m\n\u001b[1;32m    462\u001b[0m \u001b[38;5;28;01mreturn\u001b[39;00m hidden_states\n",
            "File \u001b[0;32m~/miniconda3/lib/python3.8/site-packages/torch/nn/modules/module.py:1518\u001b[0m, in \u001b[0;36mModule._wrapped_call_impl\u001b[0;34m(self, *args, **kwargs)\u001b[0m\n\u001b[1;32m   1516\u001b[0m     \u001b[38;5;28;01mreturn\u001b[39;00m \u001b[38;5;28mself\u001b[39m\u001b[38;5;241m.\u001b[39m_compiled_call_impl(\u001b[38;5;241m*\u001b[39margs, \u001b[38;5;241m*\u001b[39m\u001b[38;5;241m*\u001b[39mkwargs)  \u001b[38;5;66;03m# type: ignore[misc]\u001b[39;00m\n\u001b[1;32m   1517\u001b[0m \u001b[38;5;28;01melse\u001b[39;00m:\n\u001b[0;32m-> 1518\u001b[0m     \u001b[38;5;28;01mreturn\u001b[39;00m \u001b[38;5;28;43mself\u001b[39;49m\u001b[38;5;241;43m.\u001b[39;49m\u001b[43m_call_impl\u001b[49m\u001b[43m(\u001b[49m\u001b[38;5;241;43m*\u001b[39;49m\u001b[43margs\u001b[49m\u001b[43m,\u001b[49m\u001b[43m \u001b[49m\u001b[38;5;241;43m*\u001b[39;49m\u001b[38;5;241;43m*\u001b[39;49m\u001b[43mkwargs\u001b[49m\u001b[43m)\u001b[49m\n",
            "File \u001b[0;32m~/miniconda3/lib/python3.8/site-packages/torch/nn/modules/module.py:1527\u001b[0m, in \u001b[0;36mModule._call_impl\u001b[0;34m(self, *args, **kwargs)\u001b[0m\n\u001b[1;32m   1522\u001b[0m \u001b[38;5;66;03m# If we don't have any hooks, we want to skip the rest of the logic in\u001b[39;00m\n\u001b[1;32m   1523\u001b[0m \u001b[38;5;66;03m# this function, and just call forward.\u001b[39;00m\n\u001b[1;32m   1524\u001b[0m \u001b[38;5;28;01mif\u001b[39;00m \u001b[38;5;129;01mnot\u001b[39;00m (\u001b[38;5;28mself\u001b[39m\u001b[38;5;241m.\u001b[39m_backward_hooks \u001b[38;5;129;01mor\u001b[39;00m \u001b[38;5;28mself\u001b[39m\u001b[38;5;241m.\u001b[39m_backward_pre_hooks \u001b[38;5;129;01mor\u001b[39;00m \u001b[38;5;28mself\u001b[39m\u001b[38;5;241m.\u001b[39m_forward_hooks \u001b[38;5;129;01mor\u001b[39;00m \u001b[38;5;28mself\u001b[39m\u001b[38;5;241m.\u001b[39m_forward_pre_hooks\n\u001b[1;32m   1525\u001b[0m         \u001b[38;5;129;01mor\u001b[39;00m _global_backward_pre_hooks \u001b[38;5;129;01mor\u001b[39;00m _global_backward_hooks\n\u001b[1;32m   1526\u001b[0m         \u001b[38;5;129;01mor\u001b[39;00m _global_forward_hooks \u001b[38;5;129;01mor\u001b[39;00m _global_forward_pre_hooks):\n\u001b[0;32m-> 1527\u001b[0m     \u001b[38;5;28;01mreturn\u001b[39;00m \u001b[43mforward_call\u001b[49m\u001b[43m(\u001b[49m\u001b[38;5;241;43m*\u001b[39;49m\u001b[43margs\u001b[49m\u001b[43m,\u001b[49m\u001b[43m \u001b[49m\u001b[38;5;241;43m*\u001b[39;49m\u001b[38;5;241;43m*\u001b[39;49m\u001b[43mkwargs\u001b[49m\u001b[43m)\u001b[49m\n\u001b[1;32m   1529\u001b[0m \u001b[38;5;28;01mtry\u001b[39;00m:\n\u001b[1;32m   1530\u001b[0m     result \u001b[38;5;241m=\u001b[39m \u001b[38;5;28;01mNone\u001b[39;00m\n",
            "File \u001b[0;32m~/miniconda3/lib/python3.8/site-packages/transformers/models/wav2vec2/modeling_wav2vec2.py:363\u001b[0m, in \u001b[0;36mWav2Vec2GroupNormConvLayer.forward\u001b[0;34m(self, hidden_states)\u001b[0m\n\u001b[1;32m    362\u001b[0m \u001b[38;5;28;01mdef\u001b[39;00m \u001b[38;5;21mforward\u001b[39m(\u001b[38;5;28mself\u001b[39m, hidden_states):\n\u001b[0;32m--> 363\u001b[0m     hidden_states \u001b[38;5;241m=\u001b[39m \u001b[38;5;28;43mself\u001b[39;49m\u001b[38;5;241;43m.\u001b[39;49m\u001b[43mconv\u001b[49m\u001b[43m(\u001b[49m\u001b[43mhidden_states\u001b[49m\u001b[43m)\u001b[49m\n\u001b[1;32m    364\u001b[0m     hidden_states \u001b[38;5;241m=\u001b[39m \u001b[38;5;28mself\u001b[39m\u001b[38;5;241m.\u001b[39mlayer_norm(hidden_states)\n\u001b[1;32m    365\u001b[0m     hidden_states \u001b[38;5;241m=\u001b[39m \u001b[38;5;28mself\u001b[39m\u001b[38;5;241m.\u001b[39mactivation(hidden_states)\n",
            "File \u001b[0;32m~/miniconda3/lib/python3.8/site-packages/torch/nn/modules/module.py:1518\u001b[0m, in \u001b[0;36mModule._wrapped_call_impl\u001b[0;34m(self, *args, **kwargs)\u001b[0m\n\u001b[1;32m   1516\u001b[0m     \u001b[38;5;28;01mreturn\u001b[39;00m \u001b[38;5;28mself\u001b[39m\u001b[38;5;241m.\u001b[39m_compiled_call_impl(\u001b[38;5;241m*\u001b[39margs, \u001b[38;5;241m*\u001b[39m\u001b[38;5;241m*\u001b[39mkwargs)  \u001b[38;5;66;03m# type: ignore[misc]\u001b[39;00m\n\u001b[1;32m   1517\u001b[0m \u001b[38;5;28;01melse\u001b[39;00m:\n\u001b[0;32m-> 1518\u001b[0m     \u001b[38;5;28;01mreturn\u001b[39;00m \u001b[38;5;28;43mself\u001b[39;49m\u001b[38;5;241;43m.\u001b[39;49m\u001b[43m_call_impl\u001b[49m\u001b[43m(\u001b[49m\u001b[38;5;241;43m*\u001b[39;49m\u001b[43margs\u001b[49m\u001b[43m,\u001b[49m\u001b[43m \u001b[49m\u001b[38;5;241;43m*\u001b[39;49m\u001b[38;5;241;43m*\u001b[39;49m\u001b[43mkwargs\u001b[49m\u001b[43m)\u001b[49m\n",
            "File \u001b[0;32m~/miniconda3/lib/python3.8/site-packages/torch/nn/modules/module.py:1527\u001b[0m, in \u001b[0;36mModule._call_impl\u001b[0;34m(self, *args, **kwargs)\u001b[0m\n\u001b[1;32m   1522\u001b[0m \u001b[38;5;66;03m# If we don't have any hooks, we want to skip the rest of the logic in\u001b[39;00m\n\u001b[1;32m   1523\u001b[0m \u001b[38;5;66;03m# this function, and just call forward.\u001b[39;00m\n\u001b[1;32m   1524\u001b[0m \u001b[38;5;28;01mif\u001b[39;00m \u001b[38;5;129;01mnot\u001b[39;00m (\u001b[38;5;28mself\u001b[39m\u001b[38;5;241m.\u001b[39m_backward_hooks \u001b[38;5;129;01mor\u001b[39;00m \u001b[38;5;28mself\u001b[39m\u001b[38;5;241m.\u001b[39m_backward_pre_hooks \u001b[38;5;129;01mor\u001b[39;00m \u001b[38;5;28mself\u001b[39m\u001b[38;5;241m.\u001b[39m_forward_hooks \u001b[38;5;129;01mor\u001b[39;00m \u001b[38;5;28mself\u001b[39m\u001b[38;5;241m.\u001b[39m_forward_pre_hooks\n\u001b[1;32m   1525\u001b[0m         \u001b[38;5;129;01mor\u001b[39;00m _global_backward_pre_hooks \u001b[38;5;129;01mor\u001b[39;00m _global_backward_hooks\n\u001b[1;32m   1526\u001b[0m         \u001b[38;5;129;01mor\u001b[39;00m _global_forward_hooks \u001b[38;5;129;01mor\u001b[39;00m _global_forward_pre_hooks):\n\u001b[0;32m-> 1527\u001b[0m     \u001b[38;5;28;01mreturn\u001b[39;00m \u001b[43mforward_call\u001b[49m\u001b[43m(\u001b[49m\u001b[38;5;241;43m*\u001b[39;49m\u001b[43margs\u001b[49m\u001b[43m,\u001b[49m\u001b[43m \u001b[49m\u001b[38;5;241;43m*\u001b[39;49m\u001b[38;5;241;43m*\u001b[39;49m\u001b[43mkwargs\u001b[49m\u001b[43m)\u001b[49m\n\u001b[1;32m   1529\u001b[0m \u001b[38;5;28;01mtry\u001b[39;00m:\n\u001b[1;32m   1530\u001b[0m     result \u001b[38;5;241m=\u001b[39m \u001b[38;5;28;01mNone\u001b[39;00m\n",
            "File \u001b[0;32m~/miniconda3/lib/python3.8/site-packages/torch/nn/modules/conv.py:310\u001b[0m, in \u001b[0;36mConv1d.forward\u001b[0;34m(self, input)\u001b[0m\n\u001b[1;32m    309\u001b[0m \u001b[38;5;28;01mdef\u001b[39;00m \u001b[38;5;21mforward\u001b[39m(\u001b[38;5;28mself\u001b[39m, \u001b[38;5;28minput\u001b[39m: Tensor) \u001b[38;5;241m-\u001b[39m\u001b[38;5;241m>\u001b[39m Tensor:\n\u001b[0;32m--> 310\u001b[0m     \u001b[38;5;28;01mreturn\u001b[39;00m \u001b[38;5;28;43mself\u001b[39;49m\u001b[38;5;241;43m.\u001b[39;49m\u001b[43m_conv_forward\u001b[49m\u001b[43m(\u001b[49m\u001b[38;5;28;43minput\u001b[39;49m\u001b[43m,\u001b[49m\u001b[43m \u001b[49m\u001b[38;5;28;43mself\u001b[39;49m\u001b[38;5;241;43m.\u001b[39;49m\u001b[43mweight\u001b[49m\u001b[43m,\u001b[49m\u001b[43m \u001b[49m\u001b[38;5;28;43mself\u001b[39;49m\u001b[38;5;241;43m.\u001b[39;49m\u001b[43mbias\u001b[49m\u001b[43m)\u001b[49m\n",
            "File \u001b[0;32m~/miniconda3/lib/python3.8/site-packages/torch/nn/modules/conv.py:306\u001b[0m, in \u001b[0;36mConv1d._conv_forward\u001b[0;34m(self, input, weight, bias)\u001b[0m\n\u001b[1;32m    302\u001b[0m \u001b[38;5;28;01mif\u001b[39;00m \u001b[38;5;28mself\u001b[39m\u001b[38;5;241m.\u001b[39mpadding_mode \u001b[38;5;241m!=\u001b[39m \u001b[38;5;124m'\u001b[39m\u001b[38;5;124mzeros\u001b[39m\u001b[38;5;124m'\u001b[39m:\n\u001b[1;32m    303\u001b[0m     \u001b[38;5;28;01mreturn\u001b[39;00m F\u001b[38;5;241m.\u001b[39mconv1d(F\u001b[38;5;241m.\u001b[39mpad(\u001b[38;5;28minput\u001b[39m, \u001b[38;5;28mself\u001b[39m\u001b[38;5;241m.\u001b[39m_reversed_padding_repeated_twice, mode\u001b[38;5;241m=\u001b[39m\u001b[38;5;28mself\u001b[39m\u001b[38;5;241m.\u001b[39mpadding_mode),\n\u001b[1;32m    304\u001b[0m                     weight, bias, \u001b[38;5;28mself\u001b[39m\u001b[38;5;241m.\u001b[39mstride,\n\u001b[1;32m    305\u001b[0m                     _single(\u001b[38;5;241m0\u001b[39m), \u001b[38;5;28mself\u001b[39m\u001b[38;5;241m.\u001b[39mdilation, \u001b[38;5;28mself\u001b[39m\u001b[38;5;241m.\u001b[39mgroups)\n\u001b[0;32m--> 306\u001b[0m \u001b[38;5;28;01mreturn\u001b[39;00m \u001b[43mF\u001b[49m\u001b[38;5;241;43m.\u001b[39;49m\u001b[43mconv1d\u001b[49m\u001b[43m(\u001b[49m\u001b[38;5;28;43minput\u001b[39;49m\u001b[43m,\u001b[49m\u001b[43m \u001b[49m\u001b[43mweight\u001b[49m\u001b[43m,\u001b[49m\u001b[43m \u001b[49m\u001b[43mbias\u001b[49m\u001b[43m,\u001b[49m\u001b[43m \u001b[49m\u001b[38;5;28;43mself\u001b[39;49m\u001b[38;5;241;43m.\u001b[39;49m\u001b[43mstride\u001b[49m\u001b[43m,\u001b[49m\n\u001b[1;32m    307\u001b[0m \u001b[43m                \u001b[49m\u001b[38;5;28;43mself\u001b[39;49m\u001b[38;5;241;43m.\u001b[39;49m\u001b[43mpadding\u001b[49m\u001b[43m,\u001b[49m\u001b[43m \u001b[49m\u001b[38;5;28;43mself\u001b[39;49m\u001b[38;5;241;43m.\u001b[39;49m\u001b[43mdilation\u001b[49m\u001b[43m,\u001b[49m\u001b[43m \u001b[49m\u001b[38;5;28;43mself\u001b[39;49m\u001b[38;5;241;43m.\u001b[39;49m\u001b[43mgroups\u001b[49m\u001b[43m)\u001b[49m\n",
            "\u001b[0;31mRuntimeError\u001b[0m: Expected 2D (unbatched) or 3D (batched) input to conv1d, but got input of size: [4, 1, 1, 160000]"
          ]
        }
      ],
      "source": [
        "trainer.train()"
      ]
    },
    {
      "cell_type": "code",
      "execution_count": null,
      "id": "7ebcb24b-4a27-4636-9ae9-7869d5bf67b6",
      "metadata": {
        "id": "7ebcb24b-4a27-4636-9ae9-7869d5bf67b6",
        "outputId": "7d680a3f-4caf-4c9a-c68f-2389c1ec1ee4"
      },
      "outputs": [
        {
          "name": "stdout",
          "output_type": "stream",
          "text": [
            "Input 0 shape: torch.Size([1, 160000]) (type: <class 'torch.Tensor'>)\n",
            "Input 1 shape: torch.Size([1, 160000]) (type: <class 'torch.Tensor'>)\n",
            "Padded input_values shape: torch.Size([2, 1, 160000])\n",
            "{'input_values': tensor([[[ 5.0068e-05,  5.0068e-05,  5.0068e-05,  ...,  0.0000e+00,\n",
            "           0.0000e+00,  0.0000e+00]],\n",
            "\n",
            "        [[-9.0796e-04, -1.8261e-03, -7.2571e-04,  ...,  0.0000e+00,\n",
            "           0.0000e+00,  0.0000e+00]]]), 'input_lengths': tensor([160000, 160000]), 'label_lengths': tensor([1, 1]), 'labels': tensor([1, 1])}\n",
            "Collator输出形状: torch.Size([2, 1, 160000])\n"
          ]
        },
        {
          "name": "stderr",
          "output_type": "stream",
          "text": [
            "Some weights of the model checkpoint at wav2vec2-base-960h were not used when initializing Wav2Vec2ForCTC: ['wav2vec2.encoder.pos_conv_embed.conv.weight_g', 'wav2vec2.encoder.pos_conv_embed.conv.weight_v']\n",
            "- This IS expected if you are initializing Wav2Vec2ForCTC from the checkpoint of a model trained on another task or with another architecture (e.g. initializing a BertForSequenceClassification model from a BertForPreTraining model).\n",
            "- This IS NOT expected if you are initializing Wav2Vec2ForCTC from the checkpoint of a model that you expect to be exactly identical (initializing a BertForSequenceClassification model from a BertForSequenceClassification model).\n",
            "Some weights of Wav2Vec2ForCTC were not initialized from the model checkpoint at wav2vec2-base-960h and are newly initialized: ['wav2vec2.encoder.pos_conv_embed.conv.parametrizations.weight.original0', 'wav2vec2.encoder.pos_conv_embed.conv.parametrizations.weight.original1', 'wav2vec2.masked_spec_embed']\n",
            "You should probably TRAIN this model on a down-stream task to be able to use it for predictions and inference.\n"
          ]
        },
        {
          "name": "stdout",
          "output_type": "stream",
          "text": [
            "模型输入形状: torch.Size([2, 1, 160000])\n"
          ]
        },
        {
          "ename": "RuntimeError",
          "evalue": "Expected 2D (unbatched) or 3D (batched) input to conv1d, but got input of size: [2, 1, 1, 160000]",
          "output_type": "error",
          "traceback": [
            "\u001b[0;31m---------------------------------------------------------------------------\u001b[0m",
            "\u001b[0;31mRuntimeError\u001b[0m                              Traceback (most recent call last)",
            "Input \u001b[0;32mIn [299]\u001b[0m, in \u001b[0;36m<cell line: 12>\u001b[0;34m()\u001b[0m\n\u001b[1;32m     12\u001b[0m \u001b[38;5;28;01mwith\u001b[39;00m torch\u001b[38;5;241m.\u001b[39mno_grad():\n\u001b[1;32m     13\u001b[0m     \u001b[38;5;28mprint\u001b[39m(\u001b[38;5;124mf\u001b[39m\u001b[38;5;124m\"\u001b[39m\u001b[38;5;124m模型输入形状: \u001b[39m\u001b[38;5;132;01m{\u001b[39;00mbatch[\u001b[38;5;124m'\u001b[39m\u001b[38;5;124minput_values\u001b[39m\u001b[38;5;124m'\u001b[39m]\u001b[38;5;241m.\u001b[39mshape\u001b[38;5;132;01m}\u001b[39;00m\u001b[38;5;124m\"\u001b[39m)\n\u001b[0;32m---> 14\u001b[0m     outputs \u001b[38;5;241m=\u001b[39m \u001b[43mmodel\u001b[49m\u001b[43m(\u001b[49m\u001b[43mbatch\u001b[49m\u001b[43m[\u001b[49m\u001b[38;5;124;43m\"\u001b[39;49m\u001b[38;5;124;43minput_values\u001b[39;49m\u001b[38;5;124;43m\"\u001b[39;49m\u001b[43m]\u001b[49m\u001b[43m)\u001b[49m\n",
            "File \u001b[0;32m~/miniconda3/lib/python3.8/site-packages/torch/nn/modules/module.py:1518\u001b[0m, in \u001b[0;36mModule._wrapped_call_impl\u001b[0;34m(self, *args, **kwargs)\u001b[0m\n\u001b[1;32m   1516\u001b[0m     \u001b[38;5;28;01mreturn\u001b[39;00m \u001b[38;5;28mself\u001b[39m\u001b[38;5;241m.\u001b[39m_compiled_call_impl(\u001b[38;5;241m*\u001b[39margs, \u001b[38;5;241m*\u001b[39m\u001b[38;5;241m*\u001b[39mkwargs)  \u001b[38;5;66;03m# type: ignore[misc]\u001b[39;00m\n\u001b[1;32m   1517\u001b[0m \u001b[38;5;28;01melse\u001b[39;00m:\n\u001b[0;32m-> 1518\u001b[0m     \u001b[38;5;28;01mreturn\u001b[39;00m \u001b[38;5;28;43mself\u001b[39;49m\u001b[38;5;241;43m.\u001b[39;49m\u001b[43m_call_impl\u001b[49m\u001b[43m(\u001b[49m\u001b[38;5;241;43m*\u001b[39;49m\u001b[43margs\u001b[49m\u001b[43m,\u001b[49m\u001b[43m \u001b[49m\u001b[38;5;241;43m*\u001b[39;49m\u001b[38;5;241;43m*\u001b[39;49m\u001b[43mkwargs\u001b[49m\u001b[43m)\u001b[49m\n",
            "File \u001b[0;32m~/miniconda3/lib/python3.8/site-packages/torch/nn/modules/module.py:1527\u001b[0m, in \u001b[0;36mModule._call_impl\u001b[0;34m(self, *args, **kwargs)\u001b[0m\n\u001b[1;32m   1522\u001b[0m \u001b[38;5;66;03m# If we don't have any hooks, we want to skip the rest of the logic in\u001b[39;00m\n\u001b[1;32m   1523\u001b[0m \u001b[38;5;66;03m# this function, and just call forward.\u001b[39;00m\n\u001b[1;32m   1524\u001b[0m \u001b[38;5;28;01mif\u001b[39;00m \u001b[38;5;129;01mnot\u001b[39;00m (\u001b[38;5;28mself\u001b[39m\u001b[38;5;241m.\u001b[39m_backward_hooks \u001b[38;5;129;01mor\u001b[39;00m \u001b[38;5;28mself\u001b[39m\u001b[38;5;241m.\u001b[39m_backward_pre_hooks \u001b[38;5;129;01mor\u001b[39;00m \u001b[38;5;28mself\u001b[39m\u001b[38;5;241m.\u001b[39m_forward_hooks \u001b[38;5;129;01mor\u001b[39;00m \u001b[38;5;28mself\u001b[39m\u001b[38;5;241m.\u001b[39m_forward_pre_hooks\n\u001b[1;32m   1525\u001b[0m         \u001b[38;5;129;01mor\u001b[39;00m _global_backward_pre_hooks \u001b[38;5;129;01mor\u001b[39;00m _global_backward_hooks\n\u001b[1;32m   1526\u001b[0m         \u001b[38;5;129;01mor\u001b[39;00m _global_forward_hooks \u001b[38;5;129;01mor\u001b[39;00m _global_forward_pre_hooks):\n\u001b[0;32m-> 1527\u001b[0m     \u001b[38;5;28;01mreturn\u001b[39;00m \u001b[43mforward_call\u001b[49m\u001b[43m(\u001b[49m\u001b[38;5;241;43m*\u001b[39;49m\u001b[43margs\u001b[49m\u001b[43m,\u001b[49m\u001b[43m \u001b[49m\u001b[38;5;241;43m*\u001b[39;49m\u001b[38;5;241;43m*\u001b[39;49m\u001b[43mkwargs\u001b[49m\u001b[43m)\u001b[49m\n\u001b[1;32m   1529\u001b[0m \u001b[38;5;28;01mtry\u001b[39;00m:\n\u001b[1;32m   1530\u001b[0m     result \u001b[38;5;241m=\u001b[39m \u001b[38;5;28;01mNone\u001b[39;00m\n",
            "File \u001b[0;32m~/miniconda3/lib/python3.8/site-packages/transformers/models/wav2vec2/modeling_wav2vec2.py:1967\u001b[0m, in \u001b[0;36mWav2Vec2ForCTC.forward\u001b[0;34m(self, input_values, attention_mask, output_attentions, output_hidden_states, return_dict, labels)\u001b[0m\n\u001b[1;32m   1957\u001b[0m \u001b[38;5;124mr\u001b[39m\u001b[38;5;124;03m\"\"\"\u001b[39;00m\n\u001b[1;32m   1958\u001b[0m \u001b[38;5;124;03mlabels (`torch.LongTensor` of shape `(batch_size, target_length)`, *optional*):\u001b[39;00m\n\u001b[1;32m   1959\u001b[0m \u001b[38;5;124;03m    Labels for connectionist temporal classification. Note that `target_length` has to be smaller or equal to\u001b[39;00m\n\u001b[0;32m   (...)\u001b[0m\n\u001b[1;32m   1962\u001b[0m \u001b[38;5;124;03m    config.vocab_size - 1]`.\u001b[39;00m\n\u001b[1;32m   1963\u001b[0m \u001b[38;5;124;03m\"\"\"\u001b[39;00m\n\u001b[1;32m   1965\u001b[0m return_dict \u001b[38;5;241m=\u001b[39m return_dict \u001b[38;5;28;01mif\u001b[39;00m return_dict \u001b[38;5;129;01mis\u001b[39;00m \u001b[38;5;129;01mnot\u001b[39;00m \u001b[38;5;28;01mNone\u001b[39;00m \u001b[38;5;28;01melse\u001b[39;00m \u001b[38;5;28mself\u001b[39m\u001b[38;5;241m.\u001b[39mconfig\u001b[38;5;241m.\u001b[39muse_return_dict\n\u001b[0;32m-> 1967\u001b[0m outputs \u001b[38;5;241m=\u001b[39m \u001b[38;5;28;43mself\u001b[39;49m\u001b[38;5;241;43m.\u001b[39;49m\u001b[43mwav2vec2\u001b[49m\u001b[43m(\u001b[49m\n\u001b[1;32m   1968\u001b[0m \u001b[43m    \u001b[49m\u001b[43minput_values\u001b[49m\u001b[43m,\u001b[49m\n\u001b[1;32m   1969\u001b[0m \u001b[43m    \u001b[49m\u001b[43mattention_mask\u001b[49m\u001b[38;5;241;43m=\u001b[39;49m\u001b[43mattention_mask\u001b[49m\u001b[43m,\u001b[49m\n\u001b[1;32m   1970\u001b[0m \u001b[43m    \u001b[49m\u001b[43moutput_attentions\u001b[49m\u001b[38;5;241;43m=\u001b[39;49m\u001b[43moutput_attentions\u001b[49m\u001b[43m,\u001b[49m\n\u001b[1;32m   1971\u001b[0m \u001b[43m    \u001b[49m\u001b[43moutput_hidden_states\u001b[49m\u001b[38;5;241;43m=\u001b[39;49m\u001b[43moutput_hidden_states\u001b[49m\u001b[43m,\u001b[49m\n\u001b[1;32m   1972\u001b[0m \u001b[43m    \u001b[49m\u001b[43mreturn_dict\u001b[49m\u001b[38;5;241;43m=\u001b[39;49m\u001b[43mreturn_dict\u001b[49m\u001b[43m,\u001b[49m\n\u001b[1;32m   1973\u001b[0m \u001b[43m\u001b[49m\u001b[43m)\u001b[49m\n\u001b[1;32m   1975\u001b[0m hidden_states \u001b[38;5;241m=\u001b[39m outputs[\u001b[38;5;241m0\u001b[39m]\n\u001b[1;32m   1976\u001b[0m hidden_states \u001b[38;5;241m=\u001b[39m \u001b[38;5;28mself\u001b[39m\u001b[38;5;241m.\u001b[39mdropout(hidden_states)\n",
            "File \u001b[0;32m~/miniconda3/lib/python3.8/site-packages/torch/nn/modules/module.py:1518\u001b[0m, in \u001b[0;36mModule._wrapped_call_impl\u001b[0;34m(self, *args, **kwargs)\u001b[0m\n\u001b[1;32m   1516\u001b[0m     \u001b[38;5;28;01mreturn\u001b[39;00m \u001b[38;5;28mself\u001b[39m\u001b[38;5;241m.\u001b[39m_compiled_call_impl(\u001b[38;5;241m*\u001b[39margs, \u001b[38;5;241m*\u001b[39m\u001b[38;5;241m*\u001b[39mkwargs)  \u001b[38;5;66;03m# type: ignore[misc]\u001b[39;00m\n\u001b[1;32m   1517\u001b[0m \u001b[38;5;28;01melse\u001b[39;00m:\n\u001b[0;32m-> 1518\u001b[0m     \u001b[38;5;28;01mreturn\u001b[39;00m \u001b[38;5;28;43mself\u001b[39;49m\u001b[38;5;241;43m.\u001b[39;49m\u001b[43m_call_impl\u001b[49m\u001b[43m(\u001b[49m\u001b[38;5;241;43m*\u001b[39;49m\u001b[43margs\u001b[49m\u001b[43m,\u001b[49m\u001b[43m \u001b[49m\u001b[38;5;241;43m*\u001b[39;49m\u001b[38;5;241;43m*\u001b[39;49m\u001b[43mkwargs\u001b[49m\u001b[43m)\u001b[49m\n",
            "File \u001b[0;32m~/miniconda3/lib/python3.8/site-packages/torch/nn/modules/module.py:1527\u001b[0m, in \u001b[0;36mModule._call_impl\u001b[0;34m(self, *args, **kwargs)\u001b[0m\n\u001b[1;32m   1522\u001b[0m \u001b[38;5;66;03m# If we don't have any hooks, we want to skip the rest of the logic in\u001b[39;00m\n\u001b[1;32m   1523\u001b[0m \u001b[38;5;66;03m# this function, and just call forward.\u001b[39;00m\n\u001b[1;32m   1524\u001b[0m \u001b[38;5;28;01mif\u001b[39;00m \u001b[38;5;129;01mnot\u001b[39;00m (\u001b[38;5;28mself\u001b[39m\u001b[38;5;241m.\u001b[39m_backward_hooks \u001b[38;5;129;01mor\u001b[39;00m \u001b[38;5;28mself\u001b[39m\u001b[38;5;241m.\u001b[39m_backward_pre_hooks \u001b[38;5;129;01mor\u001b[39;00m \u001b[38;5;28mself\u001b[39m\u001b[38;5;241m.\u001b[39m_forward_hooks \u001b[38;5;129;01mor\u001b[39;00m \u001b[38;5;28mself\u001b[39m\u001b[38;5;241m.\u001b[39m_forward_pre_hooks\n\u001b[1;32m   1525\u001b[0m         \u001b[38;5;129;01mor\u001b[39;00m _global_backward_pre_hooks \u001b[38;5;129;01mor\u001b[39;00m _global_backward_hooks\n\u001b[1;32m   1526\u001b[0m         \u001b[38;5;129;01mor\u001b[39;00m _global_forward_hooks \u001b[38;5;129;01mor\u001b[39;00m _global_forward_pre_hooks):\n\u001b[0;32m-> 1527\u001b[0m     \u001b[38;5;28;01mreturn\u001b[39;00m \u001b[43mforward_call\u001b[49m\u001b[43m(\u001b[49m\u001b[38;5;241;43m*\u001b[39;49m\u001b[43margs\u001b[49m\u001b[43m,\u001b[49m\u001b[43m \u001b[49m\u001b[38;5;241;43m*\u001b[39;49m\u001b[38;5;241;43m*\u001b[39;49m\u001b[43mkwargs\u001b[49m\u001b[43m)\u001b[49m\n\u001b[1;32m   1529\u001b[0m \u001b[38;5;28;01mtry\u001b[39;00m:\n\u001b[1;32m   1530\u001b[0m     result \u001b[38;5;241m=\u001b[39m \u001b[38;5;28;01mNone\u001b[39;00m\n",
            "File \u001b[0;32m~/miniconda3/lib/python3.8/site-packages/transformers/models/wav2vec2/modeling_wav2vec2.py:1552\u001b[0m, in \u001b[0;36mWav2Vec2Model.forward\u001b[0;34m(self, input_values, attention_mask, mask_time_indices, output_attentions, output_hidden_states, return_dict)\u001b[0m\n\u001b[1;32m   1547\u001b[0m output_hidden_states \u001b[38;5;241m=\u001b[39m (\n\u001b[1;32m   1548\u001b[0m     output_hidden_states \u001b[38;5;28;01mif\u001b[39;00m output_hidden_states \u001b[38;5;129;01mis\u001b[39;00m \u001b[38;5;129;01mnot\u001b[39;00m \u001b[38;5;28;01mNone\u001b[39;00m \u001b[38;5;28;01melse\u001b[39;00m \u001b[38;5;28mself\u001b[39m\u001b[38;5;241m.\u001b[39mconfig\u001b[38;5;241m.\u001b[39moutput_hidden_states\n\u001b[1;32m   1549\u001b[0m )\n\u001b[1;32m   1550\u001b[0m return_dict \u001b[38;5;241m=\u001b[39m return_dict \u001b[38;5;28;01mif\u001b[39;00m return_dict \u001b[38;5;129;01mis\u001b[39;00m \u001b[38;5;129;01mnot\u001b[39;00m \u001b[38;5;28;01mNone\u001b[39;00m \u001b[38;5;28;01melse\u001b[39;00m \u001b[38;5;28mself\u001b[39m\u001b[38;5;241m.\u001b[39mconfig\u001b[38;5;241m.\u001b[39muse_return_dict\n\u001b[0;32m-> 1552\u001b[0m extract_features \u001b[38;5;241m=\u001b[39m \u001b[38;5;28;43mself\u001b[39;49m\u001b[38;5;241;43m.\u001b[39;49m\u001b[43mfeature_extractor\u001b[49m\u001b[43m(\u001b[49m\u001b[43minput_values\u001b[49m\u001b[43m)\u001b[49m\n\u001b[1;32m   1553\u001b[0m extract_features \u001b[38;5;241m=\u001b[39m extract_features\u001b[38;5;241m.\u001b[39mtranspose(\u001b[38;5;241m1\u001b[39m, \u001b[38;5;241m2\u001b[39m)\n\u001b[1;32m   1555\u001b[0m \u001b[38;5;28;01mif\u001b[39;00m attention_mask \u001b[38;5;129;01mis\u001b[39;00m \u001b[38;5;129;01mnot\u001b[39;00m \u001b[38;5;28;01mNone\u001b[39;00m:\n\u001b[1;32m   1556\u001b[0m     \u001b[38;5;66;03m# compute reduced attention_mask corresponding to feature vectors\u001b[39;00m\n",
            "File \u001b[0;32m~/miniconda3/lib/python3.8/site-packages/torch/nn/modules/module.py:1518\u001b[0m, in \u001b[0;36mModule._wrapped_call_impl\u001b[0;34m(self, *args, **kwargs)\u001b[0m\n\u001b[1;32m   1516\u001b[0m     \u001b[38;5;28;01mreturn\u001b[39;00m \u001b[38;5;28mself\u001b[39m\u001b[38;5;241m.\u001b[39m_compiled_call_impl(\u001b[38;5;241m*\u001b[39margs, \u001b[38;5;241m*\u001b[39m\u001b[38;5;241m*\u001b[39mkwargs)  \u001b[38;5;66;03m# type: ignore[misc]\u001b[39;00m\n\u001b[1;32m   1517\u001b[0m \u001b[38;5;28;01melse\u001b[39;00m:\n\u001b[0;32m-> 1518\u001b[0m     \u001b[38;5;28;01mreturn\u001b[39;00m \u001b[38;5;28;43mself\u001b[39;49m\u001b[38;5;241;43m.\u001b[39;49m\u001b[43m_call_impl\u001b[49m\u001b[43m(\u001b[49m\u001b[38;5;241;43m*\u001b[39;49m\u001b[43margs\u001b[49m\u001b[43m,\u001b[49m\u001b[43m \u001b[49m\u001b[38;5;241;43m*\u001b[39;49m\u001b[38;5;241;43m*\u001b[39;49m\u001b[43mkwargs\u001b[49m\u001b[43m)\u001b[49m\n",
            "File \u001b[0;32m~/miniconda3/lib/python3.8/site-packages/torch/nn/modules/module.py:1527\u001b[0m, in \u001b[0;36mModule._call_impl\u001b[0;34m(self, *args, **kwargs)\u001b[0m\n\u001b[1;32m   1522\u001b[0m \u001b[38;5;66;03m# If we don't have any hooks, we want to skip the rest of the logic in\u001b[39;00m\n\u001b[1;32m   1523\u001b[0m \u001b[38;5;66;03m# this function, and just call forward.\u001b[39;00m\n\u001b[1;32m   1524\u001b[0m \u001b[38;5;28;01mif\u001b[39;00m \u001b[38;5;129;01mnot\u001b[39;00m (\u001b[38;5;28mself\u001b[39m\u001b[38;5;241m.\u001b[39m_backward_hooks \u001b[38;5;129;01mor\u001b[39;00m \u001b[38;5;28mself\u001b[39m\u001b[38;5;241m.\u001b[39m_backward_pre_hooks \u001b[38;5;129;01mor\u001b[39;00m \u001b[38;5;28mself\u001b[39m\u001b[38;5;241m.\u001b[39m_forward_hooks \u001b[38;5;129;01mor\u001b[39;00m \u001b[38;5;28mself\u001b[39m\u001b[38;5;241m.\u001b[39m_forward_pre_hooks\n\u001b[1;32m   1525\u001b[0m         \u001b[38;5;129;01mor\u001b[39;00m _global_backward_pre_hooks \u001b[38;5;129;01mor\u001b[39;00m _global_backward_hooks\n\u001b[1;32m   1526\u001b[0m         \u001b[38;5;129;01mor\u001b[39;00m _global_forward_hooks \u001b[38;5;129;01mor\u001b[39;00m _global_forward_pre_hooks):\n\u001b[0;32m-> 1527\u001b[0m     \u001b[38;5;28;01mreturn\u001b[39;00m \u001b[43mforward_call\u001b[49m\u001b[43m(\u001b[49m\u001b[38;5;241;43m*\u001b[39;49m\u001b[43margs\u001b[49m\u001b[43m,\u001b[49m\u001b[43m \u001b[49m\u001b[38;5;241;43m*\u001b[39;49m\u001b[38;5;241;43m*\u001b[39;49m\u001b[43mkwargs\u001b[49m\u001b[43m)\u001b[49m\n\u001b[1;32m   1529\u001b[0m \u001b[38;5;28;01mtry\u001b[39;00m:\n\u001b[1;32m   1530\u001b[0m     result \u001b[38;5;241m=\u001b[39m \u001b[38;5;28;01mNone\u001b[39;00m\n",
            "File \u001b[0;32m~/miniconda3/lib/python3.8/site-packages/transformers/models/wav2vec2/modeling_wav2vec2.py:460\u001b[0m, in \u001b[0;36mWav2Vec2FeatureEncoder.forward\u001b[0;34m(self, input_values)\u001b[0m\n\u001b[1;32m    455\u001b[0m         hidden_states \u001b[38;5;241m=\u001b[39m \u001b[38;5;28mself\u001b[39m\u001b[38;5;241m.\u001b[39m_gradient_checkpointing_func(\n\u001b[1;32m    456\u001b[0m             conv_layer\u001b[38;5;241m.\u001b[39m\u001b[38;5;21m__call__\u001b[39m,\n\u001b[1;32m    457\u001b[0m             hidden_states,\n\u001b[1;32m    458\u001b[0m         )\n\u001b[1;32m    459\u001b[0m     \u001b[38;5;28;01melse\u001b[39;00m:\n\u001b[0;32m--> 460\u001b[0m         hidden_states \u001b[38;5;241m=\u001b[39m \u001b[43mconv_layer\u001b[49m\u001b[43m(\u001b[49m\u001b[43mhidden_states\u001b[49m\u001b[43m)\u001b[49m\n\u001b[1;32m    462\u001b[0m \u001b[38;5;28;01mreturn\u001b[39;00m hidden_states\n",
            "File \u001b[0;32m~/miniconda3/lib/python3.8/site-packages/torch/nn/modules/module.py:1518\u001b[0m, in \u001b[0;36mModule._wrapped_call_impl\u001b[0;34m(self, *args, **kwargs)\u001b[0m\n\u001b[1;32m   1516\u001b[0m     \u001b[38;5;28;01mreturn\u001b[39;00m \u001b[38;5;28mself\u001b[39m\u001b[38;5;241m.\u001b[39m_compiled_call_impl(\u001b[38;5;241m*\u001b[39margs, \u001b[38;5;241m*\u001b[39m\u001b[38;5;241m*\u001b[39mkwargs)  \u001b[38;5;66;03m# type: ignore[misc]\u001b[39;00m\n\u001b[1;32m   1517\u001b[0m \u001b[38;5;28;01melse\u001b[39;00m:\n\u001b[0;32m-> 1518\u001b[0m     \u001b[38;5;28;01mreturn\u001b[39;00m \u001b[38;5;28;43mself\u001b[39;49m\u001b[38;5;241;43m.\u001b[39;49m\u001b[43m_call_impl\u001b[49m\u001b[43m(\u001b[49m\u001b[38;5;241;43m*\u001b[39;49m\u001b[43margs\u001b[49m\u001b[43m,\u001b[49m\u001b[43m \u001b[49m\u001b[38;5;241;43m*\u001b[39;49m\u001b[38;5;241;43m*\u001b[39;49m\u001b[43mkwargs\u001b[49m\u001b[43m)\u001b[49m\n",
            "File \u001b[0;32m~/miniconda3/lib/python3.8/site-packages/torch/nn/modules/module.py:1527\u001b[0m, in \u001b[0;36mModule._call_impl\u001b[0;34m(self, *args, **kwargs)\u001b[0m\n\u001b[1;32m   1522\u001b[0m \u001b[38;5;66;03m# If we don't have any hooks, we want to skip the rest of the logic in\u001b[39;00m\n\u001b[1;32m   1523\u001b[0m \u001b[38;5;66;03m# this function, and just call forward.\u001b[39;00m\n\u001b[1;32m   1524\u001b[0m \u001b[38;5;28;01mif\u001b[39;00m \u001b[38;5;129;01mnot\u001b[39;00m (\u001b[38;5;28mself\u001b[39m\u001b[38;5;241m.\u001b[39m_backward_hooks \u001b[38;5;129;01mor\u001b[39;00m \u001b[38;5;28mself\u001b[39m\u001b[38;5;241m.\u001b[39m_backward_pre_hooks \u001b[38;5;129;01mor\u001b[39;00m \u001b[38;5;28mself\u001b[39m\u001b[38;5;241m.\u001b[39m_forward_hooks \u001b[38;5;129;01mor\u001b[39;00m \u001b[38;5;28mself\u001b[39m\u001b[38;5;241m.\u001b[39m_forward_pre_hooks\n\u001b[1;32m   1525\u001b[0m         \u001b[38;5;129;01mor\u001b[39;00m _global_backward_pre_hooks \u001b[38;5;129;01mor\u001b[39;00m _global_backward_hooks\n\u001b[1;32m   1526\u001b[0m         \u001b[38;5;129;01mor\u001b[39;00m _global_forward_hooks \u001b[38;5;129;01mor\u001b[39;00m _global_forward_pre_hooks):\n\u001b[0;32m-> 1527\u001b[0m     \u001b[38;5;28;01mreturn\u001b[39;00m \u001b[43mforward_call\u001b[49m\u001b[43m(\u001b[49m\u001b[38;5;241;43m*\u001b[39;49m\u001b[43margs\u001b[49m\u001b[43m,\u001b[49m\u001b[43m \u001b[49m\u001b[38;5;241;43m*\u001b[39;49m\u001b[38;5;241;43m*\u001b[39;49m\u001b[43mkwargs\u001b[49m\u001b[43m)\u001b[49m\n\u001b[1;32m   1529\u001b[0m \u001b[38;5;28;01mtry\u001b[39;00m:\n\u001b[1;32m   1530\u001b[0m     result \u001b[38;5;241m=\u001b[39m \u001b[38;5;28;01mNone\u001b[39;00m\n",
            "File \u001b[0;32m~/miniconda3/lib/python3.8/site-packages/transformers/models/wav2vec2/modeling_wav2vec2.py:363\u001b[0m, in \u001b[0;36mWav2Vec2GroupNormConvLayer.forward\u001b[0;34m(self, hidden_states)\u001b[0m\n\u001b[1;32m    362\u001b[0m \u001b[38;5;28;01mdef\u001b[39;00m \u001b[38;5;21mforward\u001b[39m(\u001b[38;5;28mself\u001b[39m, hidden_states):\n\u001b[0;32m--> 363\u001b[0m     hidden_states \u001b[38;5;241m=\u001b[39m \u001b[38;5;28;43mself\u001b[39;49m\u001b[38;5;241;43m.\u001b[39;49m\u001b[43mconv\u001b[49m\u001b[43m(\u001b[49m\u001b[43mhidden_states\u001b[49m\u001b[43m)\u001b[49m\n\u001b[1;32m    364\u001b[0m     hidden_states \u001b[38;5;241m=\u001b[39m \u001b[38;5;28mself\u001b[39m\u001b[38;5;241m.\u001b[39mlayer_norm(hidden_states)\n\u001b[1;32m    365\u001b[0m     hidden_states \u001b[38;5;241m=\u001b[39m \u001b[38;5;28mself\u001b[39m\u001b[38;5;241m.\u001b[39mactivation(hidden_states)\n",
            "File \u001b[0;32m~/miniconda3/lib/python3.8/site-packages/torch/nn/modules/module.py:1518\u001b[0m, in \u001b[0;36mModule._wrapped_call_impl\u001b[0;34m(self, *args, **kwargs)\u001b[0m\n\u001b[1;32m   1516\u001b[0m     \u001b[38;5;28;01mreturn\u001b[39;00m \u001b[38;5;28mself\u001b[39m\u001b[38;5;241m.\u001b[39m_compiled_call_impl(\u001b[38;5;241m*\u001b[39margs, \u001b[38;5;241m*\u001b[39m\u001b[38;5;241m*\u001b[39mkwargs)  \u001b[38;5;66;03m# type: ignore[misc]\u001b[39;00m\n\u001b[1;32m   1517\u001b[0m \u001b[38;5;28;01melse\u001b[39;00m:\n\u001b[0;32m-> 1518\u001b[0m     \u001b[38;5;28;01mreturn\u001b[39;00m \u001b[38;5;28;43mself\u001b[39;49m\u001b[38;5;241;43m.\u001b[39;49m\u001b[43m_call_impl\u001b[49m\u001b[43m(\u001b[49m\u001b[38;5;241;43m*\u001b[39;49m\u001b[43margs\u001b[49m\u001b[43m,\u001b[49m\u001b[43m \u001b[49m\u001b[38;5;241;43m*\u001b[39;49m\u001b[38;5;241;43m*\u001b[39;49m\u001b[43mkwargs\u001b[49m\u001b[43m)\u001b[49m\n",
            "File \u001b[0;32m~/miniconda3/lib/python3.8/site-packages/torch/nn/modules/module.py:1527\u001b[0m, in \u001b[0;36mModule._call_impl\u001b[0;34m(self, *args, **kwargs)\u001b[0m\n\u001b[1;32m   1522\u001b[0m \u001b[38;5;66;03m# If we don't have any hooks, we want to skip the rest of the logic in\u001b[39;00m\n\u001b[1;32m   1523\u001b[0m \u001b[38;5;66;03m# this function, and just call forward.\u001b[39;00m\n\u001b[1;32m   1524\u001b[0m \u001b[38;5;28;01mif\u001b[39;00m \u001b[38;5;129;01mnot\u001b[39;00m (\u001b[38;5;28mself\u001b[39m\u001b[38;5;241m.\u001b[39m_backward_hooks \u001b[38;5;129;01mor\u001b[39;00m \u001b[38;5;28mself\u001b[39m\u001b[38;5;241m.\u001b[39m_backward_pre_hooks \u001b[38;5;129;01mor\u001b[39;00m \u001b[38;5;28mself\u001b[39m\u001b[38;5;241m.\u001b[39m_forward_hooks \u001b[38;5;129;01mor\u001b[39;00m \u001b[38;5;28mself\u001b[39m\u001b[38;5;241m.\u001b[39m_forward_pre_hooks\n\u001b[1;32m   1525\u001b[0m         \u001b[38;5;129;01mor\u001b[39;00m _global_backward_pre_hooks \u001b[38;5;129;01mor\u001b[39;00m _global_backward_hooks\n\u001b[1;32m   1526\u001b[0m         \u001b[38;5;129;01mor\u001b[39;00m _global_forward_hooks \u001b[38;5;129;01mor\u001b[39;00m _global_forward_pre_hooks):\n\u001b[0;32m-> 1527\u001b[0m     \u001b[38;5;28;01mreturn\u001b[39;00m \u001b[43mforward_call\u001b[49m\u001b[43m(\u001b[49m\u001b[38;5;241;43m*\u001b[39;49m\u001b[43margs\u001b[49m\u001b[43m,\u001b[49m\u001b[43m \u001b[49m\u001b[38;5;241;43m*\u001b[39;49m\u001b[38;5;241;43m*\u001b[39;49m\u001b[43mkwargs\u001b[49m\u001b[43m)\u001b[49m\n\u001b[1;32m   1529\u001b[0m \u001b[38;5;28;01mtry\u001b[39;00m:\n\u001b[1;32m   1530\u001b[0m     result \u001b[38;5;241m=\u001b[39m \u001b[38;5;28;01mNone\u001b[39;00m\n",
            "File \u001b[0;32m~/miniconda3/lib/python3.8/site-packages/torch/nn/modules/conv.py:310\u001b[0m, in \u001b[0;36mConv1d.forward\u001b[0;34m(self, input)\u001b[0m\n\u001b[1;32m    309\u001b[0m \u001b[38;5;28;01mdef\u001b[39;00m \u001b[38;5;21mforward\u001b[39m(\u001b[38;5;28mself\u001b[39m, \u001b[38;5;28minput\u001b[39m: Tensor) \u001b[38;5;241m-\u001b[39m\u001b[38;5;241m>\u001b[39m Tensor:\n\u001b[0;32m--> 310\u001b[0m     \u001b[38;5;28;01mreturn\u001b[39;00m \u001b[38;5;28;43mself\u001b[39;49m\u001b[38;5;241;43m.\u001b[39;49m\u001b[43m_conv_forward\u001b[49m\u001b[43m(\u001b[49m\u001b[38;5;28;43minput\u001b[39;49m\u001b[43m,\u001b[49m\u001b[43m \u001b[49m\u001b[38;5;28;43mself\u001b[39;49m\u001b[38;5;241;43m.\u001b[39;49m\u001b[43mweight\u001b[49m\u001b[43m,\u001b[49m\u001b[43m \u001b[49m\u001b[38;5;28;43mself\u001b[39;49m\u001b[38;5;241;43m.\u001b[39;49m\u001b[43mbias\u001b[49m\u001b[43m)\u001b[49m\n",
            "File \u001b[0;32m~/miniconda3/lib/python3.8/site-packages/torch/nn/modules/conv.py:306\u001b[0m, in \u001b[0;36mConv1d._conv_forward\u001b[0;34m(self, input, weight, bias)\u001b[0m\n\u001b[1;32m    302\u001b[0m \u001b[38;5;28;01mif\u001b[39;00m \u001b[38;5;28mself\u001b[39m\u001b[38;5;241m.\u001b[39mpadding_mode \u001b[38;5;241m!=\u001b[39m \u001b[38;5;124m'\u001b[39m\u001b[38;5;124mzeros\u001b[39m\u001b[38;5;124m'\u001b[39m:\n\u001b[1;32m    303\u001b[0m     \u001b[38;5;28;01mreturn\u001b[39;00m F\u001b[38;5;241m.\u001b[39mconv1d(F\u001b[38;5;241m.\u001b[39mpad(\u001b[38;5;28minput\u001b[39m, \u001b[38;5;28mself\u001b[39m\u001b[38;5;241m.\u001b[39m_reversed_padding_repeated_twice, mode\u001b[38;5;241m=\u001b[39m\u001b[38;5;28mself\u001b[39m\u001b[38;5;241m.\u001b[39mpadding_mode),\n\u001b[1;32m    304\u001b[0m                     weight, bias, \u001b[38;5;28mself\u001b[39m\u001b[38;5;241m.\u001b[39mstride,\n\u001b[1;32m    305\u001b[0m                     _single(\u001b[38;5;241m0\u001b[39m), \u001b[38;5;28mself\u001b[39m\u001b[38;5;241m.\u001b[39mdilation, \u001b[38;5;28mself\u001b[39m\u001b[38;5;241m.\u001b[39mgroups)\n\u001b[0;32m--> 306\u001b[0m \u001b[38;5;28;01mreturn\u001b[39;00m \u001b[43mF\u001b[49m\u001b[38;5;241;43m.\u001b[39;49m\u001b[43mconv1d\u001b[49m\u001b[43m(\u001b[49m\u001b[38;5;28;43minput\u001b[39;49m\u001b[43m,\u001b[49m\u001b[43m \u001b[49m\u001b[43mweight\u001b[49m\u001b[43m,\u001b[49m\u001b[43m \u001b[49m\u001b[43mbias\u001b[49m\u001b[43m,\u001b[49m\u001b[43m \u001b[49m\u001b[38;5;28;43mself\u001b[39;49m\u001b[38;5;241;43m.\u001b[39;49m\u001b[43mstride\u001b[49m\u001b[43m,\u001b[49m\n\u001b[1;32m    307\u001b[0m \u001b[43m                \u001b[49m\u001b[38;5;28;43mself\u001b[39;49m\u001b[38;5;241;43m.\u001b[39;49m\u001b[43mpadding\u001b[49m\u001b[43m,\u001b[49m\u001b[43m \u001b[49m\u001b[38;5;28;43mself\u001b[39;49m\u001b[38;5;241;43m.\u001b[39;49m\u001b[43mdilation\u001b[49m\u001b[43m,\u001b[49m\u001b[43m \u001b[49m\u001b[38;5;28;43mself\u001b[39;49m\u001b[38;5;241;43m.\u001b[39;49m\u001b[43mgroups\u001b[49m\u001b[43m)\u001b[49m\n",
            "\u001b[0;31mRuntimeError\u001b[0m: Expected 2D (unbatched) or 3D (batched) input to conv1d, but got input of size: [2, 1, 1, 160000]"
          ]
        }
      ],
      "source": [
        "# 检查原始数据\n",
        "sample = train_dataset[0]\n",
        "# print(f\"原始样本形状: {sample['input_values']}\")  # 应为 (seq_len,) 或 (1, seq_len)\n",
        "\n",
        "# 检查DataCollator输出\n",
        "collator = DataCollatorCTCWithPadding(processor)\n",
        "batch = collator([train_dataset[i] for i in range(2)])\n",
        "print(f\"Collator输出形状: {batch['input_values'].shape}\")  # 应为 [2,1,seq_len]\n",
        "\n",
        "# 检查模型接收的输入\n",
        "model = Wav2Vec2ForCTC.from_pretrained(\"wav2vec2-base-960h\")\n",
        "with torch.no_grad():\n",
        "    print(f\"模型输入形状: {batch['input_values'].shape}\")\n",
        "    outputs = model(batch[\"input_values\"])"
      ]
    },
    {
      "cell_type": "code",
      "execution_count": null,
      "id": "ac4fa05a-a411-4310-b311-bca54e3b7d22",
      "metadata": {
        "id": "ac4fa05a-a411-4310-b311-bca54e3b7d22"
      },
      "outputs": [],
      "source": [
        "test_dataset = load_dataset(\"csv\", data_files={\"test\": \"/content/data/test.csv\"}, delimiter=\"\\t\")[\"test\"]\n",
        "test_dataset"
      ]
    },
    {
      "cell_type": "code",
      "execution_count": null,
      "id": "d50881d8-63d2-451f-bc3c-dfc146d941ed",
      "metadata": {
        "id": "d50881d8-63d2-451f-bc3c-dfc146d941ed"
      },
      "outputs": [],
      "source": [
        "from dataclasses import dataclass\n",
        "from typing import Optional, Tuple, Dict\n",
        "\n",
        "@dataclass\n",
        "class DualTaskOutput:\n",
        "    \"\"\"双任务统一输出格式\"\"\"\n",
        "    loss: Optional[torch.FloatTensor] = None\n",
        "    logits_emotion: torch.FloatTensor = None\n",
        "    logits_intensity: torch.FloatTensor = None\n",
        "    hidden_states: Optional[Tuple[torch.FloatTensor]] = None\n",
        "    attentions: Optional[Tuple[torch.FloatTensor]] = None\n",
        "    metrics: Optional[Dict[str, float]] = None  # 可选：存储计算好的指标"
      ]
    },
    {
      "cell_type": "code",
      "execution_count": null,
      "id": "b5519875-3844-49d0-b00b-9552b038c6ca",
      "metadata": {
        "id": "b5519875-3844-49d0-b00b-9552b038c6ca"
      },
      "outputs": [],
      "source": [
        "class Wav2Vec2ForDualTask(Wav2Vec2PreTrainedModel):\n",
        "    def __init__(self, config):\n",
        "        super().__init__(config)\n",
        "        # 初始化主干网络\n",
        "        self.wav2vec2 = Wav2Vec2Model(config)\n",
        "\n",
        "        # 双任务分类头\n",
        "        self.emotion_head = nn.Linear(config.hidden_size, config.num_emotion_labels)\n",
        "        self.intensity_head = nn.Linear(config.hidden_size, config.num_intensity_labels)\n",
        "\n",
        "        # 初始化权重\n",
        "        self.init_weights()\n",
        "\n",
        "    def forward(self, input_values, attention_mask=None, labels_emotion=None, labels_intensity=None, return_dict=True):\n",
        "        # 特征提取\n",
        "        outputs = self.wav2vec2(\n",
        "            input_values,\n",
        "            attention_mask=attention_mask,\n",
        "            return_dict=return_dict\n",
        "        )\n",
        "\n",
        "        # 池化特征\n",
        "        pooled_output = outputs.last_hidden_state.mean(dim=1)\n",
        "\n",
        "        # 双任务预测\n",
        "        logits_emotion = self.emotion_head(pooled_output)\n",
        "        logits_intensity = self.intensity_head(pooled_output)\n",
        "\n",
        "        # 损失计算\n",
        "        loss = 0\n",
        "        if labels_emotion is not None:\n",
        "            loss += F.cross_entropy(logits_emotion, labels_emotion)\n",
        "        if labels_intensity is not None:\n",
        "            if labels_intensity.dtype == torch.long:\n",
        "                loss += F.cross_entropy(logits_intensity, labels_intensity)\n",
        "            else:\n",
        "                loss += F.mse_loss(logits_intensity.squeeze(), labels_intensity.float())\n",
        "\n",
        "        # 统一输出格式\n",
        "        if not return_dict:\n",
        "            return (loss, logits_emotion, logits_intensity) + outputs[2:]\n",
        "\n",
        "        return DualTaskOutput(\n",
        "            loss=loss if loss != 0 else None,\n",
        "            logits_emotion=logits_emotion,\n",
        "            logits_intensity=logits_intensity,\n",
        "            hidden_states=outputs.hidden_states,\n",
        "            attentions=outputs.attentions\n",
        "        )"
      ]
    },
    {
      "cell_type": "code",
      "execution_count": null,
      "id": "c8722074-69f8-45bd-9be6-bfba75c0182f",
      "metadata": {
        "id": "c8722074-69f8-45bd-9be6-bfba75c0182f"
      },
      "outputs": [],
      "source": [
        "class DualTaskDataCollator:\n",
        "    def __init__(self, processor):\n",
        "        self.processor = processor\n",
        "\n",
        "    def __call__(self, batch):\n",
        "        # 音频特征处理\n",
        "        processed = self.processor.pad(\n",
        "            [{\"input_values\": x[\"input_values\"]} for x in batch],\n",
        "            return_tensors=\"pt\"\n",
        "        )\n",
        "\n",
        "        # 标签处理\n",
        "        processed[\"labels_emotion\"] = torch.tensor(\n",
        "            [x.get(\"emotion_label\", -100) for x in batch],\n",
        "            dtype=torch.long\n",
        "        )\n",
        "\n",
        "        processed[\"labels_intensity\"] = torch.tensor(\n",
        "            [x.get(\"intensity_label\", 0.0) for x in batch],\n",
        "            dtype=torch.float if any(isinstance(x.get(\"intensity_label\"), float) for x in batch) else torch.long\n",
        "        )\n",
        "\n",
        "        return processed"
      ]
    },
    {
      "cell_type": "code",
      "execution_count": null,
      "id": "086b72fb-b461-4277-8b11-e9f89690e237",
      "metadata": {
        "id": "086b72fb-b461-4277-8b11-e9f89690e237"
      },
      "outputs": [],
      "source": [
        "# 训练器\n",
        "class DualTaskTrainer(Trainer):\n",
        "    def compute_loss(self, model, inputs, return_outputs=False):\n",
        "        # 分离标签\n",
        "        labels_emotion = inputs.pop(\"labels_emotion\", None)\n",
        "        labels_intensity = inputs.pop(\"labels_intensity\", None)\n",
        "\n",
        "        # 前向传播\n",
        "        outputs = model(**inputs, labels_emotion=labels_emotion, labels_intensity=labels_intensity)\n",
        "\n",
        "        # 统一输出处理\n",
        "        if return_outputs:\n",
        "            return (outputs.loss, outputs) if outputs.loss is not None else (0.0, outputs)\n",
        "        return outputs.loss if outputs.loss is not None else 0.0\n",
        "\n",
        "    def prediction_step(self, model, inputs, prediction_loss_only=False, ignore_keys=None):\n",
        "        # 覆盖预测步骤以处理双任务\n",
        "        inputs = self._prepare_inputs(inputs)\n",
        "        with torch.no_grad():\n",
        "            outputs = model(**inputs)\n",
        "\n",
        "        if prediction_loss_only:\n",
        "            return (outputs.loss, None, None)\n",
        "\n",
        "        return (\n",
        "            outputs.loss,\n",
        "            {\"emotion\": outputs.logits_emotion, \"intensity\": outputs.logits_intensity},\n",
        "            {\"emotion\": inputs.get(\"labels_emotion\"), \"intensity\": inputs.get(\"labels_intensity\")}\n",
        "        )"
      ]
    },
    {
      "cell_type": "code",
      "execution_count": null,
      "id": "377069d9-5c91-494c-93a8-445eac6a765c",
      "metadata": {
        "id": "377069d9-5c91-494c-93a8-445eac6a765c"
      },
      "outputs": [],
      "source": [
        "# 评估指标\n",
        "def compute_unified_metrics(pred):\n",
        "    \"\"\"处理双任务评估指标\"\"\"\n",
        "    logits, labels = pred\n",
        "    results = {}\n",
        "\n",
        "    # 情感任务指标\n",
        "    if \"emotion\" in logits:\n",
        "        preds = logits[\"emotion\"].argmax(-1)\n",
        "        results.update({\n",
        "            \"emotion_acc\": (preds == labels[\"emotion\"]).float().mean().item(),\n",
        "            \"emotion_f1\": f1_score(labels[\"emotion\"].cpu(), preds.cpu(), average=\"macro\")\n",
        "        })\n",
        "\n",
        "    # 强度任务指标\n",
        "    if \"intensity\" in logits:\n",
        "        if logits[\"intensity\"].dim() > 1:  # 分类任务\n",
        "            preds = logits[\"intensity\"].argmax(-1)\n",
        "            results[\"intensity_acc\"] = (preds == labels[\"intensity\"]).float().mean().item()\n",
        "        else:  # 回归任务\n",
        "            results.update({\n",
        "                \"intensity_mse\": F.mse_loss(logits[\"intensity\"], labels[\"intensity\"].float()).item(),\n",
        "                \"intensity_mae\": F.l1_loss(logits[\"intensity\"], labels[\"intensity\"].float()).item()\n",
        "            })\n",
        "\n",
        "    return results"
      ]
    },
    {
      "cell_type": "code",
      "execution_count": null,
      "id": "4d24e432-f7b7-41ac-ab39-20297fe75da3",
      "metadata": {
        "id": "4d24e432-f7b7-41ac-ab39-20297fe75da3",
        "outputId": "7431a41c-9cb0-4d39-b708-43efeabfc074"
      },
      "outputs": [
        {
          "name": "stderr",
          "output_type": "stream",
          "text": [
            "Some weights of Wav2Vec2ForSpeechClassification were not initialized from the model checkpoint at wav2vec2-base-960h and are newly initialized: ['classifier.dense.bias', 'classifier.dense.weight', 'classifier.out_proj.bias', 'classifier.out_proj.weight', 'wav2vec2.encoder.pos_conv_embed.conv.parametrizations.weight.original0', 'wav2vec2.encoder.pos_conv_embed.conv.parametrizations.weight.original1', 'wav2vec2.masked_spec_embed']\n",
            "You should probably TRAIN this model on a down-stream task to be able to use it for predictions and inference.\n",
            "/tmp/ipykernel_1230/571828201.py:18: DeprecationWarning: an integer is required (got type float).  Implicit conversion to integers using __int__ is deprecated, and may be removed in a future version of Python.\n",
            "  processed[\"labels_intensity\"] = torch.tensor(\n"
          ]
        },
        {
          "ename": "TypeError",
          "evalue": "forward() got an unexpected keyword argument 'labels_emotion'",
          "output_type": "error",
          "traceback": [
            "\u001b[0;31m---------------------------------------------------------------------------\u001b[0m",
            "\u001b[0;31mTypeError\u001b[0m                                 Traceback (most recent call last)",
            "Input \u001b[0;32mIn [73]\u001b[0m, in \u001b[0;36m<cell line: 34>\u001b[0;34m()\u001b[0m\n\u001b[1;32m     24\u001b[0m trainer \u001b[38;5;241m=\u001b[39m DualTaskTrainer(\n\u001b[1;32m     25\u001b[0m     model\u001b[38;5;241m=\u001b[39mmodel,\n\u001b[1;32m     26\u001b[0m     args\u001b[38;5;241m=\u001b[39mtraining_args,\n\u001b[0;32m   (...)\u001b[0m\n\u001b[1;32m     30\u001b[0m     compute_metrics\u001b[38;5;241m=\u001b[39mcompute_unified_metrics\n\u001b[1;32m     31\u001b[0m )\n\u001b[1;32m     33\u001b[0m \u001b[38;5;66;03m# 训练与评估\u001b[39;00m\n\u001b[0;32m---> 34\u001b[0m \u001b[43mtrainer\u001b[49m\u001b[38;5;241;43m.\u001b[39;49m\u001b[43mtrain\u001b[49m\u001b[43m(\u001b[49m\u001b[43m)\u001b[49m\n\u001b[1;32m     35\u001b[0m eval_results \u001b[38;5;241m=\u001b[39m trainer\u001b[38;5;241m.\u001b[39mevaluate()\n",
            "File \u001b[0;32m~/miniconda3/lib/python3.8/site-packages/transformers/trainer.py:1539\u001b[0m, in \u001b[0;36mTrainer.train\u001b[0;34m(self, resume_from_checkpoint, trial, ignore_keys_for_eval, **kwargs)\u001b[0m\n\u001b[1;32m   1537\u001b[0m         hf_hub_utils\u001b[38;5;241m.\u001b[39menable_progress_bars()\n\u001b[1;32m   1538\u001b[0m \u001b[38;5;28;01melse\u001b[39;00m:\n\u001b[0;32m-> 1539\u001b[0m     \u001b[38;5;28;01mreturn\u001b[39;00m \u001b[43minner_training_loop\u001b[49m\u001b[43m(\u001b[49m\n\u001b[1;32m   1540\u001b[0m \u001b[43m        \u001b[49m\u001b[43margs\u001b[49m\u001b[38;5;241;43m=\u001b[39;49m\u001b[43margs\u001b[49m\u001b[43m,\u001b[49m\n\u001b[1;32m   1541\u001b[0m \u001b[43m        \u001b[49m\u001b[43mresume_from_checkpoint\u001b[49m\u001b[38;5;241;43m=\u001b[39;49m\u001b[43mresume_from_checkpoint\u001b[49m\u001b[43m,\u001b[49m\n\u001b[1;32m   1542\u001b[0m \u001b[43m        \u001b[49m\u001b[43mtrial\u001b[49m\u001b[38;5;241;43m=\u001b[39;49m\u001b[43mtrial\u001b[49m\u001b[43m,\u001b[49m\n\u001b[1;32m   1543\u001b[0m \u001b[43m        \u001b[49m\u001b[43mignore_keys_for_eval\u001b[49m\u001b[38;5;241;43m=\u001b[39;49m\u001b[43mignore_keys_for_eval\u001b[49m\u001b[43m,\u001b[49m\n\u001b[1;32m   1544\u001b[0m \u001b[43m    \u001b[49m\u001b[43m)\u001b[49m\n",
            "File \u001b[0;32m~/miniconda3/lib/python3.8/site-packages/transformers/trainer.py:1869\u001b[0m, in \u001b[0;36mTrainer._inner_training_loop\u001b[0;34m(self, batch_size, args, resume_from_checkpoint, trial, ignore_keys_for_eval)\u001b[0m\n\u001b[1;32m   1866\u001b[0m     \u001b[38;5;28mself\u001b[39m\u001b[38;5;241m.\u001b[39mcontrol \u001b[38;5;241m=\u001b[39m \u001b[38;5;28mself\u001b[39m\u001b[38;5;241m.\u001b[39mcallback_handler\u001b[38;5;241m.\u001b[39mon_step_begin(args, \u001b[38;5;28mself\u001b[39m\u001b[38;5;241m.\u001b[39mstate, \u001b[38;5;28mself\u001b[39m\u001b[38;5;241m.\u001b[39mcontrol)\n\u001b[1;32m   1868\u001b[0m \u001b[38;5;28;01mwith\u001b[39;00m \u001b[38;5;28mself\u001b[39m\u001b[38;5;241m.\u001b[39maccelerator\u001b[38;5;241m.\u001b[39maccumulate(model):\n\u001b[0;32m-> 1869\u001b[0m     tr_loss_step \u001b[38;5;241m=\u001b[39m \u001b[38;5;28;43mself\u001b[39;49m\u001b[38;5;241;43m.\u001b[39;49m\u001b[43mtraining_step\u001b[49m\u001b[43m(\u001b[49m\u001b[43mmodel\u001b[49m\u001b[43m,\u001b[49m\u001b[43m \u001b[49m\u001b[43minputs\u001b[49m\u001b[43m)\u001b[49m\n\u001b[1;32m   1871\u001b[0m \u001b[38;5;28;01mif\u001b[39;00m (\n\u001b[1;32m   1872\u001b[0m     args\u001b[38;5;241m.\u001b[39mlogging_nan_inf_filter\n\u001b[1;32m   1873\u001b[0m     \u001b[38;5;129;01mand\u001b[39;00m \u001b[38;5;129;01mnot\u001b[39;00m is_torch_tpu_available()\n\u001b[1;32m   1874\u001b[0m     \u001b[38;5;129;01mand\u001b[39;00m (torch\u001b[38;5;241m.\u001b[39misnan(tr_loss_step) \u001b[38;5;129;01mor\u001b[39;00m torch\u001b[38;5;241m.\u001b[39misinf(tr_loss_step))\n\u001b[1;32m   1875\u001b[0m ):\n\u001b[1;32m   1876\u001b[0m     \u001b[38;5;66;03m# if loss is nan or inf simply add the average of previous logged losses\u001b[39;00m\n\u001b[1;32m   1877\u001b[0m     tr_loss \u001b[38;5;241m+\u001b[39m\u001b[38;5;241m=\u001b[39m tr_loss \u001b[38;5;241m/\u001b[39m (\u001b[38;5;241m1\u001b[39m \u001b[38;5;241m+\u001b[39m \u001b[38;5;28mself\u001b[39m\u001b[38;5;241m.\u001b[39mstate\u001b[38;5;241m.\u001b[39mglobal_step \u001b[38;5;241m-\u001b[39m \u001b[38;5;28mself\u001b[39m\u001b[38;5;241m.\u001b[39m_globalstep_last_logged)\n",
            "File \u001b[0;32m~/miniconda3/lib/python3.8/site-packages/transformers/trainer.py:2768\u001b[0m, in \u001b[0;36mTrainer.training_step\u001b[0;34m(self, model, inputs)\u001b[0m\n\u001b[1;32m   2765\u001b[0m     \u001b[38;5;28;01mreturn\u001b[39;00m loss_mb\u001b[38;5;241m.\u001b[39mreduce_mean()\u001b[38;5;241m.\u001b[39mdetach()\u001b[38;5;241m.\u001b[39mto(\u001b[38;5;28mself\u001b[39m\u001b[38;5;241m.\u001b[39margs\u001b[38;5;241m.\u001b[39mdevice)\n\u001b[1;32m   2767\u001b[0m \u001b[38;5;28;01mwith\u001b[39;00m \u001b[38;5;28mself\u001b[39m\u001b[38;5;241m.\u001b[39mcompute_loss_context_manager():\n\u001b[0;32m-> 2768\u001b[0m     loss \u001b[38;5;241m=\u001b[39m \u001b[38;5;28;43mself\u001b[39;49m\u001b[38;5;241;43m.\u001b[39;49m\u001b[43mcompute_loss\u001b[49m\u001b[43m(\u001b[49m\u001b[43mmodel\u001b[49m\u001b[43m,\u001b[49m\u001b[43m \u001b[49m\u001b[43minputs\u001b[49m\u001b[43m)\u001b[49m\n\u001b[1;32m   2770\u001b[0m \u001b[38;5;28;01mif\u001b[39;00m \u001b[38;5;28mself\u001b[39m\u001b[38;5;241m.\u001b[39margs\u001b[38;5;241m.\u001b[39mn_gpu \u001b[38;5;241m>\u001b[39m \u001b[38;5;241m1\u001b[39m:\n\u001b[1;32m   2771\u001b[0m     loss \u001b[38;5;241m=\u001b[39m loss\u001b[38;5;241m.\u001b[39mmean()  \u001b[38;5;66;03m# mean() to average on multi-gpu parallel training\u001b[39;00m\n",
            "Input \u001b[0;32mIn [70]\u001b[0m, in \u001b[0;36mDualTaskTrainer.compute_loss\u001b[0;34m(self, model, inputs, return_outputs)\u001b[0m\n\u001b[1;32m      6\u001b[0m labels_intensity \u001b[38;5;241m=\u001b[39m inputs\u001b[38;5;241m.\u001b[39mpop(\u001b[38;5;124m\"\u001b[39m\u001b[38;5;124mlabels_intensity\u001b[39m\u001b[38;5;124m\"\u001b[39m, \u001b[38;5;28;01mNone\u001b[39;00m)\n\u001b[1;32m      8\u001b[0m \u001b[38;5;66;03m# 前向传播\u001b[39;00m\n\u001b[0;32m----> 9\u001b[0m outputs \u001b[38;5;241m=\u001b[39m \u001b[43mmodel\u001b[49m\u001b[43m(\u001b[49m\u001b[38;5;241;43m*\u001b[39;49m\u001b[38;5;241;43m*\u001b[39;49m\u001b[43minputs\u001b[49m\u001b[43m,\u001b[49m\u001b[43m \u001b[49m\u001b[43mlabels_emotion\u001b[49m\u001b[38;5;241;43m=\u001b[39;49m\u001b[43mlabels_emotion\u001b[49m\u001b[43m,\u001b[49m\u001b[43m \u001b[49m\u001b[43mlabels_intensity\u001b[49m\u001b[38;5;241;43m=\u001b[39;49m\u001b[43mlabels_intensity\u001b[49m\u001b[43m)\u001b[49m\n\u001b[1;32m     11\u001b[0m \u001b[38;5;66;03m# 统一输出处理\u001b[39;00m\n\u001b[1;32m     12\u001b[0m \u001b[38;5;28;01mif\u001b[39;00m return_outputs:\n",
            "File \u001b[0;32m~/miniconda3/lib/python3.8/site-packages/torch/nn/modules/module.py:1518\u001b[0m, in \u001b[0;36mModule._wrapped_call_impl\u001b[0;34m(self, *args, **kwargs)\u001b[0m\n\u001b[1;32m   1516\u001b[0m     \u001b[38;5;28;01mreturn\u001b[39;00m \u001b[38;5;28mself\u001b[39m\u001b[38;5;241m.\u001b[39m_compiled_call_impl(\u001b[38;5;241m*\u001b[39margs, \u001b[38;5;241m*\u001b[39m\u001b[38;5;241m*\u001b[39mkwargs)  \u001b[38;5;66;03m# type: ignore[misc]\u001b[39;00m\n\u001b[1;32m   1517\u001b[0m \u001b[38;5;28;01melse\u001b[39;00m:\n\u001b[0;32m-> 1518\u001b[0m     \u001b[38;5;28;01mreturn\u001b[39;00m \u001b[38;5;28;43mself\u001b[39;49m\u001b[38;5;241;43m.\u001b[39;49m\u001b[43m_call_impl\u001b[49m\u001b[43m(\u001b[49m\u001b[38;5;241;43m*\u001b[39;49m\u001b[43margs\u001b[49m\u001b[43m,\u001b[49m\u001b[43m \u001b[49m\u001b[38;5;241;43m*\u001b[39;49m\u001b[38;5;241;43m*\u001b[39;49m\u001b[43mkwargs\u001b[49m\u001b[43m)\u001b[49m\n",
            "File \u001b[0;32m~/miniconda3/lib/python3.8/site-packages/torch/nn/modules/module.py:1527\u001b[0m, in \u001b[0;36mModule._call_impl\u001b[0;34m(self, *args, **kwargs)\u001b[0m\n\u001b[1;32m   1522\u001b[0m \u001b[38;5;66;03m# If we don't have any hooks, we want to skip the rest of the logic in\u001b[39;00m\n\u001b[1;32m   1523\u001b[0m \u001b[38;5;66;03m# this function, and just call forward.\u001b[39;00m\n\u001b[1;32m   1524\u001b[0m \u001b[38;5;28;01mif\u001b[39;00m \u001b[38;5;129;01mnot\u001b[39;00m (\u001b[38;5;28mself\u001b[39m\u001b[38;5;241m.\u001b[39m_backward_hooks \u001b[38;5;129;01mor\u001b[39;00m \u001b[38;5;28mself\u001b[39m\u001b[38;5;241m.\u001b[39m_backward_pre_hooks \u001b[38;5;129;01mor\u001b[39;00m \u001b[38;5;28mself\u001b[39m\u001b[38;5;241m.\u001b[39m_forward_hooks \u001b[38;5;129;01mor\u001b[39;00m \u001b[38;5;28mself\u001b[39m\u001b[38;5;241m.\u001b[39m_forward_pre_hooks\n\u001b[1;32m   1525\u001b[0m         \u001b[38;5;129;01mor\u001b[39;00m _global_backward_pre_hooks \u001b[38;5;129;01mor\u001b[39;00m _global_backward_hooks\n\u001b[1;32m   1526\u001b[0m         \u001b[38;5;129;01mor\u001b[39;00m _global_forward_hooks \u001b[38;5;129;01mor\u001b[39;00m _global_forward_pre_hooks):\n\u001b[0;32m-> 1527\u001b[0m     \u001b[38;5;28;01mreturn\u001b[39;00m \u001b[43mforward_call\u001b[49m\u001b[43m(\u001b[49m\u001b[38;5;241;43m*\u001b[39;49m\u001b[43margs\u001b[49m\u001b[43m,\u001b[49m\u001b[43m \u001b[49m\u001b[38;5;241;43m*\u001b[39;49m\u001b[38;5;241;43m*\u001b[39;49m\u001b[43mkwargs\u001b[49m\u001b[43m)\u001b[49m\n\u001b[1;32m   1529\u001b[0m \u001b[38;5;28;01mtry\u001b[39;00m:\n\u001b[1;32m   1530\u001b[0m     result \u001b[38;5;241m=\u001b[39m \u001b[38;5;28;01mNone\u001b[39;00m\n",
            "File \u001b[0;32m~/miniconda3/lib/python3.8/site-packages/accelerate/utils/operations.py:687\u001b[0m, in \u001b[0;36mconvert_outputs_to_fp32.<locals>.forward\u001b[0;34m(*args, **kwargs)\u001b[0m\n\u001b[1;32m    686\u001b[0m \u001b[38;5;28;01mdef\u001b[39;00m \u001b[38;5;21mforward\u001b[39m(\u001b[38;5;241m*\u001b[39margs, \u001b[38;5;241m*\u001b[39m\u001b[38;5;241m*\u001b[39mkwargs):\n\u001b[0;32m--> 687\u001b[0m     \u001b[38;5;28;01mreturn\u001b[39;00m \u001b[43mmodel_forward\u001b[49m\u001b[43m(\u001b[49m\u001b[38;5;241;43m*\u001b[39;49m\u001b[43margs\u001b[49m\u001b[43m,\u001b[49m\u001b[43m \u001b[49m\u001b[38;5;241;43m*\u001b[39;49m\u001b[38;5;241;43m*\u001b[39;49m\u001b[43mkwargs\u001b[49m\u001b[43m)\u001b[49m\n",
            "File \u001b[0;32m~/miniconda3/lib/python3.8/site-packages/accelerate/utils/operations.py:675\u001b[0m, in \u001b[0;36mConvertOutputsToFp32.__call__\u001b[0;34m(self, *args, **kwargs)\u001b[0m\n\u001b[1;32m    674\u001b[0m \u001b[38;5;28;01mdef\u001b[39;00m \u001b[38;5;21m__call__\u001b[39m(\u001b[38;5;28mself\u001b[39m, \u001b[38;5;241m*\u001b[39margs, \u001b[38;5;241m*\u001b[39m\u001b[38;5;241m*\u001b[39mkwargs):\n\u001b[0;32m--> 675\u001b[0m     \u001b[38;5;28;01mreturn\u001b[39;00m convert_to_fp32(\u001b[38;5;28;43mself\u001b[39;49m\u001b[38;5;241;43m.\u001b[39;49m\u001b[43mmodel_forward\u001b[49m\u001b[43m(\u001b[49m\u001b[38;5;241;43m*\u001b[39;49m\u001b[43margs\u001b[49m\u001b[43m,\u001b[49m\u001b[43m \u001b[49m\u001b[38;5;241;43m*\u001b[39;49m\u001b[38;5;241;43m*\u001b[39;49m\u001b[43mkwargs\u001b[49m\u001b[43m)\u001b[49m)\n",
            "File \u001b[0;32m~/miniconda3/lib/python3.8/site-packages/torch/amp/autocast_mode.py:16\u001b[0m, in \u001b[0;36mautocast_decorator.<locals>.decorate_autocast\u001b[0;34m(*args, **kwargs)\u001b[0m\n\u001b[1;32m     13\u001b[0m \u001b[38;5;129m@functools\u001b[39m\u001b[38;5;241m.\u001b[39mwraps(func)\n\u001b[1;32m     14\u001b[0m \u001b[38;5;28;01mdef\u001b[39;00m \u001b[38;5;21mdecorate_autocast\u001b[39m(\u001b[38;5;241m*\u001b[39margs, \u001b[38;5;241m*\u001b[39m\u001b[38;5;241m*\u001b[39mkwargs):\n\u001b[1;32m     15\u001b[0m     \u001b[38;5;28;01mwith\u001b[39;00m autocast_instance:\n\u001b[0;32m---> 16\u001b[0m         \u001b[38;5;28;01mreturn\u001b[39;00m \u001b[43mfunc\u001b[49m\u001b[43m(\u001b[49m\u001b[38;5;241;43m*\u001b[39;49m\u001b[43margs\u001b[49m\u001b[43m,\u001b[49m\u001b[43m \u001b[49m\u001b[38;5;241;43m*\u001b[39;49m\u001b[38;5;241;43m*\u001b[39;49m\u001b[43mkwargs\u001b[49m\u001b[43m)\u001b[49m\n",
            "\u001b[0;31mTypeError\u001b[0m: forward() got an unexpected keyword argument 'labels_emotion'"
          ]
        }
      ],
      "source": [
        "# 初始化组件\n",
        "processor = Wav2Vec2Processor.from_pretrained(\"wav2vec2-base-960h\")\n",
        "collator = DualTaskDataCollator(processor)\n",
        "model = Wav2Vec2ForSpeechClassification.from_pretrained(\n",
        "    \"wav2vec2-base-960h\",\n",
        "    config=config,\n",
        ")\n",
        "# 训练配置\n",
        "training_args = TrainingArguments(\n",
        "    output_dir=\"./results\",\n",
        "    per_device_train_batch_size=8,\n",
        "    evaluation_strategy=\"steps\",\n",
        "    eval_steps=500,\n",
        "    logging_steps=100,\n",
        "    learning_rate=5e-5,\n",
        "    fp16=True,\n",
        "    save_strategy=\"steps\",\n",
        "    save_steps=1000,\n",
        "    metric_for_best_model=\"emotion_f1\",\n",
        "    load_best_model_at_end=True\n",
        ")\n",
        "\n",
        "# 创建训练器\n",
        "trainer = DualTaskTrainer(\n",
        "    model=model,\n",
        "    args=training_args,\n",
        "    train_dataset=train_dataset,\n",
        "    eval_dataset=eval_dataset,\n",
        "    data_collator=collator,\n",
        "    compute_metrics=compute_unified_metrics\n",
        ")\n",
        "\n",
        "# 训练与评估\n",
        "trainer.train()\n",
        "eval_results = trainer.evaluate()"
      ]
    },
    {
      "cell_type": "code",
      "execution_count": null,
      "id": "bbdf9b14-a4c0-42ec-9562-acb16d1cd60f",
      "metadata": {
        "id": "bbdf9b14-a4c0-42ec-9562-acb16d1cd60f"
      },
      "outputs": [],
      "source": []
    }
  ],
  "metadata": {
    "kernelspec": {
      "display_name": "Python 3",
      "name": "python3"
    },
    "language_info": {
      "codemirror_mode": {
        "name": "ipython",
        "version": 3
      },
      "file_extension": ".py",
      "mimetype": "text/x-python",
      "name": "python",
      "nbconvert_exporter": "python",
      "pygments_lexer": "ipython3",
      "version": "3.8.10"
    },
    "colab": {
      "provenance": [],
      "gpuType": "A100"
    },
    "accelerator": "GPU"
  },
  "nbformat": 4,
  "nbformat_minor": 5
}